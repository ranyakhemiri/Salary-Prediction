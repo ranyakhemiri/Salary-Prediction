{
 "cells": [
  {
   "cell_type": "code",
   "execution_count": null,
   "id": "69084676-fe96-4b52-a11c-b640e8076083",
   "metadata": {},
   "outputs": [],
   "source": [
    "arn:aws:s3:::project1-training"
   ]
  },
  {
   "cell_type": "markdown",
   "id": "d9baed8a-60a7-48a2-99fb-8776f0c9bfa6",
   "metadata": {},
   "source": [
    "## Prequisites "
   ]
  },
  {
   "cell_type": "code",
   "execution_count": 4,
   "id": "7c49ee02-1367-483f-b8af-2638516c9ead",
   "metadata": {
    "tags": []
   },
   "outputs": [],
   "source": [
    "import pandas as pd\n",
    "import numpy as np\n",
    "import seaborn as sns \n",
    "import matplotlib.pyplot as plt \n",
    "salary_df = pd.read_csv('salary.csv')\n",
    "X= salary_df[['YearsExperience']] \n",
    "y = salary_df[['Salary']] \n",
    "X= np.array(X).astype('float32')\n",
    "y= np.array(y).astype('float32')\n",
    "from sklearn.model_selection import train_test_split \n",
    "X_train, X_test, y_train, y_test = train_test_split(X,y, test_size = 0.25) # 20% of data allocated for testing, 80% training"
   ]
  },
  {
   "cell_type": "markdown",
   "id": "410030c1-2205-430c-8c5e-c95029b54ead",
   "metadata": {},
   "source": [
    "# Salary prediction using SageMaker and Boto3"
   ]
  },
  {
   "cell_type": "code",
   "execution_count": 34,
   "id": "6ce9722c-bc06-49a1-a78a-91e300ae5158",
   "metadata": {
    "tags": []
   },
   "outputs": [],
   "source": [
    "import sagemaker\n",
    "import boto3\n",
    "\n",
    "# define sagemaker session \n",
    "sagemaker_sess = sagemaker.Session()\n",
    "\n",
    "# define s3 bucket \n",
    "bucket = 'salaryprediction'\n",
    "\n",
    "#define a prefix (subfolder in the bucket)\n",
    "prefix = 'linear_learner'\n",
    "\n",
    "#get IAM role \n",
    "role = sagemaker.get_execution_role()"
   ]
  },
  {
   "cell_type": "code",
   "execution_count": 35,
   "id": "ac179047-03c8-40e0-a0b6-174ba7e2529a",
   "metadata": {
    "tags": []
   },
   "outputs": [
    {
     "data": {
      "text/plain": [
       "(26, 1)"
      ]
     },
     "execution_count": 35,
     "metadata": {},
     "output_type": "execute_result"
    }
   ],
   "source": [
    "X_train.shape"
   ]
  },
  {
   "cell_type": "code",
   "execution_count": 36,
   "id": "43fbfc7f-51f8-42ed-8532-c80f0567d5d1",
   "metadata": {
    "tags": []
   },
   "outputs": [
    {
     "ename": "IndexError",
     "evalue": "too many indices for array: array is 1-dimensional, but 2 were indexed",
     "output_type": "error",
     "traceback": [
      "\u001b[0;31m---------------------------------------------------------------------------\u001b[0m",
      "\u001b[0;31mIndexError\u001b[0m                                Traceback (most recent call last)",
      "\u001b[0;32m<ipython-input-36-b128f69a7039>\u001b[0m in \u001b[0;36m<module>\u001b[0;34m\u001b[0m\n\u001b[0;32m----> 1\u001b[0;31m \u001b[0my_train\u001b[0m \u001b[0;34m=\u001b[0m \u001b[0my_train\u001b[0m\u001b[0;34m[\u001b[0m\u001b[0;34m:\u001b[0m\u001b[0;34m,\u001b[0m\u001b[0;36m0\u001b[0m\u001b[0;34m]\u001b[0m \u001b[0;31m#transforming to a vector format\u001b[0m\u001b[0;34m\u001b[0m\u001b[0;34m\u001b[0m\u001b[0m\n\u001b[0m\u001b[1;32m      2\u001b[0m \u001b[0my_train\u001b[0m\u001b[0;34m.\u001b[0m\u001b[0mshape\u001b[0m\u001b[0;34m\u001b[0m\u001b[0;34m\u001b[0m\u001b[0m\n",
      "\u001b[0;31mIndexError\u001b[0m: too many indices for array: array is 1-dimensional, but 2 were indexed"
     ]
    }
   ],
   "source": [
    "y_train = y_train[:,0] #transforming to a vector format\n",
    "y_train.shape"
   ]
  },
  {
   "cell_type": "markdown",
   "id": "cfde230d-fe66-4bb2-85d6-5414e5b8be64",
   "metadata": {},
   "source": [
    "#### 1. Numpy array --> RecordIO format"
   ]
  },
  {
   "cell_type": "code",
   "execution_count": 37,
   "id": "794fb6d4-27cd-4914-bc6b-433ad772a166",
   "metadata": {
    "tags": []
   },
   "outputs": [
    {
     "data": {
      "text/plain": [
       "0"
      ]
     },
     "execution_count": 37,
     "metadata": {},
     "output_type": "execute_result"
    }
   ],
   "source": [
    "import io\n",
    "import sagemaker.amazon.common as smac #helps us make the conversion below \n",
    "# convert a numpy array format to a RecordIO format\n",
    "buf= io.BytesIO() \n",
    "smac.write_numpy_to_dense_tensor(buf, X_train, y_train)\n",
    "buf.seek(0) \n",
    "# the data is in \"buf\" "
   ]
  },
  {
   "cell_type": "markdown",
   "id": "b5a039ed-4310-4c21-9391-70813c2c1677",
   "metadata": {
    "tags": []
   },
   "source": [
    "#### 2. import data to S3"
   ]
  },
  {
   "cell_type": "code",
   "execution_count": 38,
   "id": "97949cb7-50a2-410b-937d-8294caacd8ec",
   "metadata": {},
   "outputs": [
    {
     "name": "stdout",
     "output_type": "stream",
     "text": [
      "Upload successful. Training data location: s3://salaryprediction/linear_learner/train/linear-train-data\n"
     ]
    }
   ],
   "source": [
    "import os \n",
    "key= 'linear-train-data' #name of the file\n",
    "\n",
    "boto3.resource('s3').Bucket(bucket).Object(os.path.join(prefix,'train',key)).upload_fileobj(buf)\n",
    "\n",
    "s3_train_data ='s3://{}/{}/train/{}'.format(bucket, prefix, key)\n",
    "print ('Upload successful. Training data location: {}'.format(s3_train_data))"
   ]
  },
  {
   "cell_type": "markdown",
   "id": "a5d098c6-3484-4d22-8ee2-d0d534f88225",
   "metadata": {},
   "source": [
    "#### 3. specify outfut location in S3"
   ]
  },
  {
   "cell_type": "code",
   "execution_count": 39,
   "id": "22f4bd04-7ead-4591-8dae-a12132db5ffe",
   "metadata": {
    "tags": []
   },
   "outputs": [],
   "source": [
    "#specifying output location\n",
    "output_location= 's3://{}/{}/output'.format(bucket, prefix)"
   ]
  },
  {
   "cell_type": "markdown",
   "id": "e2625f1b-57ed-4b3c-9b9b-c6d107ffc116",
   "metadata": {},
   "source": [
    "#### 4. get algorithm container image (algorithm to be used: Linear Learner by SageMaker)"
   ]
  },
  {
   "cell_type": "code",
   "execution_count": 40,
   "id": "6251ab8f-ecdc-453d-aba6-b6b581cd6a2d",
   "metadata": {
    "tags": []
   },
   "outputs": [
    {
     "name": "stderr",
     "output_type": "stream",
     "text": [
      "INFO:sagemaker.image_uris:Same images used for training and inference. Defaulting to image scope: inference.\n",
      "INFO:sagemaker.image_uris:Defaulting to the only supported framework/algorithm version: 1.\n",
      "INFO:sagemaker.image_uris:Ignoring unnecessary instance type: None.\n"
     ]
    }
   ],
   "source": [
    "from sagemaker.amazon.amazon_estimator import image_uris\n",
    "\n",
    "container = image_uris.retrieve('linear-learner',boto3.Session().region_name)"
   ]
  },
  {
   "cell_type": "markdown",
   "id": "8d987c9c-1e0c-4185-97bb-5dbdaa86342d",
   "metadata": {},
   "source": [
    "#### 5. Pass information to algorithm container "
   ]
  },
  {
   "cell_type": "code",
   "execution_count": 43,
   "id": "b3555412-f671-4210-a709-0c38b9e59b49",
   "metadata": {
    "tags": []
   },
   "outputs": [
    {
     "name": "stderr",
     "output_type": "stream",
     "text": [
      "INFO:sagemaker:Creating training-job with name: linear-learner-2023-04-25-12-06-22-558\n"
     ]
    },
    {
     "name": "stdout",
     "output_type": "stream",
     "text": [
      "2023-04-25 12:06:23 Starting - Starting the training job...\n",
      "2023-04-25 12:06:47 Starting - Preparing the instances for training......\n",
      "2023-04-25 12:07:34 Downloading - Downloading input data......\n",
      "2023-04-25 12:08:39 Training - Downloading the training image...\n",
      "2023-04-25 12:09:20 Training - Training image download completed. Training in progress.\u001b[34mDocker entrypoint called with argument(s): train\u001b[0m\n",
      "\u001b[34mRunning default environment configuration script\u001b[0m\n",
      "\u001b[34m[04/25/2023 12:09:24 INFO 139915425793856] Reading default configuration from /opt/amazon/lib/python3.7/site-packages/algorithm/resources/default-input.json: {'mini_batch_size': '1000', 'epochs': '15', 'feature_dim': 'auto', 'use_bias': 'true', 'binary_classifier_model_selection_criteria': 'accuracy', 'f_beta': '1.0', 'target_recall': '0.8', 'target_precision': '0.8', 'num_models': 'auto', 'num_calibration_samples': '10000000', 'init_method': 'uniform', 'init_scale': '0.07', 'init_sigma': '0.01', 'init_bias': '0.0', 'optimizer': 'auto', 'loss': 'auto', 'margin': '1.0', 'quantile': '0.5', 'loss_insensitivity': '0.01', 'huber_delta': '1.0', 'num_classes': '1', 'accuracy_top_k': '3', 'wd': 'auto', 'l1': 'auto', 'momentum': 'auto', 'learning_rate': 'auto', 'beta_1': 'auto', 'beta_2': 'auto', 'bias_lr_mult': 'auto', 'bias_wd_mult': 'auto', 'use_lr_scheduler': 'true', 'lr_scheduler_step': 'auto', 'lr_scheduler_factor': 'auto', 'lr_scheduler_minimum_lr': 'auto', 'positive_example_weight_mult': '1.0', 'balance_multiclass_weights': 'false', 'normalize_data': 'true', 'normalize_label': 'auto', 'unbias_data': 'auto', 'unbias_label': 'auto', 'num_point_for_scaler': '10000', '_kvstore': 'auto', '_num_gpus': 'auto', '_num_kv_servers': 'auto', '_log_level': 'info', '_tuning_objective_metric': '', 'early_stopping_patience': '3', 'early_stopping_tolerance': '0.001', '_enable_profiler': 'false'}\u001b[0m\n",
      "\u001b[34m[04/25/2023 12:09:24 INFO 139915425793856] Merging with provided configuration from /opt/ml/input/config/hyperparameters.json: {'epochs': '50', 'feature_dim': '1', 'loss': 'absolute_loss', 'mini_batch_size': '5', 'num_models': '32', 'predictor_type': 'regressor'}\u001b[0m\n",
      "\u001b[34m[04/25/2023 12:09:24 INFO 139915425793856] Final configuration: {'mini_batch_size': '5', 'epochs': '50', 'feature_dim': '1', 'use_bias': 'true', 'binary_classifier_model_selection_criteria': 'accuracy', 'f_beta': '1.0', 'target_recall': '0.8', 'target_precision': '0.8', 'num_models': '32', 'num_calibration_samples': '10000000', 'init_method': 'uniform', 'init_scale': '0.07', 'init_sigma': '0.01', 'init_bias': '0.0', 'optimizer': 'auto', 'loss': 'absolute_loss', 'margin': '1.0', 'quantile': '0.5', 'loss_insensitivity': '0.01', 'huber_delta': '1.0', 'num_classes': '1', 'accuracy_top_k': '3', 'wd': 'auto', 'l1': 'auto', 'momentum': 'auto', 'learning_rate': 'auto', 'beta_1': 'auto', 'beta_2': 'auto', 'bias_lr_mult': 'auto', 'bias_wd_mult': 'auto', 'use_lr_scheduler': 'true', 'lr_scheduler_step': 'auto', 'lr_scheduler_factor': 'auto', 'lr_scheduler_minimum_lr': 'auto', 'positive_example_weight_mult': '1.0', 'balance_multiclass_weights': 'false', 'normalize_data': 'true', 'normalize_label': 'auto', 'unbias_data': 'auto', 'unbias_label': 'auto', 'num_point_for_scaler': '10000', '_kvstore': 'auto', '_num_gpus': 'auto', '_num_kv_servers': 'auto', '_log_level': 'info', '_tuning_objective_metric': '', 'early_stopping_patience': '3', 'early_stopping_tolerance': '0.001', '_enable_profiler': 'false', 'predictor_type': 'regressor'}\u001b[0m\n",
      "\u001b[34m[04/25/2023 12:09:27 WARNING 139915425793856] Loggers have already been setup.\u001b[0m\n",
      "\u001b[34m[04/25/2023 12:09:27 INFO 139915425793856] Final configuration: {'mini_batch_size': '5', 'epochs': '50', 'feature_dim': '1', 'use_bias': 'true', 'binary_classifier_model_selection_criteria': 'accuracy', 'f_beta': '1.0', 'target_recall': '0.8', 'target_precision': '0.8', 'num_models': '32', 'num_calibration_samples': '10000000', 'init_method': 'uniform', 'init_scale': '0.07', 'init_sigma': '0.01', 'init_bias': '0.0', 'optimizer': 'auto', 'loss': 'absolute_loss', 'margin': '1.0', 'quantile': '0.5', 'loss_insensitivity': '0.01', 'huber_delta': '1.0', 'num_classes': '1', 'accuracy_top_k': '3', 'wd': 'auto', 'l1': 'auto', 'momentum': 'auto', 'learning_rate': 'auto', 'beta_1': 'auto', 'beta_2': 'auto', 'bias_lr_mult': 'auto', 'bias_wd_mult': 'auto', 'use_lr_scheduler': 'true', 'lr_scheduler_step': 'auto', 'lr_scheduler_factor': 'auto', 'lr_scheduler_minimum_lr': 'auto', 'positive_example_weight_mult': '1.0', 'balance_multiclass_weights': 'false', 'normalize_data': 'true', 'normalize_label': 'auto', 'unbias_data': 'auto', 'unbias_label': 'auto', 'num_point_for_scaler': '10000', '_kvstore': 'auto', '_num_gpus': 'auto', '_num_kv_servers': 'auto', '_log_level': 'info', '_tuning_objective_metric': '', 'early_stopping_patience': '3', 'early_stopping_tolerance': '0.001', '_enable_profiler': 'false', 'predictor_type': 'regressor'}\u001b[0m\n",
      "\u001b[34m[04/25/2023 12:09:27 WARNING 139915425793856] Loggers have already been setup.\u001b[0m\n",
      "\u001b[34mProcess 7 is a worker.\u001b[0m\n",
      "\u001b[34m[04/25/2023 12:09:27 INFO 139915425793856] Using default worker.\u001b[0m\n",
      "\u001b[34m[04/25/2023 12:09:27 INFO 139915425793856] Checkpoint loading and saving are disabled.\u001b[0m\n",
      "\u001b[34m[2023-04-25 12:09:27.443] [tensorio] [info] epoch_stats={\"data_pipeline\": \"/opt/ml/input/data/train\", \"epoch\": 0, \"duration\": 13, \"num_examples\": 1, \"num_bytes\": 240}\u001b[0m\n",
      "\u001b[34m[04/25/2023 12:09:27 INFO 139915425793856] Create Store: local\u001b[0m\n",
      "\u001b[34m[2023-04-25 12:09:27.488] [tensorio] [info] epoch_stats={\"data_pipeline\": \"/opt/ml/input/data/train\", \"epoch\": 1, \"duration\": 44, \"num_examples\": 6, \"num_bytes\": 1248}\u001b[0m\n",
      "\u001b[34m[04/25/2023 12:09:27 INFO 139915425793856] Scaler algorithm parameters\n",
      " <algorithm.scaler.ScalerAlgorithmStable object at 0x7f4008dc5150>\u001b[0m\n",
      "\u001b[34m[04/25/2023 12:09:27 INFO 139915425793856] Scaling model computed with parameters:\n",
      " {'stdev_label': \u001b[0m\n",
      "\u001b[34m[32349.402]\u001b[0m\n",
      "\u001b[34m<NDArray 1 @cpu(0)>, 'stdev_weight': \u001b[0m\n",
      "\u001b[34m[3.5812979]\u001b[0m\n",
      "\u001b[34m<NDArray 1 @cpu(0)>, 'mean_label': \u001b[0m\n",
      "\u001b[34m[83291.766]\u001b[0m\n",
      "\u001b[34m<NDArray 1 @cpu(0)>, 'mean_weight': \u001b[0m\n",
      "\u001b[34m[6.248]\u001b[0m\n",
      "\u001b[34m<NDArray 1 @cpu(0)>}\u001b[0m\n",
      "\u001b[34m[04/25/2023 12:09:27 INFO 139915425793856] nvidia-smi: took 0.032 seconds to run.\u001b[0m\n",
      "\u001b[34m[04/25/2023 12:09:27 INFO 139915425793856] nvidia-smi identified 0 GPUs.\u001b[0m\n",
      "\u001b[34m[04/25/2023 12:09:27 INFO 139915425793856] Number of GPUs being used: 0\u001b[0m\n",
      "\u001b[34m#metrics {\"StartTime\": 1682424567.5960674, \"EndTime\": 1682424567.596102, \"Dimensions\": {\"Algorithm\": \"Linear Learner\", \"Host\": \"algo-1\", \"Operation\": \"training\", \"Meta\": \"init_train_data_iter\"}, \"Metrics\": {\"Total Records Seen\": {\"sum\": 31.0, \"count\": 1, \"min\": 31, \"max\": 31}, \"Total Batches Seen\": {\"sum\": 7.0, \"count\": 1, \"min\": 7, \"max\": 7}, \"Max Records Seen Between Resets\": {\"sum\": 26.0, \"count\": 1, \"min\": 26, \"max\": 26}, \"Max Batches Seen Between Resets\": {\"sum\": 6.0, \"count\": 1, \"min\": 6, \"max\": 6}, \"Reset Count\": {\"sum\": 2.0, \"count\": 1, \"min\": 2, \"max\": 2}, \"Number of Records Since Last Reset\": {\"sum\": 0.0, \"count\": 1, \"min\": 0, \"max\": 0}, \"Number of Batches Since Last Reset\": {\"sum\": 0.0, \"count\": 1, \"min\": 0, \"max\": 0}}}\u001b[0m\n",
      "\u001b[34m[2023-04-25 12:09:27.698] [tensorio] [info] epoch_stats={\"data_pipeline\": \"/opt/ml/input/data/train\", \"epoch\": 4, \"duration\": 101, \"num_examples\": 6, \"num_bytes\": 1248}\u001b[0m\n",
      "\u001b[34m#metrics {\"StartTime\": 1682424567.6983733, \"EndTime\": 1682424567.6984615, \"Dimensions\": {\"Algorithm\": \"Linear Learner\", \"Host\": \"algo-1\", \"Operation\": \"training\", \"epoch\": 0, \"model\": 0}, \"Metrics\": {\"train_absolute_loss_objective\": {\"sum\": 0.9040113258361816, \"count\": 1, \"min\": 0.9040113258361816, \"max\": 0.9040113258361816}}}\u001b[0m\n",
      "\u001b[34m#metrics {\"StartTime\": 1682424567.6985595, \"EndTime\": 1682424567.6985803, \"Dimensions\": {\"Algorithm\": \"Linear Learner\", \"Host\": \"algo-1\", \"Operation\": \"training\", \"epoch\": 0, \"model\": 1}, \"Metrics\": {\"train_absolute_loss_objective\": {\"sum\": 0.9237950706481933, \"count\": 1, \"min\": 0.9237950706481933, \"max\": 0.9237950706481933}}}\u001b[0m\n",
      "\u001b[34m#metrics {\"StartTime\": 1682424567.6986296, \"EndTime\": 1682424567.6986463, \"Dimensions\": {\"Algorithm\": \"Linear Learner\", \"Host\": \"algo-1\", \"Operation\": \"training\", \"epoch\": 0, \"model\": 2}, \"Metrics\": {\"train_absolute_loss_objective\": {\"sum\": 0.9064078521728516, \"count\": 1, \"min\": 0.9064078521728516, \"max\": 0.9064078521728516}}}\u001b[0m\n",
      "\u001b[34m#metrics {\"StartTime\": 1682424567.6987104, \"EndTime\": 1682424567.6987288, \"Dimensions\": {\"Algorithm\": \"Linear Learner\", \"Host\": \"algo-1\", \"Operation\": \"training\", \"epoch\": 0, \"model\": 3}, \"Metrics\": {\"train_absolute_loss_objective\": {\"sum\": 0.9227840328216552, \"count\": 1, \"min\": 0.9227840328216552, \"max\": 0.9227840328216552}}}\u001b[0m\n",
      "\u001b[34m#metrics {\"StartTime\": 1682424567.6987846, \"EndTime\": 1682424567.698802, \"Dimensions\": {\"Algorithm\": \"Linear Learner\", \"Host\": \"algo-1\", \"Operation\": \"training\", \"epoch\": 0, \"model\": 4}, \"Metrics\": {\"train_absolute_loss_objective\": {\"sum\": 0.8872079372406005, \"count\": 1, \"min\": 0.8872079372406005, \"max\": 0.8872079372406005}}}\u001b[0m\n",
      "\u001b[34m#metrics {\"StartTime\": 1682424567.698851, \"EndTime\": 1682424567.6988661, \"Dimensions\": {\"Algorithm\": \"Linear Learner\", \"Host\": \"algo-1\", \"Operation\": \"training\", \"epoch\": 0, \"model\": 5}, \"Metrics\": {\"train_absolute_loss_objective\": {\"sum\": 0.8951674747467041, \"count\": 1, \"min\": 0.8951674747467041, \"max\": 0.8951674747467041}}}\u001b[0m\n",
      "\u001b[34m#metrics {\"StartTime\": 1682424567.6989145, \"EndTime\": 1682424567.6989293, \"Dimensions\": {\"Algorithm\": \"Linear Learner\", \"Host\": \"algo-1\", \"Operation\": \"training\", \"epoch\": 0, \"model\": 6}, \"Metrics\": {\"train_absolute_loss_objective\": {\"sum\": 0.9618078804016114, \"count\": 1, \"min\": 0.9618078804016114, \"max\": 0.9618078804016114}}}\u001b[0m\n",
      "\u001b[34m#metrics {\"StartTime\": 1682424567.6989903, \"EndTime\": 1682424567.6990066, \"Dimensions\": {\"Algorithm\": \"Linear Learner\", \"Host\": \"algo-1\", \"Operation\": \"training\", \"epoch\": 0, \"model\": 7}, \"Metrics\": {\"train_absolute_loss_objective\": {\"sum\": 0.9360017776489258, \"count\": 1, \"min\": 0.9360017776489258, \"max\": 0.9360017776489258}}}\u001b[0m\n",
      "\u001b[34m#metrics {\"StartTime\": 1682424567.6990573, \"EndTime\": 1682424567.6990728, \"Dimensions\": {\"Algorithm\": \"Linear Learner\", \"Host\": \"algo-1\", \"Operation\": \"training\", \"epoch\": 0, \"model\": 8}, \"Metrics\": {\"train_absolute_loss_objective\": {\"sum\": 0.9595590686798096, \"count\": 1, \"min\": 0.9595590686798096, \"max\": 0.9595590686798096}}}\u001b[0m\n",
      "\u001b[34m#metrics {\"StartTime\": 1682424567.6991227, \"EndTime\": 1682424567.6991386, \"Dimensions\": {\"Algorithm\": \"Linear Learner\", \"Host\": \"algo-1\", \"Operation\": \"training\", \"epoch\": 0, \"model\": 9}, \"Metrics\": {\"train_absolute_loss_objective\": {\"sum\": 0.8920570468902588, \"count\": 1, \"min\": 0.8920570468902588, \"max\": 0.8920570468902588}}}\u001b[0m\n",
      "\u001b[34m#metrics {\"StartTime\": 1682424567.6992035, \"EndTime\": 1682424567.6992197, \"Dimensions\": {\"Algorithm\": \"Linear Learner\", \"Host\": \"algo-1\", \"Operation\": \"training\", \"epoch\": 0, \"model\": 10}, \"Metrics\": {\"train_absolute_loss_objective\": {\"sum\": 0.8987137985229492, \"count\": 1, \"min\": 0.8987137985229492, \"max\": 0.8987137985229492}}}\u001b[0m\n",
      "\u001b[34m#metrics {\"StartTime\": 1682424567.699274, \"EndTime\": 1682424567.699291, \"Dimensions\": {\"Algorithm\": \"Linear Learner\", \"Host\": \"algo-1\", \"Operation\": \"training\", \"epoch\": 0, \"model\": 11}, \"Metrics\": {\"train_absolute_loss_objective\": {\"sum\": 0.8839938259124756, \"count\": 1, \"min\": 0.8839938259124756, \"max\": 0.8839938259124756}}}\u001b[0m\n",
      "\u001b[34m#metrics {\"StartTime\": 1682424567.6993392, \"EndTime\": 1682424567.6993556, \"Dimensions\": {\"Algorithm\": \"Linear Learner\", \"Host\": \"algo-1\", \"Operation\": \"training\", \"epoch\": 0, \"model\": 12}, \"Metrics\": {\"train_absolute_loss_objective\": {\"sum\": 0.8945710754394531, \"count\": 1, \"min\": 0.8945710754394531, \"max\": 0.8945710754394531}}}\u001b[0m\n",
      "\u001b[34m#metrics {\"StartTime\": 1682424567.6994042, \"EndTime\": 1682424567.6994197, \"Dimensions\": {\"Algorithm\": \"Linear Learner\", \"Host\": \"algo-1\", \"Operation\": \"training\", \"epoch\": 0, \"model\": 13}, \"Metrics\": {\"train_absolute_loss_objective\": {\"sum\": 0.9160132217407226, \"count\": 1, \"min\": 0.9160132217407226, \"max\": 0.9160132217407226}}}\u001b[0m\n",
      "\u001b[34m#metrics {\"StartTime\": 1682424567.6994867, \"EndTime\": 1682424567.6995044, \"Dimensions\": {\"Algorithm\": \"Linear Learner\", \"Host\": \"algo-1\", \"Operation\": \"training\", \"epoch\": 0, \"model\": 14}, \"Metrics\": {\"train_absolute_loss_objective\": {\"sum\": 0.8933565139770507, \"count\": 1, \"min\": 0.8933565139770507, \"max\": 0.8933565139770507}}}\u001b[0m\n",
      "\u001b[34m#metrics {\"StartTime\": 1682424567.699559, \"EndTime\": 1682424567.6995752, \"Dimensions\": {\"Algorithm\": \"Linear Learner\", \"Host\": \"algo-1\", \"Operation\": \"training\", \"epoch\": 0, \"model\": 15}, \"Metrics\": {\"train_absolute_loss_objective\": {\"sum\": 0.9211521911621093, \"count\": 1, \"min\": 0.9211521911621093, \"max\": 0.9211521911621093}}}\u001b[0m\n",
      "\u001b[34m#metrics {\"StartTime\": 1682424567.6996377, \"EndTime\": 1682424567.6996548, \"Dimensions\": {\"Algorithm\": \"Linear Learner\", \"Host\": \"algo-1\", \"Operation\": \"training\", \"epoch\": 0, \"model\": 16}, \"Metrics\": {\"train_absolute_loss_objective\": {\"sum\": 0.8681236553192139, \"count\": 1, \"min\": 0.8681236553192139, \"max\": 0.8681236553192139}}}\u001b[0m\n",
      "\u001b[34m#metrics {\"StartTime\": 1682424567.6997197, \"EndTime\": 1682424567.6997375, \"Dimensions\": {\"Algorithm\": \"Linear Learner\", \"Host\": \"algo-1\", \"Operation\": \"training\", \"epoch\": 0, \"model\": 17}, \"Metrics\": {\"train_absolute_loss_objective\": {\"sum\": 0.9190709114074707, \"count\": 1, \"min\": 0.9190709114074707, \"max\": 0.9190709114074707}}}\u001b[0m\n",
      "\u001b[34m#metrics {\"StartTime\": 1682424567.6998003, \"EndTime\": 1682424567.6998174, \"Dimensions\": {\"Algorithm\": \"Linear Learner\", \"Host\": \"algo-1\", \"Operation\": \"training\", \"epoch\": 0, \"model\": 18}, \"Metrics\": {\"train_absolute_loss_objective\": {\"sum\": 0.8950267887115478, \"count\": 1, \"min\": 0.8950267887115478, \"max\": 0.8950267887115478}}}\u001b[0m\n",
      "\u001b[34m#metrics {\"StartTime\": 1682424567.699882, \"EndTime\": 1682424567.6998994, \"Dimensions\": {\"Algorithm\": \"Linear Learner\", \"Host\": \"algo-1\", \"Operation\": \"training\", \"epoch\": 0, \"model\": 19}, \"Metrics\": {\"train_absolute_loss_objective\": {\"sum\": 0.8923410415649414, \"count\": 1, \"min\": 0.8923410415649414, \"max\": 0.8923410415649414}}}\u001b[0m\n",
      "\u001b[34m#metrics {\"StartTime\": 1682424567.6999547, \"EndTime\": 1682424567.699971, \"Dimensions\": {\"Algorithm\": \"Linear Learner\", \"Host\": \"algo-1\", \"Operation\": \"training\", \"epoch\": 0, \"model\": 20}, \"Metrics\": {\"train_absolute_loss_objective\": {\"sum\": 0.9339927101135254, \"count\": 1, \"min\": 0.9339927101135254, \"max\": 0.9339927101135254}}}\u001b[0m\n",
      "\u001b[34m#metrics {\"StartTime\": 1682424567.7000196, \"EndTime\": 1682424567.7000363, \"Dimensions\": {\"Algorithm\": \"Linear Learner\", \"Host\": \"algo-1\", \"Operation\": \"training\", \"epoch\": 0, \"model\": 21}, \"Metrics\": {\"train_absolute_loss_objective\": {\"sum\": 0.9456030082702637, \"count\": 1, \"min\": 0.9456030082702637, \"max\": 0.9456030082702637}}}\u001b[0m\n",
      "\u001b[34m#metrics {\"StartTime\": 1682424567.7000885, \"EndTime\": 1682424567.700104, \"Dimensions\": {\"Algorithm\": \"Linear Learner\", \"Host\": \"algo-1\", \"Operation\": \"training\", \"epoch\": 0, \"model\": 22}, \"Metrics\": {\"train_absolute_loss_objective\": {\"sum\": 0.9056692409515381, \"count\": 1, \"min\": 0.9056692409515381, \"max\": 0.9056692409515381}}}\u001b[0m\n",
      "\u001b[34m#metrics {\"StartTime\": 1682424567.7001534, \"EndTime\": 1682424567.7001688, \"Dimensions\": {\"Algorithm\": \"Linear Learner\", \"Host\": \"algo-1\", \"Operation\": \"training\", \"epoch\": 0, \"model\": 23}, \"Metrics\": {\"train_absolute_loss_objective\": {\"sum\": 0.9657495307922364, \"count\": 1, \"min\": 0.9657495307922364, \"max\": 0.9657495307922364}}}\u001b[0m\n",
      "\u001b[34m#metrics {\"StartTime\": 1682424567.7002113, \"EndTime\": 1682424567.7002258, \"Dimensions\": {\"Algorithm\": \"Linear Learner\", \"Host\": \"algo-1\", \"Operation\": \"training\", \"epoch\": 0, \"model\": 24}, \"Metrics\": {\"train_absolute_loss_objective\": {\"sum\": 0.8713940620422364, \"count\": 1, \"min\": 0.8713940620422364, \"max\": 0.8713940620422364}}}\u001b[0m\n",
      "\u001b[34m#metrics {\"StartTime\": 1682424567.700285, \"EndTime\": 1682424567.7003024, \"Dimensions\": {\"Algorithm\": \"Linear Learner\", \"Host\": \"algo-1\", \"Operation\": \"training\", \"epoch\": 0, \"model\": 25}, \"Metrics\": {\"train_absolute_loss_objective\": {\"sum\": 0.9372000694274902, \"count\": 1, \"min\": 0.9372000694274902, \"max\": 0.9372000694274902}}}\u001b[0m\n",
      "\u001b[34m#metrics {\"StartTime\": 1682424567.7003567, \"EndTime\": 1682424567.7003717, \"Dimensions\": {\"Algorithm\": \"Linear Learner\", \"Host\": \"algo-1\", \"Operation\": \"training\", \"epoch\": 0, \"model\": 26}, \"Metrics\": {\"train_absolute_loss_objective\": {\"sum\": 0.9239840126037597, \"count\": 1, \"min\": 0.9239840126037597, \"max\": 0.9239840126037597}}}\u001b[0m\n",
      "\u001b[34m#metrics {\"StartTime\": 1682424567.7004187, \"EndTime\": 1682424567.7004342, \"Dimensions\": {\"Algorithm\": \"Linear Learner\", \"Host\": \"algo-1\", \"Operation\": \"training\", \"epoch\": 0, \"model\": 27}, \"Metrics\": {\"train_absolute_loss_objective\": {\"sum\": 0.9134014320373535, \"count\": 1, \"min\": 0.9134014320373535, \"max\": 0.9134014320373535}}}\u001b[0m\n",
      "\u001b[34m#metrics {\"StartTime\": 1682424567.7004957, \"EndTime\": 1682424567.7005124, \"Dimensions\": {\"Algorithm\": \"Linear Learner\", \"Host\": \"algo-1\", \"Operation\": \"training\", \"epoch\": 0, \"model\": 28}, \"Metrics\": {\"train_absolute_loss_objective\": {\"sum\": 1.0159109878540038, \"count\": 1, \"min\": 1.0159109878540038, \"max\": 1.0159109878540038}}}\u001b[0m\n",
      "\u001b[34m#metrics {\"StartTime\": 1682424567.700575, \"EndTime\": 1682424567.7005928, \"Dimensions\": {\"Algorithm\": \"Linear Learner\", \"Host\": \"algo-1\", \"Operation\": \"training\", \"epoch\": 0, \"model\": 29}, \"Metrics\": {\"train_absolute_loss_objective\": {\"sum\": 1.017491283416748, \"count\": 1, \"min\": 1.017491283416748, \"max\": 1.017491283416748}}}\u001b[0m\n",
      "\u001b[34m#metrics {\"StartTime\": 1682424567.7006528, \"EndTime\": 1682424567.7006695, \"Dimensions\": {\"Algorithm\": \"Linear Learner\", \"Host\": \"algo-1\", \"Operation\": \"training\", \"epoch\": 0, \"model\": 30}, \"Metrics\": {\"train_absolute_loss_objective\": {\"sum\": 1.0498436164855958, \"count\": 1, \"min\": 1.0498436164855958, \"max\": 1.0498436164855958}}}\u001b[0m\n",
      "\u001b[34m#metrics {\"StartTime\": 1682424567.700733, \"EndTime\": 1682424567.7007508, \"Dimensions\": {\"Algorithm\": \"Linear Learner\", \"Host\": \"algo-1\", \"Operation\": \"training\", \"epoch\": 0, \"model\": 31}, \"Metrics\": {\"train_absolute_loss_objective\": {\"sum\": 1.0077764892578125, \"count\": 1, \"min\": 1.0077764892578125, \"max\": 1.0077764892578125}}}\u001b[0m\n",
      "\u001b[34m[04/25/2023 12:09:27 INFO 139915425793856] #quality_metric: host=algo-1, epoch=0, train absolute_loss_objective <loss>=0.9040113258361816\u001b[0m\n",
      "\u001b[34m[04/25/2023 12:09:27 INFO 139915425793856] #early_stopping_criteria_metric: host=algo-1, epoch=0, criteria=absolute_loss_objective, value=0.8681236553192139\u001b[0m\n",
      "\u001b[34m[04/25/2023 12:09:27 INFO 139915425793856] Epoch 0: Loss improved. Updating best model\u001b[0m\n",
      "\u001b[34m[04/25/2023 12:09:27 INFO 139915425793856] Saving model for epoch: 0\u001b[0m\n",
      "\u001b[34m[04/25/2023 12:09:27 INFO 139915425793856] Saved checkpoint to \"/tmp/tmp4n0lv65x/mx-mod-0000.params\"\u001b[0m\n",
      "\u001b[34m[04/25/2023 12:09:27 INFO 139915425793856] #progress_metric: host=algo-1, completed 2.0 % of epochs\u001b[0m\n",
      "\u001b[34m#metrics {\"StartTime\": 1682424567.596387, \"EndTime\": 1682424567.7151067, \"Dimensions\": {\"Algorithm\": \"Linear Learner\", \"Host\": \"algo-1\", \"Operation\": \"training\", \"epoch\": 0, \"Meta\": \"training_data_iter\"}, \"Metrics\": {\"Total Records Seen\": {\"sum\": 57.0, \"count\": 1, \"min\": 57, \"max\": 57}, \"Total Batches Seen\": {\"sum\": 13.0, \"count\": 1, \"min\": 13, \"max\": 13}, \"Max Records Seen Between Resets\": {\"sum\": 26.0, \"count\": 1, \"min\": 26, \"max\": 26}, \"Max Batches Seen Between Resets\": {\"sum\": 6.0, \"count\": 1, \"min\": 6, \"max\": 6}, \"Reset Count\": {\"sum\": 3.0, \"count\": 1, \"min\": 3, \"max\": 3}, \"Number of Records Since Last Reset\": {\"sum\": 26.0, \"count\": 1, \"min\": 26, \"max\": 26}, \"Number of Batches Since Last Reset\": {\"sum\": 6.0, \"count\": 1, \"min\": 6, \"max\": 6}}}\u001b[0m\n",
      "\u001b[34m[04/25/2023 12:09:27 INFO 139915425793856] #throughput_metric: host=algo-1, train throughput=218.74473005907308 records/second\u001b[0m\n",
      "\u001b[34m[2023-04-25 12:09:27.822] [tensorio] [info] epoch_stats={\"data_pipeline\": \"/opt/ml/input/data/train\", \"epoch\": 6, \"duration\": 107, \"num_examples\": 6, \"num_bytes\": 1248}\u001b[0m\n",
      "\u001b[34m#metrics {\"StartTime\": 1682424567.8230045, \"EndTime\": 1682424567.823084, \"Dimensions\": {\"Algorithm\": \"Linear Learner\", \"Host\": \"algo-1\", \"Operation\": \"training\", \"epoch\": 1, \"model\": 0}, \"Metrics\": {\"train_absolute_loss_objective\": {\"sum\": 0.8714909648895264, \"count\": 1, \"min\": 0.8714909648895264, \"max\": 0.8714909648895264}}}\u001b[0m\n",
      "\u001b[34m#metrics {\"StartTime\": 1682424567.8231795, \"EndTime\": 1682424567.8232, \"Dimensions\": {\"Algorithm\": \"Linear Learner\", \"Host\": \"algo-1\", \"Operation\": \"training\", \"epoch\": 1, \"model\": 1}, \"Metrics\": {\"train_absolute_loss_objective\": {\"sum\": 0.8910957431793213, \"count\": 1, \"min\": 0.8910957431793213, \"max\": 0.8910957431793213}}}\u001b[0m\n",
      "\u001b[34m#metrics {\"StartTime\": 1682424567.823261, \"EndTime\": 1682424567.823279, \"Dimensions\": {\"Algorithm\": \"Linear Learner\", \"Host\": \"algo-1\", \"Operation\": \"training\", \"epoch\": 1, \"model\": 2}, \"Metrics\": {\"train_absolute_loss_objective\": {\"sum\": 0.8738658332824707, \"count\": 1, \"min\": 0.8738658332824707, \"max\": 0.8738658332824707}}}\u001b[0m\n",
      "\u001b[34m#metrics {\"StartTime\": 1682424567.8233354, \"EndTime\": 1682424567.8233514, \"Dimensions\": {\"Algorithm\": \"Linear Learner\", \"Host\": \"algo-1\", \"Operation\": \"training\", \"epoch\": 1, \"model\": 3}, \"Metrics\": {\"train_absolute_loss_objective\": {\"sum\": 0.8900938606262208, \"count\": 1, \"min\": 0.8900938606262208, \"max\": 0.8900938606262208}}}\u001b[0m\n",
      "\u001b[34m#metrics {\"StartTime\": 1682424567.823399, \"EndTime\": 1682424567.8234153, \"Dimensions\": {\"Algorithm\": \"Linear Learner\", \"Host\": \"algo-1\", \"Operation\": \"training\", \"epoch\": 1, \"model\": 4}, \"Metrics\": {\"train_absolute_loss_objective\": {\"sum\": 0.6254767799377441, \"count\": 1, \"min\": 0.6254767799377441, \"max\": 0.6254767799377441}}}\u001b[0m\n",
      "\u001b[34m#metrics {\"StartTime\": 1682424567.8234782, \"EndTime\": 1682424567.8234951, \"Dimensions\": {\"Algorithm\": \"Linear Learner\", \"Host\": \"algo-1\", \"Operation\": \"training\", \"epoch\": 1, \"model\": 5}, \"Metrics\": {\"train_absolute_loss_objective\": {\"sum\": 0.6300566101074219, \"count\": 1, \"min\": 0.6300566101074219, \"max\": 0.6300566101074219}}}\u001b[0m\n",
      "\u001b[34m#metrics {\"StartTime\": 1682424567.8235462, \"EndTime\": 1682424567.8235629, \"Dimensions\": {\"Algorithm\": \"Linear Learner\", \"Host\": \"algo-1\", \"Operation\": \"training\", \"epoch\": 1, \"model\": 6}, \"Metrics\": {\"train_absolute_loss_objective\": {\"sum\": 0.6078427791595459, \"count\": 1, \"min\": 0.6078427791595459, \"max\": 0.6078427791595459}}}\u001b[0m\n",
      "\u001b[34m#metrics {\"StartTime\": 1682424567.823611, \"EndTime\": 1682424567.8236208, \"Dimensions\": {\"Algorithm\": \"Linear Learner\", \"Host\": \"algo-1\", \"Operation\": \"training\", \"epoch\": 1, \"model\": 7}, \"Metrics\": {\"train_absolute_loss_objective\": {\"sum\": 0.5790484428405762, \"count\": 1, \"min\": 0.5790484428405762, \"max\": 0.5790484428405762}}}\u001b[0m\n",
      "\u001b[34m#metrics {\"StartTime\": 1682424567.823656, \"EndTime\": 1682424567.8236694, \"Dimensions\": {\"Algorithm\": \"Linear Learner\", \"Host\": \"algo-1\", \"Operation\": \"training\", \"epoch\": 1, \"model\": 8}, \"Metrics\": {\"train_absolute_loss_objective\": {\"sum\": 0.9265361785888672, \"count\": 1, \"min\": 0.9265361785888672, \"max\": 0.9265361785888672}}}\u001b[0m\n",
      "\u001b[34m#metrics {\"StartTime\": 1682424567.82372, \"EndTime\": 1682424567.8237352, \"Dimensions\": {\"Algorithm\": \"Linear Learner\", \"Host\": \"algo-1\", \"Operation\": \"training\", \"epoch\": 1, \"model\": 9}, \"Metrics\": {\"train_absolute_loss_objective\": {\"sum\": 0.859645357131958, \"count\": 1, \"min\": 0.859645357131958, \"max\": 0.859645357131958}}}\u001b[0m\n",
      "\u001b[34m#metrics {\"StartTime\": 1682424567.8237815, \"EndTime\": 1682424567.823796, \"Dimensions\": {\"Algorithm\": \"Linear Learner\", \"Host\": \"algo-1\", \"Operation\": \"training\", \"epoch\": 1, \"model\": 10}, \"Metrics\": {\"train_absolute_loss_objective\": {\"sum\": 0.8662417984008789, \"count\": 1, \"min\": 0.8662417984008789, \"max\": 0.8662417984008789}}}\u001b[0m\n",
      "\u001b[34m#metrics {\"StartTime\": 1682424567.8238478, \"EndTime\": 1682424567.8238635, \"Dimensions\": {\"Algorithm\": \"Linear Learner\", \"Host\": \"algo-1\", \"Operation\": \"training\", \"epoch\": 1, \"model\": 11}, \"Metrics\": {\"train_absolute_loss_objective\": {\"sum\": 0.8516551399230957, \"count\": 1, \"min\": 0.8516551399230957, \"max\": 0.8516551399230957}}}\u001b[0m\n",
      "\u001b[34m#metrics {\"StartTime\": 1682424567.8239114, \"EndTime\": 1682424567.8239233, \"Dimensions\": {\"Algorithm\": \"Linear Learner\", \"Host\": \"algo-1\", \"Operation\": \"training\", \"epoch\": 1, \"model\": 12}, \"Metrics\": {\"train_absolute_loss_objective\": {\"sum\": 0.6301004076004029, \"count\": 1, \"min\": 0.6301004076004029, \"max\": 0.6301004076004029}}}\u001b[0m\n",
      "\u001b[34m#metrics {\"StartTime\": 1682424567.8239691, \"EndTime\": 1682424567.8239844, \"Dimensions\": {\"Algorithm\": \"Linear Learner\", \"Host\": \"algo-1\", \"Operation\": \"training\", \"epoch\": 1, \"model\": 13}, \"Metrics\": {\"train_absolute_loss_objective\": {\"sum\": 0.6423960971832275, \"count\": 1, \"min\": 0.6423960971832275, \"max\": 0.6423960971832275}}}\u001b[0m\n",
      "\u001b[34m#metrics {\"StartTime\": 1682424567.8240373, \"EndTime\": 1682424567.8240533, \"Dimensions\": {\"Algorithm\": \"Linear Learner\", \"Host\": \"algo-1\", \"Operation\": \"training\", \"epoch\": 1, \"model\": 14}, \"Metrics\": {\"train_absolute_loss_objective\": {\"sum\": 0.6294039154052734, \"count\": 1, \"min\": 0.6294039154052734, \"max\": 0.6294039154052734}}}\u001b[0m\n",
      "\u001b[34m#metrics {\"StartTime\": 1682424567.8241038, \"EndTime\": 1682424567.8241189, \"Dimensions\": {\"Algorithm\": \"Linear Learner\", \"Host\": \"algo-1\", \"Operation\": \"training\", \"epoch\": 1, \"model\": 15}, \"Metrics\": {\"train_absolute_loss_objective\": {\"sum\": 0.637126293182373, \"count\": 1, \"min\": 0.637126293182373, \"max\": 0.637126293182373}}}\u001b[0m\n",
      "\u001b[34m#metrics {\"StartTime\": 1682424567.8241653, \"EndTime\": 1682424567.824181, \"Dimensions\": {\"Algorithm\": \"Linear Learner\", \"Host\": \"algo-1\", \"Operation\": \"training\", \"epoch\": 1, \"model\": 16}, \"Metrics\": {\"train_absolute_loss_objective\": {\"sum\": 0.8360091114044189, \"count\": 1, \"min\": 0.8360091114044189, \"max\": 0.8360091114044189}}}\u001b[0m\n",
      "\u001b[34m#metrics {\"StartTime\": 1682424567.824232, \"EndTime\": 1682424567.8242476, \"Dimensions\": {\"Algorithm\": \"Linear Learner\", \"Host\": \"algo-1\", \"Operation\": \"training\", \"epoch\": 1, \"model\": 17}, \"Metrics\": {\"train_absolute_loss_objective\": {\"sum\": 0.8864435672760009, \"count\": 1, \"min\": 0.8864435672760009, \"max\": 0.8864435672760009}}}\u001b[0m\n",
      "\u001b[34m#metrics {\"StartTime\": 1682424567.8243048, \"EndTime\": 1682424567.824321, \"Dimensions\": {\"Algorithm\": \"Linear Learner\", \"Host\": \"algo-1\", \"Operation\": \"training\", \"epoch\": 1, \"model\": 18}, \"Metrics\": {\"train_absolute_loss_objective\": {\"sum\": 0.8626400756835938, \"count\": 1, \"min\": 0.8626400756835938, \"max\": 0.8626400756835938}}}\u001b[0m\n",
      "\u001b[34m#metrics {\"StartTime\": 1682424567.8244197, \"EndTime\": 1682424567.8244398, \"Dimensions\": {\"Algorithm\": \"Linear Learner\", \"Host\": \"algo-1\", \"Operation\": \"training\", \"epoch\": 1, \"model\": 19}, \"Metrics\": {\"train_absolute_loss_objective\": {\"sum\": 0.8599813747406005, \"count\": 1, \"min\": 0.8599813747406005, \"max\": 0.8599813747406005}}}\u001b[0m\n",
      "\u001b[34m#metrics {\"StartTime\": 1682424567.824503, \"EndTime\": 1682424567.8245199, \"Dimensions\": {\"Algorithm\": \"Linear Learner\", \"Host\": \"algo-1\", \"Operation\": \"training\", \"epoch\": 1, \"model\": 20}, \"Metrics\": {\"train_absolute_loss_objective\": {\"sum\": 0.6150087690353394, \"count\": 1, \"min\": 0.6150087690353394, \"max\": 0.6150087690353394}}}\u001b[0m\n",
      "\u001b[34m#metrics {\"StartTime\": 1682424567.824582, \"EndTime\": 1682424567.8245988, \"Dimensions\": {\"Algorithm\": \"Linear Learner\", \"Host\": \"algo-1\", \"Operation\": \"training\", \"epoch\": 1, \"model\": 21}, \"Metrics\": {\"train_absolute_loss_objective\": {\"sum\": 0.6239814901351929, \"count\": 1, \"min\": 0.6239814901351929, \"max\": 0.6239814901351929}}}\u001b[0m\n",
      "\u001b[34m#metrics {\"StartTime\": 1682424567.8246515, \"EndTime\": 1682424567.8246682, \"Dimensions\": {\"Algorithm\": \"Linear Learner\", \"Host\": \"algo-1\", \"Operation\": \"training\", \"epoch\": 1, \"model\": 22}, \"Metrics\": {\"train_absolute_loss_objective\": {\"sum\": 0.6763123226165771, \"count\": 1, \"min\": 0.6763123226165771, \"max\": 0.6763123226165771}}}\u001b[0m\n",
      "\u001b[34m#metrics {\"StartTime\": 1682424567.8247206, \"EndTime\": 1682424567.8247366, \"Dimensions\": {\"Algorithm\": \"Linear Learner\", \"Host\": \"algo-1\", \"Operation\": \"training\", \"epoch\": 1, \"model\": 23}, \"Metrics\": {\"train_absolute_loss_objective\": {\"sum\": 0.6400248622894287, \"count\": 1, \"min\": 0.6400248622894287, \"max\": 0.6400248622894287}}}\u001b[0m\n",
      "\u001b[34m#metrics {\"StartTime\": 1682424567.8247995, \"EndTime\": 1682424567.824813, \"Dimensions\": {\"Algorithm\": \"Linear Learner\", \"Host\": \"algo-1\", \"Operation\": \"training\", \"epoch\": 1, \"model\": 24}, \"Metrics\": {\"train_absolute_loss_objective\": {\"sum\": 0.8805872535705567, \"count\": 1, \"min\": 0.8805872535705567, \"max\": 0.8805872535705567}}}\u001b[0m\n",
      "\u001b[34m#metrics {\"StartTime\": 1682424567.8248744, \"EndTime\": 1682424567.824891, \"Dimensions\": {\"Algorithm\": \"Linear Learner\", \"Host\": \"algo-1\", \"Operation\": \"training\", \"epoch\": 1, \"model\": 25}, \"Metrics\": {\"train_absolute_loss_objective\": {\"sum\": 0.9057340812683106, \"count\": 1, \"min\": 0.9057340812683106, \"max\": 0.9057340812683106}}}\u001b[0m\n",
      "\u001b[34m#metrics {\"StartTime\": 1682424567.8249557, \"EndTime\": 1682424567.8249748, \"Dimensions\": {\"Algorithm\": \"Linear Learner\", \"Host\": \"algo-1\", \"Operation\": \"training\", \"epoch\": 1, \"model\": 26}, \"Metrics\": {\"train_absolute_loss_objective\": {\"sum\": 0.8954250049591065, \"count\": 1, \"min\": 0.8954250049591065, \"max\": 0.8954250049591065}}}\u001b[0m\n",
      "\u001b[34m#metrics {\"StartTime\": 1682424567.8250248, \"EndTime\": 1682424567.825041, \"Dimensions\": {\"Algorithm\": \"Linear Learner\", \"Host\": \"algo-1\", \"Operation\": \"training\", \"epoch\": 1, \"model\": 27}, \"Metrics\": {\"train_absolute_loss_objective\": {\"sum\": 0.8953138256072998, \"count\": 1, \"min\": 0.8953138256072998, \"max\": 0.8953138256072998}}}\u001b[0m\n",
      "\u001b[34m#metrics {\"StartTime\": 1682424567.8251033, \"EndTime\": 1682424567.8251207, \"Dimensions\": {\"Algorithm\": \"Linear Learner\", \"Host\": \"algo-1\", \"Operation\": \"training\", \"epoch\": 1, \"model\": 28}, \"Metrics\": {\"train_absolute_loss_objective\": {\"sum\": 1.0234775924682618, \"count\": 1, \"min\": 1.0234775924682618, \"max\": 1.0234775924682618}}}\u001b[0m\n",
      "\u001b[34m#metrics {\"StartTime\": 1682424567.8251667, \"EndTime\": 1682424567.8251817, \"Dimensions\": {\"Algorithm\": \"Linear Learner\", \"Host\": \"algo-1\", \"Operation\": \"training\", \"epoch\": 1, \"model\": 29}, \"Metrics\": {\"train_absolute_loss_objective\": {\"sum\": 1.022087469100952, \"count\": 1, \"min\": 1.022087469100952, \"max\": 1.022087469100952}}}\u001b[0m\n",
      "\u001b[34m#metrics {\"StartTime\": 1682424567.8252711, \"EndTime\": 1682424567.825289, \"Dimensions\": {\"Algorithm\": \"Linear Learner\", \"Host\": \"algo-1\", \"Operation\": \"training\", \"epoch\": 1, \"model\": 30}, \"Metrics\": {\"train_absolute_loss_objective\": {\"sum\": 1.0150482940673828, \"count\": 1, \"min\": 1.0150482940673828, \"max\": 1.0150482940673828}}}\u001b[0m\n",
      "\u001b[34m#metrics {\"StartTime\": 1682424567.825345, \"EndTime\": 1682424567.82536, \"Dimensions\": {\"Algorithm\": \"Linear Learner\", \"Host\": \"algo-1\", \"Operation\": \"training\", \"epoch\": 1, \"model\": 31}, \"Metrics\": {\"train_absolute_loss_objective\": {\"sum\": 1.0205661010742189, \"count\": 1, \"min\": 1.0205661010742189, \"max\": 1.0205661010742189}}}\u001b[0m\n",
      "\u001b[34m[04/25/2023 12:09:27 INFO 139915425793856] #quality_metric: host=algo-1, epoch=1, train absolute_loss_objective <loss>=0.8714909648895264\u001b[0m\n",
      "\u001b[34m[04/25/2023 12:09:27 INFO 139915425793856] #early_stopping_criteria_metric: host=algo-1, epoch=1, criteria=absolute_loss_objective, value=0.5790484428405762\u001b[0m\n",
      "\u001b[34m[04/25/2023 12:09:27 INFO 139915425793856] Epoch 1: Loss improved. Updating best model\u001b[0m\n",
      "\u001b[34m[04/25/2023 12:09:27 INFO 139915425793856] Saving model for epoch: 1\u001b[0m\n",
      "\u001b[34m[04/25/2023 12:09:27 INFO 139915425793856] Saved checkpoint to \"/tmp/tmpfu5_2dof/mx-mod-0000.params\"\u001b[0m\n",
      "\u001b[34m[04/25/2023 12:09:27 INFO 139915425793856] #progress_metric: host=algo-1, completed 4.0 % of epochs\u001b[0m\n",
      "\u001b[34m#metrics {\"StartTime\": 1682424567.7154233, \"EndTime\": 1682424567.8345227, \"Dimensions\": {\"Algorithm\": \"Linear Learner\", \"Host\": \"algo-1\", \"Operation\": \"training\", \"epoch\": 1, \"Meta\": \"training_data_iter\"}, \"Metrics\": {\"Total Records Seen\": {\"sum\": 83.0, \"count\": 1, \"min\": 83, \"max\": 83}, \"Total Batches Seen\": {\"sum\": 19.0, \"count\": 1, \"min\": 19, \"max\": 19}, \"Max Records Seen Between Resets\": {\"sum\": 26.0, \"count\": 1, \"min\": 26, \"max\": 26}, \"Max Batches Seen Between Resets\": {\"sum\": 6.0, \"count\": 1, \"min\": 6, \"max\": 6}, \"Reset Count\": {\"sum\": 4.0, \"count\": 1, \"min\": 4, \"max\": 4}, \"Number of Records Since Last Reset\": {\"sum\": 26.0, \"count\": 1, \"min\": 26, \"max\": 26}, \"Number of Batches Since Last Reset\": {\"sum\": 6.0, \"count\": 1, \"min\": 6, \"max\": 6}}}\u001b[0m\n",
      "\u001b[34m[04/25/2023 12:09:27 INFO 139915425793856] #throughput_metric: host=algo-1, train throughput=218.06368428209208 records/second\u001b[0m\n",
      "\u001b[34m[2023-04-25 12:09:27.931] [tensorio] [info] epoch_stats={\"data_pipeline\": \"/opt/ml/input/data/train\", \"epoch\": 8, \"duration\": 96, \"num_examples\": 6, \"num_bytes\": 1248}\u001b[0m\n",
      "\u001b[34m#metrics {\"StartTime\": 1682424567.93141, \"EndTime\": 1682424567.9314919, \"Dimensions\": {\"Algorithm\": \"Linear Learner\", \"Host\": \"algo-1\", \"Operation\": \"training\", \"epoch\": 2, \"model\": 0}, \"Metrics\": {\"train_absolute_loss_objective\": {\"sum\": 0.8473228931427002, \"count\": 1, \"min\": 0.8473228931427002, \"max\": 0.8473228931427002}}}\u001b[0m\n",
      "\u001b[34m#metrics {\"StartTime\": 1682424567.9315937, \"EndTime\": 1682424567.9316132, \"Dimensions\": {\"Algorithm\": \"Linear Learner\", \"Host\": \"algo-1\", \"Operation\": \"training\", \"epoch\": 2, \"model\": 1}, \"Metrics\": {\"train_absolute_loss_objective\": {\"sum\": 0.8668711471557617, \"count\": 1, \"min\": 0.8668711471557617, \"max\": 0.8668711471557617}}}\u001b[0m\n",
      "\u001b[34m#metrics {\"StartTime\": 1682424567.9316723, \"EndTime\": 1682424567.9316876, \"Dimensions\": {\"Algorithm\": \"Linear Learner\", \"Host\": \"algo-1\", \"Operation\": \"training\", \"epoch\": 2, \"model\": 2}, \"Metrics\": {\"train_absolute_loss_objective\": {\"sum\": 0.8496977424621582, \"count\": 1, \"min\": 0.8496977424621582, \"max\": 0.8496977424621582}}}\u001b[0m\n",
      "\u001b[34m#metrics {\"StartTime\": 1682424567.931738, \"EndTime\": 1682424567.9317539, \"Dimensions\": {\"Algorithm\": \"Linear Learner\", \"Host\": \"algo-1\", \"Operation\": \"training\", \"epoch\": 2, \"model\": 3}, \"Metrics\": {\"train_absolute_loss_objective\": {\"sum\": 0.8658692836761475, \"count\": 1, \"min\": 0.8658692836761475, \"max\": 0.8658692836761475}}}\u001b[0m\n",
      "\u001b[34m#metrics {\"StartTime\": 1682424567.9318192, \"EndTime\": 1682424567.931838, \"Dimensions\": {\"Algorithm\": \"Linear Learner\", \"Host\": \"algo-1\", \"Operation\": \"training\", \"epoch\": 2, \"model\": 4}, \"Metrics\": {\"train_absolute_loss_objective\": {\"sum\": 0.348630747795105, \"count\": 1, \"min\": 0.348630747795105, \"max\": 0.348630747795105}}}\u001b[0m\n",
      "\u001b[34m#metrics {\"StartTime\": 1682424567.9319022, \"EndTime\": 1682424567.9319203, \"Dimensions\": {\"Algorithm\": \"Linear Learner\", \"Host\": \"algo-1\", \"Operation\": \"training\", \"epoch\": 2, \"model\": 5}, \"Metrics\": {\"train_absolute_loss_objective\": {\"sum\": 0.35102294921875, \"count\": 1, \"min\": 0.35102294921875, \"max\": 0.35102294921875}}}\u001b[0m\n",
      "\u001b[34m#metrics {\"StartTime\": 1682424567.9319878, \"EndTime\": 1682424567.932006, \"Dimensions\": {\"Algorithm\": \"Linear Learner\", \"Host\": \"algo-1\", \"Operation\": \"training\", \"epoch\": 2, \"model\": 6}, \"Metrics\": {\"train_absolute_loss_objective\": {\"sum\": 0.21534929752349855, \"count\": 1, \"min\": 0.21534929752349855, \"max\": 0.21534929752349855}}}\u001b[0m\n",
      "\u001b[34m#metrics {\"StartTime\": 1682424567.9320621, \"EndTime\": 1682424567.9320793, \"Dimensions\": {\"Algorithm\": \"Linear Learner\", \"Host\": \"algo-1\", \"Operation\": \"training\", \"epoch\": 2, \"model\": 7}, \"Metrics\": {\"train_absolute_loss_objective\": {\"sum\": 0.2065304183959961, \"count\": 1, \"min\": 0.2065304183959961, \"max\": 0.2065304183959961}}}\u001b[0m\n",
      "\u001b[34m#metrics {\"StartTime\": 1682424567.932144, \"EndTime\": 1682424567.9321618, \"Dimensions\": {\"Algorithm\": \"Linear Learner\", \"Host\": \"algo-1\", \"Operation\": \"training\", \"epoch\": 2, \"model\": 8}, \"Metrics\": {\"train_absolute_loss_objective\": {\"sum\": 0.9023688316345215, \"count\": 1, \"min\": 0.9023688316345215, \"max\": 0.9023688316345215}}}\u001b[0m\n",
      "\u001b[34m#metrics {\"StartTime\": 1682424567.9322164, \"EndTime\": 1682424567.9322326, \"Dimensions\": {\"Algorithm\": \"Linear Learner\", \"Host\": \"algo-1\", \"Operation\": \"training\", \"epoch\": 2, \"model\": 9}, \"Metrics\": {\"train_absolute_loss_objective\": {\"sum\": 0.8354221534729004, \"count\": 1, \"min\": 0.8354221534729004, \"max\": 0.8354221534729004}}}\u001b[0m\n",
      "\u001b[34m#metrics {\"StartTime\": 1682424567.9322972, \"EndTime\": 1682424567.9323149, \"Dimensions\": {\"Algorithm\": \"Linear Learner\", \"Host\": \"algo-1\", \"Operation\": \"training\", \"epoch\": 2, \"model\": 10}, \"Metrics\": {\"train_absolute_loss_objective\": {\"sum\": 0.8420750331878663, \"count\": 1, \"min\": 0.8420750331878663, \"max\": 0.8420750331878663}}}\u001b[0m\n",
      "\u001b[34m#metrics {\"StartTime\": 1682424567.932381, \"EndTime\": 1682424567.932399, \"Dimensions\": {\"Algorithm\": \"Linear Learner\", \"Host\": \"algo-1\", \"Operation\": \"training\", \"epoch\": 2, \"model\": 11}, \"Metrics\": {\"train_absolute_loss_objective\": {\"sum\": 0.8274320220947265, \"count\": 1, \"min\": 0.8274320220947265, \"max\": 0.8274320220947265}}}\u001b[0m\n",
      "\u001b[34m#metrics {\"StartTime\": 1682424567.932463, \"EndTime\": 1682424567.9324806, \"Dimensions\": {\"Algorithm\": \"Linear Learner\", \"Host\": \"algo-1\", \"Operation\": \"training\", \"epoch\": 2, \"model\": 12}, \"Metrics\": {\"train_absolute_loss_objective\": {\"sum\": 0.35170761108398435, \"count\": 1, \"min\": 0.35170761108398435, \"max\": 0.35170761108398435}}}\u001b[0m\n",
      "\u001b[34m#metrics {\"StartTime\": 1682424567.9325442, \"EndTime\": 1682424567.9325628, \"Dimensions\": {\"Algorithm\": \"Linear Learner\", \"Host\": \"algo-1\", \"Operation\": \"training\", \"epoch\": 2, \"model\": 13}, \"Metrics\": {\"train_absolute_loss_objective\": {\"sum\": 0.35799661159515384, \"count\": 1, \"min\": 0.35799661159515384, \"max\": 0.35799661159515384}}}\u001b[0m\n",
      "\u001b[34m#metrics {\"StartTime\": 1682424567.9326174, \"EndTime\": 1682424567.9326348, \"Dimensions\": {\"Algorithm\": \"Linear Learner\", \"Host\": \"algo-1\", \"Operation\": \"training\", \"epoch\": 2, \"model\": 14}, \"Metrics\": {\"train_absolute_loss_objective\": {\"sum\": 0.3513549613952637, \"count\": 1, \"min\": 0.3513549613952637, \"max\": 0.3513549613952637}}}\u001b[0m\n",
      "\u001b[34m#metrics {\"StartTime\": 1682424567.9326997, \"EndTime\": 1682424567.932718, \"Dimensions\": {\"Algorithm\": \"Linear Learner\", \"Host\": \"algo-1\", \"Operation\": \"training\", \"epoch\": 2, \"model\": 15}, \"Metrics\": {\"train_absolute_loss_objective\": {\"sum\": 0.29859286308288574, \"count\": 1, \"min\": 0.29859286308288574, \"max\": 0.29859286308288574}}}\u001b[0m\n",
      "\u001b[34m#metrics {\"StartTime\": 1682424567.93278, \"EndTime\": 1682424567.9327977, \"Dimensions\": {\"Algorithm\": \"Linear Learner\", \"Host\": \"algo-1\", \"Operation\": \"training\", \"epoch\": 2, \"model\": 16}, \"Metrics\": {\"train_absolute_loss_objective\": {\"sum\": 0.8120250797271729, \"count\": 1, \"min\": 0.8120250797271729, \"max\": 0.8120250797271729}}}\u001b[0m\n",
      "\u001b[34m#metrics {\"StartTime\": 1682424567.9328609, \"EndTime\": 1682424567.9328783, \"Dimensions\": {\"Algorithm\": \"Linear Learner\", \"Host\": \"algo-1\", \"Operation\": \"training\", \"epoch\": 2, \"model\": 17}, \"Metrics\": {\"train_absolute_loss_objective\": {\"sum\": 0.8623396968841552, \"count\": 1, \"min\": 0.8623396968841552, \"max\": 0.8623396968841552}}}\u001b[0m\n",
      "\u001b[34m#metrics {\"StartTime\": 1682424567.932944, \"EndTime\": 1682424567.9329612, \"Dimensions\": {\"Algorithm\": \"Linear Learner\", \"Host\": \"algo-1\", \"Operation\": \"training\", \"epoch\": 2, \"model\": 18}, \"Metrics\": {\"train_absolute_loss_objective\": {\"sum\": 0.8386206245422363, \"count\": 1, \"min\": 0.8386206245422363, \"max\": 0.8386206245422363}}}\u001b[0m\n",
      "\u001b[34m#metrics {\"StartTime\": 1682424567.933024, \"EndTime\": 1682424567.9330418, \"Dimensions\": {\"Algorithm\": \"Linear Learner\", \"Host\": \"algo-1\", \"Operation\": \"training\", \"epoch\": 2, \"model\": 19}, \"Metrics\": {\"train_absolute_loss_objective\": {\"sum\": 0.835909652709961, \"count\": 1, \"min\": 0.835909652709961, \"max\": 0.835909652709961}}}\u001b[0m\n",
      "\u001b[34m#metrics {\"StartTime\": 1682424567.9331062, \"EndTime\": 1682424567.9331238, \"Dimensions\": {\"Algorithm\": \"Linear Learner\", \"Host\": \"algo-1\", \"Operation\": \"training\", \"epoch\": 2, \"model\": 20}, \"Metrics\": {\"train_absolute_loss_objective\": {\"sum\": 0.2930855178833008, \"count\": 1, \"min\": 0.2930855178833008, \"max\": 0.2930855178833008}}}\u001b[0m\n",
      "\u001b[34m#metrics {\"StartTime\": 1682424567.9331865, \"EndTime\": 1682424567.9332042, \"Dimensions\": {\"Algorithm\": \"Linear Learner\", \"Host\": \"algo-1\", \"Operation\": \"training\", \"epoch\": 2, \"model\": 21}, \"Metrics\": {\"train_absolute_loss_objective\": {\"sum\": 0.2964755058288574, \"count\": 1, \"min\": 0.2964755058288574, \"max\": 0.2964755058288574}}}\u001b[0m\n",
      "\u001b[34m#metrics {\"StartTime\": 1682424567.933272, \"EndTime\": 1682424567.933288, \"Dimensions\": {\"Algorithm\": \"Linear Learner\", \"Host\": \"algo-1\", \"Operation\": \"training\", \"epoch\": 2, \"model\": 22}, \"Metrics\": {\"train_absolute_loss_objective\": {\"sum\": 0.4259523105621338, \"count\": 1, \"min\": 0.4259523105621338, \"max\": 0.4259523105621338}}}\u001b[0m\n",
      "\u001b[34m#metrics {\"StartTime\": 1682424567.9333494, \"EndTime\": 1682424567.9333644, \"Dimensions\": {\"Algorithm\": \"Linear Learner\", \"Host\": \"algo-1\", \"Operation\": \"training\", \"epoch\": 2, \"model\": 23}, \"Metrics\": {\"train_absolute_loss_objective\": {\"sum\": 0.36521636962890625, \"count\": 1, \"min\": 0.36521636962890625, \"max\": 0.36521636962890625}}}\u001b[0m\n",
      "\u001b[34m#metrics {\"StartTime\": 1682424567.9334195, \"EndTime\": 1682424567.9334354, \"Dimensions\": {\"Algorithm\": \"Linear Learner\", \"Host\": \"algo-1\", \"Operation\": \"training\", \"epoch\": 2, \"model\": 24}, \"Metrics\": {\"train_absolute_loss_objective\": {\"sum\": 0.8943318939208984, \"count\": 1, \"min\": 0.8943318939208984, \"max\": 0.8943318939208984}}}\u001b[0m\n",
      "\u001b[34m#metrics {\"StartTime\": 1682424567.9334953, \"EndTime\": 1682424567.933512, \"Dimensions\": {\"Algorithm\": \"Linear Learner\", \"Host\": \"algo-1\", \"Operation\": \"training\", \"epoch\": 2, \"model\": 25}, \"Metrics\": {\"train_absolute_loss_objective\": {\"sum\": 0.8891005992889405, \"count\": 1, \"min\": 0.8891005992889405, \"max\": 0.8891005992889405}}}\u001b[0m\n",
      "\u001b[34m#metrics {\"StartTime\": 1682424567.933573, \"EndTime\": 1682424567.9335902, \"Dimensions\": {\"Algorithm\": \"Linear Learner\", \"Host\": \"algo-1\", \"Operation\": \"training\", \"epoch\": 2, \"model\": 26}, \"Metrics\": {\"train_absolute_loss_objective\": {\"sum\": 0.8885143184661866, \"count\": 1, \"min\": 0.8885143184661866, \"max\": 0.8885143184661866}}}\u001b[0m\n",
      "\u001b[34m#metrics {\"StartTime\": 1682424567.933651, \"EndTime\": 1682424567.9336681, \"Dimensions\": {\"Algorithm\": \"Linear Learner\", \"Host\": \"algo-1\", \"Operation\": \"training\", \"epoch\": 2, \"model\": 27}, \"Metrics\": {\"train_absolute_loss_objective\": {\"sum\": 0.8983330059051514, \"count\": 1, \"min\": 0.8983330059051514, \"max\": 0.8983330059051514}}}\u001b[0m\n",
      "\u001b[34m#metrics {\"StartTime\": 1682424567.9337142, \"EndTime\": 1682424567.9337564, \"Dimensions\": {\"Algorithm\": \"Linear Learner\", \"Host\": \"algo-1\", \"Operation\": \"training\", \"epoch\": 2, \"model\": 28}, \"Metrics\": {\"train_absolute_loss_objective\": {\"sum\": 0.9832681369781494, \"count\": 1, \"min\": 0.9832681369781494, \"max\": 0.9832681369781494}}}\u001b[0m\n",
      "\u001b[34m#metrics {\"StartTime\": 1682424567.9338138, \"EndTime\": 1682424567.9338305, \"Dimensions\": {\"Algorithm\": \"Linear Learner\", \"Host\": \"algo-1\", \"Operation\": \"training\", \"epoch\": 2, \"model\": 29}, \"Metrics\": {\"train_absolute_loss_objective\": {\"sum\": 0.9858716583251953, \"count\": 1, \"min\": 0.9858716583251953, \"max\": 0.9858716583251953}}}\u001b[0m\n",
      "\u001b[34m#metrics {\"StartTime\": 1682424567.9338896, \"EndTime\": 1682424567.9339063, \"Dimensions\": {\"Algorithm\": \"Linear Learner\", \"Host\": \"algo-1\", \"Operation\": \"training\", \"epoch\": 2, \"model\": 30}, \"Metrics\": {\"train_absolute_loss_objective\": {\"sum\": 0.986716365814209, \"count\": 1, \"min\": 0.986716365814209, \"max\": 0.986716365814209}}}\u001b[0m\n",
      "\u001b[34m#metrics {\"StartTime\": 1682424567.9339652, \"EndTime\": 1682424567.9339824, \"Dimensions\": {\"Algorithm\": \"Linear Learner\", \"Host\": \"algo-1\", \"Operation\": \"training\", \"epoch\": 2, \"model\": 31}, \"Metrics\": {\"train_absolute_loss_objective\": {\"sum\": 0.9991763877868652, \"count\": 1, \"min\": 0.9991763877868652, \"max\": 0.9991763877868652}}}\u001b[0m\n",
      "\u001b[34m[04/25/2023 12:09:27 INFO 139915425793856] #quality_metric: host=algo-1, epoch=2, train absolute_loss_objective <loss>=0.8473228931427002\u001b[0m\n",
      "\u001b[34m[04/25/2023 12:09:27 INFO 139915425793856] #early_stopping_criteria_metric: host=algo-1, epoch=2, criteria=absolute_loss_objective, value=0.2065304183959961\u001b[0m\n",
      "\u001b[34m[04/25/2023 12:09:27 INFO 139915425793856] Epoch 2: Loss improved. Updating best model\u001b[0m\n",
      "\u001b[34m[04/25/2023 12:09:27 INFO 139915425793856] Saving model for epoch: 2\u001b[0m\n",
      "\u001b[34m[04/25/2023 12:09:27 INFO 139915425793856] Saved checkpoint to \"/tmp/tmp2ksv6_2j/mx-mod-0000.params\"\u001b[0m\n",
      "\u001b[34m[04/25/2023 12:09:27 INFO 139915425793856] #progress_metric: host=algo-1, completed 6.0 % of epochs\u001b[0m\n",
      "\u001b[34m#metrics {\"StartTime\": 1682424567.8348057, \"EndTime\": 1682424567.9426634, \"Dimensions\": {\"Algorithm\": \"Linear Learner\", \"Host\": \"algo-1\", \"Operation\": \"training\", \"epoch\": 2, \"Meta\": \"training_data_iter\"}, \"Metrics\": {\"Total Records Seen\": {\"sum\": 109.0, \"count\": 1, \"min\": 109, \"max\": 109}, \"Total Batches Seen\": {\"sum\": 25.0, \"count\": 1, \"min\": 25, \"max\": 25}, \"Max Records Seen Between Resets\": {\"sum\": 26.0, \"count\": 1, \"min\": 26, \"max\": 26}, \"Max Batches Seen Between Resets\": {\"sum\": 6.0, \"count\": 1, \"min\": 6, \"max\": 6}, \"Reset Count\": {\"sum\": 5.0, \"count\": 1, \"min\": 5, \"max\": 5}, \"Number of Records Since Last Reset\": {\"sum\": 26.0, \"count\": 1, \"min\": 26, \"max\": 26}, \"Number of Batches Since Last Reset\": {\"sum\": 6.0, \"count\": 1, \"min\": 6, \"max\": 6}}}\u001b[0m\n",
      "\u001b[34m[04/25/2023 12:09:27 INFO 139915425793856] #throughput_metric: host=algo-1, train throughput=240.74490316285375 records/second\u001b[0m\n",
      "\u001b[34m[2023-04-25 12:09:28.050] [tensorio] [info] epoch_stats={\"data_pipeline\": \"/opt/ml/input/data/train\", \"epoch\": 10, \"duration\": 107, \"num_examples\": 6, \"num_bytes\": 1248}\u001b[0m\n",
      "\u001b[34m#metrics {\"StartTime\": 1682424568.0505288, \"EndTime\": 1682424568.050609, \"Dimensions\": {\"Algorithm\": \"Linear Learner\", \"Host\": \"algo-1\", \"Operation\": \"training\", \"epoch\": 3, \"model\": 0}, \"Metrics\": {\"train_absolute_loss_objective\": {\"sum\": 0.824707727432251, \"count\": 1, \"min\": 0.824707727432251, \"max\": 0.824707727432251}}}\u001b[0m\n",
      "\u001b[34m#metrics {\"StartTime\": 1682424568.050707, \"EndTime\": 1682424568.0507264, \"Dimensions\": {\"Algorithm\": \"Linear Learner\", \"Host\": \"algo-1\", \"Operation\": \"training\", \"epoch\": 3, \"model\": 1}, \"Metrics\": {\"train_absolute_loss_objective\": {\"sum\": 0.8440275573730469, \"count\": 1, \"min\": 0.8440275573730469, \"max\": 0.8440275573730469}}}\u001b[0m\n",
      "\u001b[34m#metrics {\"StartTime\": 1682424568.0507889, \"EndTime\": 1682424568.050806, \"Dimensions\": {\"Algorithm\": \"Linear Learner\", \"Host\": \"algo-1\", \"Operation\": \"training\", \"epoch\": 3, \"model\": 2}, \"Metrics\": {\"train_absolute_loss_objective\": {\"sum\": 0.8270826053619384, \"count\": 1, \"min\": 0.8270826053619384, \"max\": 0.8270826053619384}}}\u001b[0m\n",
      "\u001b[34m#metrics {\"StartTime\": 1682424568.050859, \"EndTime\": 1682424568.0508761, \"Dimensions\": {\"Algorithm\": \"Linear Learner\", \"Host\": \"algo-1\", \"Operation\": \"training\", \"epoch\": 3, \"model\": 3}, \"Metrics\": {\"train_absolute_loss_objective\": {\"sum\": 0.8430256843566895, \"count\": 1, \"min\": 0.8430256843566895, \"max\": 0.8430256843566895}}}\u001b[0m\n",
      "\u001b[34m#metrics {\"StartTime\": 1682424568.050943, \"EndTime\": 1682424568.0509617, \"Dimensions\": {\"Algorithm\": \"Linear Learner\", \"Host\": \"algo-1\", \"Operation\": \"training\", \"epoch\": 3, \"model\": 4}, \"Metrics\": {\"train_absolute_loss_objective\": {\"sum\": 0.3612785816192627, \"count\": 1, \"min\": 0.3612785816192627, \"max\": 0.3612785816192627}}}\u001b[0m\n",
      "\u001b[34m#metrics {\"StartTime\": 1682424568.051015, \"EndTime\": 1682424568.0510323, \"Dimensions\": {\"Algorithm\": \"Linear Learner\", \"Host\": \"algo-1\", \"Operation\": \"training\", \"epoch\": 3, \"model\": 5}, \"Metrics\": {\"train_absolute_loss_objective\": {\"sum\": 0.36393529415130615, \"count\": 1, \"min\": 0.36393529415130615, \"max\": 0.36393529415130615}}}\u001b[0m\n",
      "\u001b[34m#metrics {\"StartTime\": 1682424568.051088, \"EndTime\": 1682424568.0511053, \"Dimensions\": {\"Algorithm\": \"Linear Learner\", \"Host\": \"algo-1\", \"Operation\": \"training\", \"epoch\": 3, \"model\": 6}, \"Metrics\": {\"train_absolute_loss_objective\": {\"sum\": 0.40873831272125244, \"count\": 1, \"min\": 0.40873831272125244, \"max\": 0.40873831272125244}}}\u001b[0m\n",
      "\u001b[34m#metrics {\"StartTime\": 1682424568.0511699, \"EndTime\": 1682424568.0511878, \"Dimensions\": {\"Algorithm\": \"Linear Learner\", \"Host\": \"algo-1\", \"Operation\": \"training\", \"epoch\": 3, \"model\": 7}, \"Metrics\": {\"train_absolute_loss_objective\": {\"sum\": 0.3746841526031494, \"count\": 1, \"min\": 0.3746841526031494, \"max\": 0.3746841526031494}}}\u001b[0m\n",
      "\u001b[34m#metrics {\"StartTime\": 1682424568.0512528, \"EndTime\": 1682424568.0512707, \"Dimensions\": {\"Algorithm\": \"Linear Learner\", \"Host\": \"algo-1\", \"Operation\": \"training\", \"epoch\": 3, \"model\": 8}, \"Metrics\": {\"train_absolute_loss_objective\": {\"sum\": 0.8797557353973389, \"count\": 1, \"min\": 0.8797557353973389, \"max\": 0.8797557353973389}}}\u001b[0m\n",
      "\u001b[34m#metrics {\"StartTime\": 1682424568.051326, \"EndTime\": 1682424568.0513434, \"Dimensions\": {\"Algorithm\": \"Linear Learner\", \"Host\": \"algo-1\", \"Operation\": \"training\", \"epoch\": 3, \"model\": 9}, \"Metrics\": {\"train_absolute_loss_objective\": {\"sum\": 0.81258131980896, \"count\": 1, \"min\": 0.81258131980896, \"max\": 0.81258131980896}}}\u001b[0m\n",
      "\u001b[34m#metrics {\"StartTime\": 1682424568.0513964, \"EndTime\": 1682424568.0514135, \"Dimensions\": {\"Algorithm\": \"Linear Learner\", \"Host\": \"algo-1\", \"Operation\": \"training\", \"epoch\": 3, \"model\": 10}, \"Metrics\": {\"train_absolute_loss_objective\": {\"sum\": 0.8194625568389893, \"count\": 1, \"min\": 0.8194625568389893, \"max\": 0.8194625568389893}}}\u001b[0m\n",
      "\u001b[34m#metrics {\"StartTime\": 1682424568.0514617, \"EndTime\": 1682424568.051477, \"Dimensions\": {\"Algorithm\": \"Linear Learner\", \"Host\": \"algo-1\", \"Operation\": \"training\", \"epoch\": 3, \"model\": 11}, \"Metrics\": {\"train_absolute_loss_objective\": {\"sum\": 0.8045912456512451, \"count\": 1, \"min\": 0.8045912456512451, \"max\": 0.8045912456512451}}}\u001b[0m\n",
      "\u001b[34m#metrics {\"StartTime\": 1682424568.0515354, \"EndTime\": 1682424568.0515525, \"Dimensions\": {\"Algorithm\": \"Linear Learner\", \"Host\": \"algo-1\", \"Operation\": \"training\", \"epoch\": 3, \"model\": 12}, \"Metrics\": {\"train_absolute_loss_objective\": {\"sum\": 0.35635838031768796, \"count\": 1, \"min\": 0.35635838031768796, \"max\": 0.35635838031768796}}}\u001b[0m\n",
      "\u001b[34m#metrics {\"StartTime\": 1682424568.0516038, \"EndTime\": 1682424568.0516193, \"Dimensions\": {\"Algorithm\": \"Linear Learner\", \"Host\": \"algo-1\", \"Operation\": \"training\", \"epoch\": 3, \"model\": 13}, \"Metrics\": {\"train_absolute_loss_objective\": {\"sum\": 0.35407219409942625, \"count\": 1, \"min\": 0.35407219409942625, \"max\": 0.35407219409942625}}}\u001b[0m\n",
      "\u001b[34m#metrics {\"StartTime\": 1682424568.051677, \"EndTime\": 1682424568.0516932, \"Dimensions\": {\"Algorithm\": \"Linear Learner\", \"Host\": \"algo-1\", \"Operation\": \"training\", \"epoch\": 3, \"model\": 14}, \"Metrics\": {\"train_absolute_loss_objective\": {\"sum\": 0.35680594444274905, \"count\": 1, \"min\": 0.35680594444274905, \"max\": 0.35680594444274905}}}\u001b[0m\n",
      "\u001b[34m#metrics {\"StartTime\": 1682424568.051739, \"EndTime\": 1682424568.0517542, \"Dimensions\": {\"Algorithm\": \"Linear Learner\", \"Host\": \"algo-1\", \"Operation\": \"training\", \"epoch\": 3, \"model\": 15}, \"Metrics\": {\"train_absolute_loss_objective\": {\"sum\": 0.3152257347106934, \"count\": 1, \"min\": 0.3152257347106934, \"max\": 0.3152257347106934}}}\u001b[0m\n",
      "\u001b[34m#metrics {\"StartTime\": 1682424568.051811, \"EndTime\": 1682424568.0518274, \"Dimensions\": {\"Algorithm\": \"Linear Learner\", \"Host\": \"algo-1\", \"Operation\": \"training\", \"epoch\": 3, \"model\": 16}, \"Metrics\": {\"train_absolute_loss_objective\": {\"sum\": 0.7897473621368408, \"count\": 1, \"min\": 0.7897473621368408, \"max\": 0.7897473621368408}}}\u001b[0m\n",
      "\u001b[34m#metrics {\"StartTime\": 1682424568.051877, \"EndTime\": 1682424568.0518932, \"Dimensions\": {\"Algorithm\": \"Linear Learner\", \"Host\": \"algo-1\", \"Operation\": \"training\", \"epoch\": 3, \"model\": 17}, \"Metrics\": {\"train_absolute_loss_objective\": {\"sum\": 0.8397599411010742, \"count\": 1, \"min\": 0.8397599411010742, \"max\": 0.8397599411010742}}}\u001b[0m\n",
      "\u001b[34m#metrics {\"StartTime\": 1682424568.0519335, \"EndTime\": 1682424568.0519478, \"Dimensions\": {\"Algorithm\": \"Linear Learner\", \"Host\": \"algo-1\", \"Operation\": \"training\", \"epoch\": 3, \"model\": 18}, \"Metrics\": {\"train_absolute_loss_objective\": {\"sum\": 0.8163003730773926, \"count\": 1, \"min\": 0.8163003730773926, \"max\": 0.8163003730773926}}}\u001b[0m\n",
      "\u001b[34m#metrics {\"StartTime\": 1682424568.0520046, \"EndTime\": 1682424568.052021, \"Dimensions\": {\"Algorithm\": \"Linear Learner\", \"Host\": \"algo-1\", \"Operation\": \"training\", \"epoch\": 3, \"model\": 19}, \"Metrics\": {\"train_absolute_loss_objective\": {\"sum\": 0.8133688068389893, \"count\": 1, \"min\": 0.8133688068389893, \"max\": 0.8133688068389893}}}\u001b[0m\n",
      "\u001b[34m#metrics {\"StartTime\": 1682424568.0520756, \"EndTime\": 1682424568.0520906, \"Dimensions\": {\"Algorithm\": \"Linear Learner\", \"Host\": \"algo-1\", \"Operation\": \"training\", \"epoch\": 3, \"model\": 20}, \"Metrics\": {\"train_absolute_loss_objective\": {\"sum\": 0.20821897506713868, \"count\": 1, \"min\": 0.20821897506713868, \"max\": 0.20821897506713868}}}\u001b[0m\n",
      "\u001b[34m#metrics {\"StartTime\": 1682424568.0521388, \"EndTime\": 1682424568.0521555, \"Dimensions\": {\"Algorithm\": \"Linear Learner\", \"Host\": \"algo-1\", \"Operation\": \"training\", \"epoch\": 3, \"model\": 21}, \"Metrics\": {\"train_absolute_loss_objective\": {\"sum\": 0.20727783203125, \"count\": 1, \"min\": 0.20727783203125, \"max\": 0.20727783203125}}}\u001b[0m\n",
      "\u001b[34m#metrics {\"StartTime\": 1682424568.0522044, \"EndTime\": 1682424568.0522194, \"Dimensions\": {\"Algorithm\": \"Linear Learner\", \"Host\": \"algo-1\", \"Operation\": \"training\", \"epoch\": 3, \"model\": 22}, \"Metrics\": {\"train_absolute_loss_objective\": {\"sum\": 0.2957604002952576, \"count\": 1, \"min\": 0.2957604002952576, \"max\": 0.2957604002952576}}}\u001b[0m\n",
      "\u001b[34m#metrics {\"StartTime\": 1682424568.052274, \"EndTime\": 1682424568.0522902, \"Dimensions\": {\"Algorithm\": \"Linear Learner\", \"Host\": \"algo-1\", \"Operation\": \"training\", \"epoch\": 3, \"model\": 23}, \"Metrics\": {\"train_absolute_loss_objective\": {\"sum\": 0.21717800617218017, \"count\": 1, \"min\": 0.21717800617218017, \"max\": 0.21717800617218017}}}\u001b[0m\n",
      "\u001b[34m#metrics {\"StartTime\": 1682424568.0523434, \"EndTime\": 1682424568.0523586, \"Dimensions\": {\"Algorithm\": \"Linear Learner\", \"Host\": \"algo-1\", \"Operation\": \"training\", \"epoch\": 3, \"model\": 24}, \"Metrics\": {\"train_absolute_loss_objective\": {\"sum\": 0.9030476760864258, \"count\": 1, \"min\": 0.9030476760864258, \"max\": 0.9030476760864258}}}\u001b[0m\n",
      "\u001b[34m#metrics {\"StartTime\": 1682424568.0524073, \"EndTime\": 1682424568.0524232, \"Dimensions\": {\"Algorithm\": \"Linear Learner\", \"Host\": \"algo-1\", \"Operation\": \"training\", \"epoch\": 3, \"model\": 25}, \"Metrics\": {\"train_absolute_loss_objective\": {\"sum\": 0.8840199756622314, \"count\": 1, \"min\": 0.8840199756622314, \"max\": 0.8840199756622314}}}\u001b[0m\n",
      "\u001b[34m#metrics {\"StartTime\": 1682424568.0524724, \"EndTime\": 1682424568.0524871, \"Dimensions\": {\"Algorithm\": \"Linear Learner\", \"Host\": \"algo-1\", \"Operation\": \"training\", \"epoch\": 3, \"model\": 26}, \"Metrics\": {\"train_absolute_loss_objective\": {\"sum\": 0.8925985622406006, \"count\": 1, \"min\": 0.8925985622406006, \"max\": 0.8925985622406006}}}\u001b[0m\n",
      "\u001b[34m#metrics {\"StartTime\": 1682424568.0525346, \"EndTime\": 1682424568.05255, \"Dimensions\": {\"Algorithm\": \"Linear Learner\", \"Host\": \"algo-1\", \"Operation\": \"training\", \"epoch\": 3, \"model\": 27}, \"Metrics\": {\"train_absolute_loss_objective\": {\"sum\": 0.8963152313232422, \"count\": 1, \"min\": 0.8963152313232422, \"max\": 0.8963152313232422}}}\u001b[0m\n",
      "\u001b[34m#metrics {\"StartTime\": 1682424568.0525982, \"EndTime\": 1682424568.0526145, \"Dimensions\": {\"Algorithm\": \"Linear Learner\", \"Host\": \"algo-1\", \"Operation\": \"training\", \"epoch\": 3, \"model\": 28}, \"Metrics\": {\"train_absolute_loss_objective\": {\"sum\": 0.926375846862793, \"count\": 1, \"min\": 0.926375846862793, \"max\": 0.926375846862793}}}\u001b[0m\n",
      "\u001b[34m#metrics {\"StartTime\": 1682424568.0526633, \"EndTime\": 1682424568.0526795, \"Dimensions\": {\"Algorithm\": \"Linear Learner\", \"Host\": \"algo-1\", \"Operation\": \"training\", \"epoch\": 3, \"model\": 29}, \"Metrics\": {\"train_absolute_loss_objective\": {\"sum\": 0.9272473335266114, \"count\": 1, \"min\": 0.9272473335266114, \"max\": 0.9272473335266114}}}\u001b[0m\n",
      "\u001b[34m#metrics {\"StartTime\": 1682424568.0527291, \"EndTime\": 1682424568.0527446, \"Dimensions\": {\"Algorithm\": \"Linear Learner\", \"Host\": \"algo-1\", \"Operation\": \"training\", \"epoch\": 3, \"model\": 30}, \"Metrics\": {\"train_absolute_loss_objective\": {\"sum\": 0.9282966327667236, \"count\": 1, \"min\": 0.9282966327667236, \"max\": 0.9282966327667236}}}\u001b[0m\n",
      "\u001b[34m#metrics {\"StartTime\": 1682424568.0527954, \"EndTime\": 1682424568.0528104, \"Dimensions\": {\"Algorithm\": \"Linear Learner\", \"Host\": \"algo-1\", \"Operation\": \"training\", \"epoch\": 3, \"model\": 31}, \"Metrics\": {\"train_absolute_loss_objective\": {\"sum\": 0.9074922275543212, \"count\": 1, \"min\": 0.9074922275543212, \"max\": 0.9074922275543212}}}\u001b[0m\n",
      "\u001b[34m[04/25/2023 12:09:28 INFO 139915425793856] #quality_metric: host=algo-1, epoch=3, train absolute_loss_objective <loss>=0.824707727432251\u001b[0m\n",
      "\u001b[34m[04/25/2023 12:09:28 INFO 139915425793856] #early_stopping_criteria_metric: host=algo-1, epoch=3, criteria=absolute_loss_objective, value=0.20727783203125\u001b[0m\n",
      "\u001b[34m[04/25/2023 12:09:28 INFO 139915425793856] Saving model for epoch: 3\u001b[0m\n",
      "\u001b[34m[04/25/2023 12:09:28 INFO 139915425793856] Saved checkpoint to \"/tmp/tmpeji_x7os/mx-mod-0000.params\"\u001b[0m\n",
      "\u001b[34m[04/25/2023 12:09:28 INFO 139915425793856] #progress_metric: host=algo-1, completed 8.0 % of epochs\u001b[0m\n",
      "\u001b[34m#metrics {\"StartTime\": 1682424567.9429626, \"EndTime\": 1682424568.0607944, \"Dimensions\": {\"Algorithm\": \"Linear Learner\", \"Host\": \"algo-1\", \"Operation\": \"training\", \"epoch\": 3, \"Meta\": \"training_data_iter\"}, \"Metrics\": {\"Total Records Seen\": {\"sum\": 135.0, \"count\": 1, \"min\": 135, \"max\": 135}, \"Total Batches Seen\": {\"sum\": 31.0, \"count\": 1, \"min\": 31, \"max\": 31}, \"Max Records Seen Between Resets\": {\"sum\": 26.0, \"count\": 1, \"min\": 26, \"max\": 26}, \"Max Batches Seen Between Resets\": {\"sum\": 6.0, \"count\": 1, \"min\": 6, \"max\": 6}, \"Reset Count\": {\"sum\": 6.0, \"count\": 1, \"min\": 6, \"max\": 6}, \"Number of Records Since Last Reset\": {\"sum\": 26.0, \"count\": 1, \"min\": 26, \"max\": 26}, \"Number of Batches Since Last Reset\": {\"sum\": 6.0, \"count\": 1, \"min\": 6, \"max\": 6}}}\u001b[0m\n",
      "\u001b[34m[04/25/2023 12:09:28 INFO 139915425793856] #throughput_metric: host=algo-1, train throughput=220.40394355493936 records/second\u001b[0m\n",
      "\u001b[34m[2023-04-25 12:09:28.169] [tensorio] [info] epoch_stats={\"data_pipeline\": \"/opt/ml/input/data/train\", \"epoch\": 12, \"duration\": 108, \"num_examples\": 6, \"num_bytes\": 1248}\u001b[0m\n",
      "\u001b[34m#metrics {\"StartTime\": 1682424568.1696358, \"EndTime\": 1682424568.1697068, \"Dimensions\": {\"Algorithm\": \"Linear Learner\", \"Host\": \"algo-1\", \"Operation\": \"training\", \"epoch\": 4, \"model\": 0}, \"Metrics\": {\"train_absolute_loss_objective\": {\"sum\": 0.8026465129852295, \"count\": 1, \"min\": 0.8026465129852295, \"max\": 0.8026465129852295}}}\u001b[0m\n",
      "\u001b[34m#metrics {\"StartTime\": 1682424568.1698217, \"EndTime\": 1682424568.1698425, \"Dimensions\": {\"Algorithm\": \"Linear Learner\", \"Host\": \"algo-1\", \"Operation\": \"training\", \"epoch\": 4, \"model\": 1}, \"Metrics\": {\"train_absolute_loss_objective\": {\"sum\": 0.8216805839538575, \"count\": 1, \"min\": 0.8216805839538575, \"max\": 0.8216805839538575}}}\u001b[0m\n",
      "\u001b[34m#metrics {\"StartTime\": 1682424568.1699002, \"EndTime\": 1682424568.169918, \"Dimensions\": {\"Algorithm\": \"Linear Learner\", \"Host\": \"algo-1\", \"Operation\": \"training\", \"epoch\": 4, \"model\": 2}, \"Metrics\": {\"train_absolute_loss_objective\": {\"sum\": 0.8050213527679443, \"count\": 1, \"min\": 0.8050213527679443, \"max\": 0.8050213527679443}}}\u001b[0m\n",
      "\u001b[34m#metrics {\"StartTime\": 1682424568.1699662, \"EndTime\": 1682424568.1699822, \"Dimensions\": {\"Algorithm\": \"Linear Learner\", \"Host\": \"algo-1\", \"Operation\": \"training\", \"epoch\": 4, \"model\": 3}, \"Metrics\": {\"train_absolute_loss_objective\": {\"sum\": 0.8206787109375, \"count\": 1, \"min\": 0.8206787109375, \"max\": 0.8206787109375}}}\u001b[0m\n",
      "\u001b[34m#metrics {\"StartTime\": 1682424568.1700366, \"EndTime\": 1682424568.1700525, \"Dimensions\": {\"Algorithm\": \"Linear Learner\", \"Host\": \"algo-1\", \"Operation\": \"training\", \"epoch\": 4, \"model\": 4}, \"Metrics\": {\"train_absolute_loss_objective\": {\"sum\": 0.3057877016067505, \"count\": 1, \"min\": 0.3057877016067505, \"max\": 0.3057877016067505}}}\u001b[0m\n",
      "\u001b[34m#metrics {\"StartTime\": 1682424568.1701062, \"EndTime\": 1682424568.1701224, \"Dimensions\": {\"Algorithm\": \"Linear Learner\", \"Host\": \"algo-1\", \"Operation\": \"training\", \"epoch\": 4, \"model\": 5}, \"Metrics\": {\"train_absolute_loss_objective\": {\"sum\": 0.3041103935241699, \"count\": 1, \"min\": 0.3041103935241699, \"max\": 0.3041103935241699}}}\u001b[0m\n",
      "\u001b[34m#metrics {\"StartTime\": 1682424568.1701753, \"EndTime\": 1682424568.1701891, \"Dimensions\": {\"Algorithm\": \"Linear Learner\", \"Host\": \"algo-1\", \"Operation\": \"training\", \"epoch\": 4, \"model\": 6}, \"Metrics\": {\"train_absolute_loss_objective\": {\"sum\": 0.3578687357902527, \"count\": 1, \"min\": 0.3578687357902527, \"max\": 0.3578687357902527}}}\u001b[0m\n",
      "\u001b[34m#metrics {\"StartTime\": 1682424568.1702387, \"EndTime\": 1682424568.1702552, \"Dimensions\": {\"Algorithm\": \"Linear Learner\", \"Host\": \"algo-1\", \"Operation\": \"training\", \"epoch\": 4, \"model\": 7}, \"Metrics\": {\"train_absolute_loss_objective\": {\"sum\": 0.35939559936523435, \"count\": 1, \"min\": 0.35939559936523435, \"max\": 0.35939559936523435}}}\u001b[0m\n",
      "\u001b[34m#metrics {\"StartTime\": 1682424568.1703038, \"EndTime\": 1682424568.1703198, \"Dimensions\": {\"Algorithm\": \"Linear Learner\", \"Host\": \"algo-1\", \"Operation\": \"training\", \"epoch\": 4, \"model\": 8}, \"Metrics\": {\"train_absolute_loss_objective\": {\"sum\": 0.8576982593536377, \"count\": 1, \"min\": 0.8576982593536377, \"max\": 0.8576982593536377}}}\u001b[0m\n",
      "\u001b[34m#metrics {\"StartTime\": 1682424568.1703694, \"EndTime\": 1682424568.1703856, \"Dimensions\": {\"Algorithm\": \"Linear Learner\", \"Host\": \"algo-1\", \"Operation\": \"training\", \"epoch\": 4, \"model\": 9}, \"Metrics\": {\"train_absolute_loss_objective\": {\"sum\": 0.7902388381958008, \"count\": 1, \"min\": 0.7902388381958008, \"max\": 0.7902388381958008}}}\u001b[0m\n",
      "\u001b[34m#metrics {\"StartTime\": 1682424568.1704378, \"EndTime\": 1682424568.170454, \"Dimensions\": {\"Algorithm\": \"Linear Learner\", \"Host\": \"algo-1\", \"Operation\": \"training\", \"epoch\": 4, \"model\": 10}, \"Metrics\": {\"train_absolute_loss_objective\": {\"sum\": 0.7974056720733642, \"count\": 1, \"min\": 0.7974056720733642, \"max\": 0.7974056720733642}}}\u001b[0m\n",
      "\u001b[34m#metrics {\"StartTime\": 1682424568.170514, \"EndTime\": 1682424568.170532, \"Dimensions\": {\"Algorithm\": \"Linear Learner\", \"Host\": \"algo-1\", \"Operation\": \"training\", \"epoch\": 4, \"model\": 11}, \"Metrics\": {\"train_absolute_loss_objective\": {\"sum\": 0.7822488403320312, \"count\": 1, \"min\": 0.7822488403320312, \"max\": 0.7822488403320312}}}\u001b[0m\n",
      "\u001b[34m#metrics {\"StartTime\": 1682424568.1706355, \"EndTime\": 1682424568.1706548, \"Dimensions\": {\"Algorithm\": \"Linear Learner\", \"Host\": \"algo-1\", \"Operation\": \"training\", \"epoch\": 4, \"model\": 12}, \"Metrics\": {\"train_absolute_loss_objective\": {\"sum\": 0.29793373107910154, \"count\": 1, \"min\": 0.29793373107910154, \"max\": 0.29793373107910154}}}\u001b[0m\n",
      "\u001b[34m#metrics {\"StartTime\": 1682424568.1707165, \"EndTime\": 1682424568.1707335, \"Dimensions\": {\"Algorithm\": \"Linear Learner\", \"Host\": \"algo-1\", \"Operation\": \"training\", \"epoch\": 4, \"model\": 13}, \"Metrics\": {\"train_absolute_loss_objective\": {\"sum\": 0.28941323041915895, \"count\": 1, \"min\": 0.28941323041915895, \"max\": 0.28941323041915895}}}\u001b[0m\n",
      "\u001b[34m#metrics {\"StartTime\": 1682424568.17079, \"EndTime\": 1682424568.1708055, \"Dimensions\": {\"Algorithm\": \"Linear Learner\", \"Host\": \"algo-1\", \"Operation\": \"training\", \"epoch\": 4, \"model\": 14}, \"Metrics\": {\"train_absolute_loss_objective\": {\"sum\": 0.2985529899597168, \"count\": 1, \"min\": 0.2985529899597168, \"max\": 0.2985529899597168}}}\u001b[0m\n",
      "\u001b[34m#metrics {\"StartTime\": 1682424568.1709096, \"EndTime\": 1682424568.170929, \"Dimensions\": {\"Algorithm\": \"Linear Learner\", \"Host\": \"algo-1\", \"Operation\": \"training\", \"epoch\": 4, \"model\": 15}, \"Metrics\": {\"train_absolute_loss_objective\": {\"sum\": 0.20318971633911131, \"count\": 1, \"min\": 0.20318971633911131, \"max\": 0.20318971633911131}}}\u001b[0m\n",
      "\u001b[34m#metrics {\"StartTime\": 1682424568.170981, \"EndTime\": 1682424568.1709962, \"Dimensions\": {\"Algorithm\": \"Linear Learner\", \"Host\": \"algo-1\", \"Operation\": \"training\", \"epoch\": 4, \"model\": 16}, \"Metrics\": {\"train_absolute_loss_objective\": {\"sum\": 0.7682234859466552, \"count\": 1, \"min\": 0.7682234859466552, \"max\": 0.7682234859466552}}}\u001b[0m\n",
      "\u001b[34m#metrics {\"StartTime\": 1682424568.171095, \"EndTime\": 1682424568.1711133, \"Dimensions\": {\"Algorithm\": \"Linear Learner\", \"Host\": \"algo-1\", \"Operation\": \"training\", \"epoch\": 4, \"model\": 17}, \"Metrics\": {\"train_absolute_loss_objective\": {\"sum\": 0.8178667068481446, \"count\": 1, \"min\": 0.8178667068481446, \"max\": 0.8178667068481446}}}\u001b[0m\n",
      "\u001b[34m#metrics {\"StartTime\": 1682424568.17117, \"EndTime\": 1682424568.171186, \"Dimensions\": {\"Algorithm\": \"Linear Learner\", \"Host\": \"algo-1\", \"Operation\": \"training\", \"epoch\": 4, \"model\": 18}, \"Metrics\": {\"train_absolute_loss_objective\": {\"sum\": 0.7947253227233887, \"count\": 1, \"min\": 0.7947253227233887, \"max\": 0.7947253227233887}}}\u001b[0m\n",
      "\u001b[34m#metrics {\"StartTime\": 1682424568.171235, \"EndTime\": 1682424568.171251, \"Dimensions\": {\"Algorithm\": \"Linear Learner\", \"Host\": \"algo-1\", \"Operation\": \"training\", \"epoch\": 4, \"model\": 19}, \"Metrics\": {\"train_absolute_loss_objective\": {\"sum\": 0.7915228462219238, \"count\": 1, \"min\": 0.7915228462219238, \"max\": 0.7915228462219238}}}\u001b[0m\n",
      "\u001b[34m#metrics {\"StartTime\": 1682424568.1713116, \"EndTime\": 1682424568.1713254, \"Dimensions\": {\"Algorithm\": \"Linear Learner\", \"Host\": \"algo-1\", \"Operation\": \"training\", \"epoch\": 4, \"model\": 20}, \"Metrics\": {\"train_absolute_loss_objective\": {\"sum\": 0.2369857597351074, \"count\": 1, \"min\": 0.2369857597351074, \"max\": 0.2369857597351074}}}\u001b[0m\n",
      "\u001b[34m#metrics {\"StartTime\": 1682424568.1713877, \"EndTime\": 1682424568.171405, \"Dimensions\": {\"Algorithm\": \"Linear Learner\", \"Host\": \"algo-1\", \"Operation\": \"training\", \"epoch\": 4, \"model\": 21}, \"Metrics\": {\"train_absolute_loss_objective\": {\"sum\": 0.23568881511688233, \"count\": 1, \"min\": 0.23568881511688233, \"max\": 0.23568881511688233}}}\u001b[0m\n",
      "\u001b[34m#metrics {\"StartTime\": 1682424568.1714654, \"EndTime\": 1682424568.1714823, \"Dimensions\": {\"Algorithm\": \"Linear Learner\", \"Host\": \"algo-1\", \"Operation\": \"training\", \"epoch\": 4, \"model\": 22}, \"Metrics\": {\"train_absolute_loss_objective\": {\"sum\": 0.47883417129516603, \"count\": 1, \"min\": 0.47883417129516603, \"max\": 0.47883417129516603}}}\u001b[0m\n",
      "\u001b[34m#metrics {\"StartTime\": 1682424568.1715333, \"EndTime\": 1682424568.1715496, \"Dimensions\": {\"Algorithm\": \"Linear Learner\", \"Host\": \"algo-1\", \"Operation\": \"training\", \"epoch\": 4, \"model\": 23}, \"Metrics\": {\"train_absolute_loss_objective\": {\"sum\": 0.3898001575469971, \"count\": 1, \"min\": 0.3898001575469971, \"max\": 0.3898001575469971}}}\u001b[0m\n",
      "\u001b[34m#metrics {\"StartTime\": 1682424568.1716022, \"EndTime\": 1682424568.1716182, \"Dimensions\": {\"Algorithm\": \"Linear Learner\", \"Host\": \"algo-1\", \"Operation\": \"training\", \"epoch\": 4, \"model\": 24}, \"Metrics\": {\"train_absolute_loss_objective\": {\"sum\": 0.9044511222839355, \"count\": 1, \"min\": 0.9044511222839355, \"max\": 0.9044511222839355}}}\u001b[0m\n",
      "\u001b[34m#metrics {\"StartTime\": 1682424568.1716697, \"EndTime\": 1682424568.171685, \"Dimensions\": {\"Algorithm\": \"Linear Learner\", \"Host\": \"algo-1\", \"Operation\": \"training\", \"epoch\": 4, \"model\": 25}, \"Metrics\": {\"train_absolute_loss_objective\": {\"sum\": 0.8871029472351074, \"count\": 1, \"min\": 0.8871029472351074, \"max\": 0.8871029472351074}}}\u001b[0m\n",
      "\u001b[34m#metrics {\"StartTime\": 1682424568.1717317, \"EndTime\": 1682424568.1717467, \"Dimensions\": {\"Algorithm\": \"Linear Learner\", \"Host\": \"algo-1\", \"Operation\": \"training\", \"epoch\": 4, \"model\": 26}, \"Metrics\": {\"train_absolute_loss_objective\": {\"sum\": 0.8965280437469483, \"count\": 1, \"min\": 0.8965280437469483, \"max\": 0.8965280437469483}}}\u001b[0m\n",
      "\u001b[34m#metrics {\"StartTime\": 1682424568.1717944, \"EndTime\": 1682424568.171809, \"Dimensions\": {\"Algorithm\": \"Linear Learner\", \"Host\": \"algo-1\", \"Operation\": \"training\", \"epoch\": 4, \"model\": 27}, \"Metrics\": {\"train_absolute_loss_objective\": {\"sum\": 0.8912845993041992, \"count\": 1, \"min\": 0.8912845993041992, \"max\": 0.8912845993041992}}}\u001b[0m\n",
      "\u001b[34m#metrics {\"StartTime\": 1682424568.1718564, \"EndTime\": 1682424568.1718717, \"Dimensions\": {\"Algorithm\": \"Linear Learner\", \"Host\": \"algo-1\", \"Operation\": \"training\", \"epoch\": 4, \"model\": 28}, \"Metrics\": {\"train_absolute_loss_objective\": {\"sum\": 0.8845889854431153, \"count\": 1, \"min\": 0.8845889854431153, \"max\": 0.8845889854431153}}}\u001b[0m\n",
      "\u001b[34m#metrics {\"StartTime\": 1682424568.1719213, \"EndTime\": 1682424568.1719363, \"Dimensions\": {\"Algorithm\": \"Linear Learner\", \"Host\": \"algo-1\", \"Operation\": \"training\", \"epoch\": 4, \"model\": 29}, \"Metrics\": {\"train_absolute_loss_objective\": {\"sum\": 0.8845334339141846, \"count\": 1, \"min\": 0.8845334339141846, \"max\": 0.8845334339141846}}}\u001b[0m\n",
      "\u001b[34m#metrics {\"StartTime\": 1682424568.171992, \"EndTime\": 1682424568.172008, \"Dimensions\": {\"Algorithm\": \"Linear Learner\", \"Host\": \"algo-1\", \"Operation\": \"training\", \"epoch\": 4, \"model\": 30}, \"Metrics\": {\"train_absolute_loss_objective\": {\"sum\": 0.8808242893218994, \"count\": 1, \"min\": 0.8808242893218994, \"max\": 0.8808242893218994}}}\u001b[0m\n",
      "\u001b[34m#metrics {\"StartTime\": 1682424568.1720662, \"EndTime\": 1682424568.1720834, \"Dimensions\": {\"Algorithm\": \"Linear Learner\", \"Host\": \"algo-1\", \"Operation\": \"training\", \"epoch\": 4, \"model\": 31}, \"Metrics\": {\"train_absolute_loss_objective\": {\"sum\": 0.9061376190185547, \"count\": 1, \"min\": 0.9061376190185547, \"max\": 0.9061376190185547}}}\u001b[0m\n",
      "\u001b[34m[04/25/2023 12:09:28 INFO 139915425793856] #quality_metric: host=algo-1, epoch=4, train absolute_loss_objective <loss>=0.8026465129852295\u001b[0m\n",
      "\u001b[34m[04/25/2023 12:09:28 INFO 139915425793856] #early_stopping_criteria_metric: host=algo-1, epoch=4, criteria=absolute_loss_objective, value=0.20318971633911131\u001b[0m\n",
      "\u001b[34m[04/25/2023 12:09:28 INFO 139915425793856] Epoch 4: Loss improved. Updating best model\u001b[0m\n",
      "\u001b[34m[04/25/2023 12:09:28 INFO 139915425793856] Saving model for epoch: 4\u001b[0m\n",
      "\u001b[34m[04/25/2023 12:09:28 INFO 139915425793856] Saved checkpoint to \"/tmp/tmpj_t8fbgu/mx-mod-0000.params\"\u001b[0m\n",
      "\u001b[34m[04/25/2023 12:09:28 INFO 139915425793856] #progress_metric: host=algo-1, completed 10.0 % of epochs\u001b[0m\n",
      "\u001b[34m#metrics {\"StartTime\": 1682424568.0610986, \"EndTime\": 1682424568.1802998, \"Dimensions\": {\"Algorithm\": \"Linear Learner\", \"Host\": \"algo-1\", \"Operation\": \"training\", \"epoch\": 4, \"Meta\": \"training_data_iter\"}, \"Metrics\": {\"Total Records Seen\": {\"sum\": 161.0, \"count\": 1, \"min\": 161, \"max\": 161}, \"Total Batches Seen\": {\"sum\": 37.0, \"count\": 1, \"min\": 37, \"max\": 37}, \"Max Records Seen Between Resets\": {\"sum\": 26.0, \"count\": 1, \"min\": 26, \"max\": 26}, \"Max Batches Seen Between Resets\": {\"sum\": 6.0, \"count\": 1, \"min\": 6, \"max\": 6}, \"Reset Count\": {\"sum\": 7.0, \"count\": 1, \"min\": 7, \"max\": 7}, \"Number of Records Since Last Reset\": {\"sum\": 26.0, \"count\": 1, \"min\": 26, \"max\": 26}, \"Number of Batches Since Last Reset\": {\"sum\": 6.0, \"count\": 1, \"min\": 6, \"max\": 6}}}\u001b[0m\n",
      "\u001b[34m[04/25/2023 12:09:28 INFO 139915425793856] #throughput_metric: host=algo-1, train throughput=217.87721569567648 records/second\u001b[0m\n",
      "\u001b[34m[2023-04-25 12:09:28.266] [tensorio] [info] epoch_stats={\"data_pipeline\": \"/opt/ml/input/data/train\", \"epoch\": 14, \"duration\": 85, \"num_examples\": 6, \"num_bytes\": 1248}\u001b[0m\n",
      "\u001b[34m#metrics {\"StartTime\": 1682424568.2663865, \"EndTime\": 1682424568.2664666, \"Dimensions\": {\"Algorithm\": \"Linear Learner\", \"Host\": \"algo-1\", \"Operation\": \"training\", \"epoch\": 5, \"model\": 0}, \"Metrics\": {\"train_absolute_loss_objective\": {\"sum\": 0.7809673404693603, \"count\": 1, \"min\": 0.7809673404693603, \"max\": 0.7809673404693603}}}\u001b[0m\n",
      "\u001b[34m#metrics {\"StartTime\": 1682424568.2665627, \"EndTime\": 1682424568.2665818, \"Dimensions\": {\"Algorithm\": \"Linear Learner\", \"Host\": \"algo-1\", \"Operation\": \"training\", \"epoch\": 5, \"model\": 1}, \"Metrics\": {\"train_absolute_loss_objective\": {\"sum\": 0.7995612525939941, \"count\": 1, \"min\": 0.7995612525939941, \"max\": 0.7995612525939941}}}\u001b[0m\n",
      "\u001b[34m#metrics {\"StartTime\": 1682424568.2666302, \"EndTime\": 1682424568.2666433, \"Dimensions\": {\"Algorithm\": \"Linear Learner\", \"Host\": \"algo-1\", \"Operation\": \"training\", \"epoch\": 5, \"model\": 2}, \"Metrics\": {\"train_absolute_loss_objective\": {\"sum\": 0.7833422088623047, \"count\": 1, \"min\": 0.7833422088623047, \"max\": 0.7833422088623047}}}\u001b[0m\n",
      "\u001b[34m#metrics {\"StartTime\": 1682424568.2666852, \"EndTime\": 1682424568.2667003, \"Dimensions\": {\"Algorithm\": \"Linear Learner\", \"Host\": \"algo-1\", \"Operation\": \"training\", \"epoch\": 5, \"model\": 3}, \"Metrics\": {\"train_absolute_loss_objective\": {\"sum\": 0.798559398651123, \"count\": 1, \"min\": 0.798559398651123, \"max\": 0.798559398651123}}}\u001b[0m\n",
      "\u001b[34m#metrics {\"StartTime\": 1682424568.2667522, \"EndTime\": 1682424568.266769, \"Dimensions\": {\"Algorithm\": \"Linear Learner\", \"Host\": \"algo-1\", \"Operation\": \"training\", \"epoch\": 5, \"model\": 4}, \"Metrics\": {\"train_absolute_loss_objective\": {\"sum\": 0.26911977291107175, \"count\": 1, \"min\": 0.26911977291107175, \"max\": 0.26911977291107175}}}\u001b[0m\n",
      "\u001b[34m#metrics {\"StartTime\": 1682424568.2668316, \"EndTime\": 1682424568.2668493, \"Dimensions\": {\"Algorithm\": \"Linear Learner\", \"Host\": \"algo-1\", \"Operation\": \"training\", \"epoch\": 5, \"model\": 5}, \"Metrics\": {\"train_absolute_loss_objective\": {\"sum\": 0.2840346956253052, \"count\": 1, \"min\": 0.2840346956253052, \"max\": 0.2840346956253052}}}\u001b[0m\n",
      "\u001b[34m#metrics {\"StartTime\": 1682424568.2669115, \"EndTime\": 1682424568.2669291, \"Dimensions\": {\"Algorithm\": \"Linear Learner\", \"Host\": \"algo-1\", \"Operation\": \"training\", \"epoch\": 5, \"model\": 6}, \"Metrics\": {\"train_absolute_loss_objective\": {\"sum\": 0.27753730773925783, \"count\": 1, \"min\": 0.27753730773925783, \"max\": 0.27753730773925783}}}\u001b[0m\n",
      "\u001b[34m#metrics {\"StartTime\": 1682424568.2669835, \"EndTime\": 1682424568.2669992, \"Dimensions\": {\"Algorithm\": \"Linear Learner\", \"Host\": \"algo-1\", \"Operation\": \"training\", \"epoch\": 5, \"model\": 7}, \"Metrics\": {\"train_absolute_loss_objective\": {\"sum\": 0.26556395053863524, \"count\": 1, \"min\": 0.26556395053863524, \"max\": 0.26556395053863524}}}\u001b[0m\n",
      "\u001b[34m#metrics {\"StartTime\": 1682424568.2670481, \"EndTime\": 1682424568.2670639, \"Dimensions\": {\"Algorithm\": \"Linear Learner\", \"Host\": \"algo-1\", \"Operation\": \"training\", \"epoch\": 5, \"model\": 8}, \"Metrics\": {\"train_absolute_loss_objective\": {\"sum\": 0.8360248279571533, \"count\": 1, \"min\": 0.8360248279571533, \"max\": 0.8360248279571533}}}\u001b[0m\n",
      "\u001b[34m#metrics {\"StartTime\": 1682424568.2671185, \"EndTime\": 1682424568.2671347, \"Dimensions\": {\"Algorithm\": \"Linear Learner\", \"Host\": \"algo-1\", \"Operation\": \"training\", \"epoch\": 5, \"model\": 9}, \"Metrics\": {\"train_absolute_loss_objective\": {\"sum\": 0.7681260871887207, \"count\": 1, \"min\": 0.7681260871887207, \"max\": 0.7681260871887207}}}\u001b[0m\n",
      "\u001b[34m#metrics {\"StartTime\": 1682424568.2671852, \"EndTime\": 1682424568.267201, \"Dimensions\": {\"Algorithm\": \"Linear Learner\", \"Host\": \"algo-1\", \"Operation\": \"training\", \"epoch\": 5, \"model\": 10}, \"Metrics\": {\"train_absolute_loss_objective\": {\"sum\": 0.7757328033447266, \"count\": 1, \"min\": 0.7757328033447266, \"max\": 0.7757328033447266}}}\u001b[0m\n",
      "\u001b[34m#metrics {\"StartTime\": 1682424568.2672532, \"EndTime\": 1682424568.2672694, \"Dimensions\": {\"Algorithm\": \"Linear Learner\", \"Host\": \"algo-1\", \"Operation\": \"training\", \"epoch\": 5, \"model\": 11}, \"Metrics\": {\"train_absolute_loss_objective\": {\"sum\": 0.7601361465454102, \"count\": 1, \"min\": 0.7601361465454102, \"max\": 0.7601361465454102}}}\u001b[0m\n",
      "\u001b[34m#metrics {\"StartTime\": 1682424568.2673213, \"EndTime\": 1682424568.2673378, \"Dimensions\": {\"Algorithm\": \"Linear Learner\", \"Host\": \"algo-1\", \"Operation\": \"training\", \"epoch\": 5, \"model\": 12}, \"Metrics\": {\"train_absolute_loss_objective\": {\"sum\": 0.26918079376220705, \"count\": 1, \"min\": 0.26918079376220705, \"max\": 0.26918079376220705}}}\u001b[0m\n",
      "\u001b[34m#metrics {\"StartTime\": 1682424568.2674017, \"EndTime\": 1682424568.2674263, \"Dimensions\": {\"Algorithm\": \"Linear Learner\", \"Host\": \"algo-1\", \"Operation\": \"training\", \"epoch\": 5, \"model\": 13}, \"Metrics\": {\"train_absolute_loss_objective\": {\"sum\": 0.254125337600708, \"count\": 1, \"min\": 0.254125337600708, \"max\": 0.254125337600708}}}\u001b[0m\n",
      "\u001b[34m#metrics {\"StartTime\": 1682424568.267474, \"EndTime\": 1682424568.267489, \"Dimensions\": {\"Algorithm\": \"Linear Learner\", \"Host\": \"algo-1\", \"Operation\": \"training\", \"epoch\": 5, \"model\": 14}, \"Metrics\": {\"train_absolute_loss_objective\": {\"sum\": 0.26995416164398195, \"count\": 1, \"min\": 0.26995416164398195, \"max\": 0.26995416164398195}}}\u001b[0m\n",
      "\u001b[34m#metrics {\"StartTime\": 1682424568.2675529, \"EndTime\": 1682424568.26757, \"Dimensions\": {\"Algorithm\": \"Linear Learner\", \"Host\": \"algo-1\", \"Operation\": \"training\", \"epoch\": 5, \"model\": 15}, \"Metrics\": {\"train_absolute_loss_objective\": {\"sum\": 0.1736328387260437, \"count\": 1, \"min\": 0.1736328387260437, \"max\": 0.1736328387260437}}}\u001b[0m\n",
      "\u001b[34m#metrics {\"StartTime\": 1682424568.2676315, \"EndTime\": 1682424568.2676485, \"Dimensions\": {\"Algorithm\": \"Linear Learner\", \"Host\": \"algo-1\", \"Operation\": \"training\", \"epoch\": 5, \"model\": 16}, \"Metrics\": {\"train_absolute_loss_objective\": {\"sum\": 0.7473208713531494, \"count\": 1, \"min\": 0.7473208713531494, \"max\": 0.7473208713531494}}}\u001b[0m\n",
      "\u001b[34m#metrics {\"StartTime\": 1682424568.2676988, \"EndTime\": 1682424568.267716, \"Dimensions\": {\"Algorithm\": \"Linear Learner\", \"Host\": \"algo-1\", \"Operation\": \"training\", \"epoch\": 5, \"model\": 17}, \"Metrics\": {\"train_absolute_loss_objective\": {\"sum\": 0.7964318084716797, \"count\": 1, \"min\": 0.7964318084716797, \"max\": 0.7964318084716797}}}\u001b[0m\n",
      "\u001b[34m#metrics {\"StartTime\": 1682424568.267777, \"EndTime\": 1682424568.2677946, \"Dimensions\": {\"Algorithm\": \"Linear Learner\", \"Host\": \"algo-1\", \"Operation\": \"training\", \"epoch\": 5, \"model\": 18}, \"Metrics\": {\"train_absolute_loss_objective\": {\"sum\": 0.773761339187622, \"count\": 1, \"min\": 0.773761339187622, \"max\": 0.773761339187622}}}\u001b[0m\n",
      "\u001b[34m#metrics {\"StartTime\": 1682424568.2678492, \"EndTime\": 1682424568.267865, \"Dimensions\": {\"Algorithm\": \"Linear Learner\", \"Host\": \"algo-1\", \"Operation\": \"training\", \"epoch\": 5, \"model\": 19}, \"Metrics\": {\"train_absolute_loss_objective\": {\"sum\": 0.7701451969146729, \"count\": 1, \"min\": 0.7701451969146729, \"max\": 0.7701451969146729}}}\u001b[0m\n",
      "\u001b[34m#metrics {\"StartTime\": 1682424568.267929, \"EndTime\": 1682424568.2679462, \"Dimensions\": {\"Algorithm\": \"Linear Learner\", \"Host\": \"algo-1\", \"Operation\": \"training\", \"epoch\": 5, \"model\": 20}, \"Metrics\": {\"train_absolute_loss_objective\": {\"sum\": 0.44100662231445314, \"count\": 1, \"min\": 0.44100662231445314, \"max\": 0.44100662231445314}}}\u001b[0m\n",
      "\u001b[34m#metrics {\"StartTime\": 1682424568.2680006, \"EndTime\": 1682424568.2680163, \"Dimensions\": {\"Algorithm\": \"Linear Learner\", \"Host\": \"algo-1\", \"Operation\": \"training\", \"epoch\": 5, \"model\": 21}, \"Metrics\": {\"train_absolute_loss_objective\": {\"sum\": 0.4389780807495117, \"count\": 1, \"min\": 0.4389780807495117, \"max\": 0.4389780807495117}}}\u001b[0m\n",
      "\u001b[34m#metrics {\"StartTime\": 1682424568.2680795, \"EndTime\": 1682424568.268096, \"Dimensions\": {\"Algorithm\": \"Linear Learner\", \"Host\": \"algo-1\", \"Operation\": \"training\", \"epoch\": 5, \"model\": 22}, \"Metrics\": {\"train_absolute_loss_objective\": {\"sum\": 0.49599496364593504, \"count\": 1, \"min\": 0.49599496364593504, \"max\": 0.49599496364593504}}}\u001b[0m\n",
      "\u001b[34m#metrics {\"StartTime\": 1682424568.2681608, \"EndTime\": 1682424568.2681775, \"Dimensions\": {\"Algorithm\": \"Linear Learner\", \"Host\": \"algo-1\", \"Operation\": \"training\", \"epoch\": 5, \"model\": 23}, \"Metrics\": {\"train_absolute_loss_objective\": {\"sum\": 0.46909953594207765, \"count\": 1, \"min\": 0.46909953594207765, \"max\": 0.46909953594207765}}}\u001b[0m\n",
      "\u001b[34m#metrics {\"StartTime\": 1682424568.268228, \"EndTime\": 1682424568.268244, \"Dimensions\": {\"Algorithm\": \"Linear Learner\", \"Host\": \"algo-1\", \"Operation\": \"training\", \"epoch\": 5, \"model\": 24}, \"Metrics\": {\"train_absolute_loss_objective\": {\"sum\": 0.900164270401001, \"count\": 1, \"min\": 0.900164270401001, \"max\": 0.900164270401001}}}\u001b[0m\n",
      "\u001b[34m#metrics {\"StartTime\": 1682424568.2683043, \"EndTime\": 1682424568.2683208, \"Dimensions\": {\"Algorithm\": \"Linear Learner\", \"Host\": \"algo-1\", \"Operation\": \"training\", \"epoch\": 5, \"model\": 25}, \"Metrics\": {\"train_absolute_loss_objective\": {\"sum\": 0.8923260402679444, \"count\": 1, \"min\": 0.8923260402679444, \"max\": 0.8923260402679444}}}\u001b[0m\n",
      "\u001b[34m#metrics {\"StartTime\": 1682424568.2683744, \"EndTime\": 1682424568.2683902, \"Dimensions\": {\"Algorithm\": \"Linear Learner\", \"Host\": \"algo-1\", \"Operation\": \"training\", \"epoch\": 5, \"model\": 26}, \"Metrics\": {\"train_absolute_loss_objective\": {\"sum\": 0.8949178314208984, \"count\": 1, \"min\": 0.8949178314208984, \"max\": 0.8949178314208984}}}\u001b[0m\n",
      "\u001b[34m#metrics {\"StartTime\": 1682424568.2684386, \"EndTime\": 1682424568.2684543, \"Dimensions\": {\"Algorithm\": \"Linear Learner\", \"Host\": \"algo-1\", \"Operation\": \"training\", \"epoch\": 5, \"model\": 27}, \"Metrics\": {\"train_absolute_loss_objective\": {\"sum\": 0.8911199188232422, \"count\": 1, \"min\": 0.8911199188232422, \"max\": 0.8911199188232422}}}\u001b[0m\n",
      "\u001b[34m#metrics {\"StartTime\": 1682424568.2685156, \"EndTime\": 1682424568.2685318, \"Dimensions\": {\"Algorithm\": \"Linear Learner\", \"Host\": \"algo-1\", \"Operation\": \"training\", \"epoch\": 5, \"model\": 28}, \"Metrics\": {\"train_absolute_loss_objective\": {\"sum\": 0.9489544105529785, \"count\": 1, \"min\": 0.9489544105529785, \"max\": 0.9489544105529785}}}\u001b[0m\n",
      "\u001b[34m#metrics {\"StartTime\": 1682424568.2685933, \"EndTime\": 1682424568.2686102, \"Dimensions\": {\"Algorithm\": \"Linear Learner\", \"Host\": \"algo-1\", \"Operation\": \"training\", \"epoch\": 5, \"model\": 29}, \"Metrics\": {\"train_absolute_loss_objective\": {\"sum\": 0.9499084281921387, \"count\": 1, \"min\": 0.9499084281921387, \"max\": 0.9499084281921387}}}\u001b[0m\n",
      "\u001b[34m#metrics {\"StartTime\": 1682424568.268659, \"EndTime\": 1682424568.268675, \"Dimensions\": {\"Algorithm\": \"Linear Learner\", \"Host\": \"algo-1\", \"Operation\": \"training\", \"epoch\": 5, \"model\": 30}, \"Metrics\": {\"train_absolute_loss_objective\": {\"sum\": 0.9531756973266602, \"count\": 1, \"min\": 0.9531756973266602, \"max\": 0.9531756973266602}}}\u001b[0m\n",
      "\u001b[34m#metrics {\"StartTime\": 1682424568.268736, \"EndTime\": 1682424568.2687528, \"Dimensions\": {\"Algorithm\": \"Linear Learner\", \"Host\": \"algo-1\", \"Operation\": \"training\", \"epoch\": 5, \"model\": 31}, \"Metrics\": {\"train_absolute_loss_objective\": {\"sum\": 0.930389518737793, \"count\": 1, \"min\": 0.930389518737793, \"max\": 0.930389518737793}}}\u001b[0m\n",
      "\u001b[34m[04/25/2023 12:09:28 INFO 139915425793856] #quality_metric: host=algo-1, epoch=5, train absolute_loss_objective <loss>=0.7809673404693603\u001b[0m\n",
      "\u001b[34m[04/25/2023 12:09:28 INFO 139915425793856] #early_stopping_criteria_metric: host=algo-1, epoch=5, criteria=absolute_loss_objective, value=0.1736328387260437\u001b[0m\n",
      "\u001b[34m[04/25/2023 12:09:28 INFO 139915425793856] Epoch 5: Loss improved. Updating best model\u001b[0m\n",
      "\u001b[34m[04/25/2023 12:09:28 INFO 139915425793856] Saving model for epoch: 5\u001b[0m\n",
      "\u001b[34m[04/25/2023 12:09:28 INFO 139915425793856] Saved checkpoint to \"/tmp/tmpfyvmbo8o/mx-mod-0000.params\"\u001b[0m\n",
      "\u001b[34m[04/25/2023 12:09:28 INFO 139915425793856] #progress_metric: host=algo-1, completed 12.0 % of epochs\u001b[0m\n",
      "\u001b[34m#metrics {\"StartTime\": 1682424568.180586, \"EndTime\": 1682424568.2782545, \"Dimensions\": {\"Algorithm\": \"Linear Learner\", \"Host\": \"algo-1\", \"Operation\": \"training\", \"epoch\": 5, \"Meta\": \"training_data_iter\"}, \"Metrics\": {\"Total Records Seen\": {\"sum\": 187.0, \"count\": 1, \"min\": 187, \"max\": 187}, \"Total Batches Seen\": {\"sum\": 43.0, \"count\": 1, \"min\": 43, \"max\": 43}, \"Max Records Seen Between Resets\": {\"sum\": 26.0, \"count\": 1, \"min\": 26, \"max\": 26}, \"Max Batches Seen Between Resets\": {\"sum\": 6.0, \"count\": 1, \"min\": 6, \"max\": 6}, \"Reset Count\": {\"sum\": 8.0, \"count\": 1, \"min\": 8, \"max\": 8}, \"Number of Records Since Last Reset\": {\"sum\": 26.0, \"count\": 1, \"min\": 26, \"max\": 26}, \"Number of Batches Since Last Reset\": {\"sum\": 6.0, \"count\": 1, \"min\": 6, \"max\": 6}}}\u001b[0m\n",
      "\u001b[34m[04/25/2023 12:09:28 INFO 139915425793856] #throughput_metric: host=algo-1, train throughput=265.82983287505607 records/second\u001b[0m\n",
      "\u001b[34m[2023-04-25 12:09:28.392] [tensorio] [info] epoch_stats={\"data_pipeline\": \"/opt/ml/input/data/train\", \"epoch\": 16, \"duration\": 113, \"num_examples\": 6, \"num_bytes\": 1248}\u001b[0m\n",
      "\u001b[34m#metrics {\"StartTime\": 1682424568.392053, \"EndTime\": 1682424568.392123, \"Dimensions\": {\"Algorithm\": \"Linear Learner\", \"Host\": \"algo-1\", \"Operation\": \"training\", \"epoch\": 6, \"model\": 0}, \"Metrics\": {\"train_absolute_loss_objective\": {\"sum\": 0.7594650745391845, \"count\": 1, \"min\": 0.7594650745391845, \"max\": 0.7594650745391845}}}\u001b[0m\n",
      "\u001b[34m#metrics {\"StartTime\": 1682424568.3922052, \"EndTime\": 1682424568.3922188, \"Dimensions\": {\"Algorithm\": \"Linear Learner\", \"Host\": \"algo-1\", \"Operation\": \"training\", \"epoch\": 6, \"model\": 1}, \"Metrics\": {\"train_absolute_loss_objective\": {\"sum\": 0.7775579166412353, \"count\": 1, \"min\": 0.7775579166412353, \"max\": 0.7775579166412353}}}\u001b[0m\n",
      "\u001b[34m#metrics {\"StartTime\": 1682424568.3922606, \"EndTime\": 1682424568.3922765, \"Dimensions\": {\"Algorithm\": \"Linear Learner\", \"Host\": \"algo-1\", \"Operation\": \"training\", \"epoch\": 6, \"model\": 2}, \"Metrics\": {\"train_absolute_loss_objective\": {\"sum\": 0.7618399238586426, \"count\": 1, \"min\": 0.7618399238586426, \"max\": 0.7618399238586426}}}\u001b[0m\n",
      "\u001b[34m#metrics {\"StartTime\": 1682424568.3923752, \"EndTime\": 1682424568.3923883, \"Dimensions\": {\"Algorithm\": \"Linear Learner\", \"Host\": \"algo-1\", \"Operation\": \"training\", \"epoch\": 6, \"model\": 3}, \"Metrics\": {\"train_absolute_loss_objective\": {\"sum\": 0.7765560150146484, \"count\": 1, \"min\": 0.7765560150146484, \"max\": 0.7765560150146484}}}\u001b[0m\n",
      "\u001b[34m#metrics {\"StartTime\": 1682424568.3924978, \"EndTime\": 1682424568.3925116, \"Dimensions\": {\"Algorithm\": \"Linear Learner\", \"Host\": \"algo-1\", \"Operation\": \"training\", \"epoch\": 6, \"model\": 4}, \"Metrics\": {\"train_absolute_loss_objective\": {\"sum\": 0.2266283106803894, \"count\": 1, \"min\": 0.2266283106803894, \"max\": 0.2266283106803894}}}\u001b[0m\n",
      "\u001b[34m#metrics {\"StartTime\": 1682424568.3925495, \"EndTime\": 1682424568.3925593, \"Dimensions\": {\"Algorithm\": \"Linear Learner\", \"Host\": \"algo-1\", \"Operation\": \"training\", \"epoch\": 6, \"model\": 5}, \"Metrics\": {\"train_absolute_loss_objective\": {\"sum\": 0.2925491523742676, \"count\": 1, \"min\": 0.2925491523742676, \"max\": 0.2925491523742676}}}\u001b[0m\n",
      "\u001b[34m#metrics {\"StartTime\": 1682424568.3926346, \"EndTime\": 1682424568.392648, \"Dimensions\": {\"Algorithm\": \"Linear Learner\", \"Host\": \"algo-1\", \"Operation\": \"training\", \"epoch\": 6, \"model\": 6}, \"Metrics\": {\"train_absolute_loss_objective\": {\"sum\": 0.23272912740707397, \"count\": 1, \"min\": 0.23272912740707397, \"max\": 0.23272912740707397}}}\u001b[0m\n",
      "\u001b[34m#metrics {\"StartTime\": 1682424568.3927228, \"EndTime\": 1682424568.3927364, \"Dimensions\": {\"Algorithm\": \"Linear Learner\", \"Host\": \"algo-1\", \"Operation\": \"training\", \"epoch\": 6, \"model\": 7}, \"Metrics\": {\"train_absolute_loss_objective\": {\"sum\": 0.20641979455947876, \"count\": 1, \"min\": 0.20641979455947876, \"max\": 0.20641979455947876}}}\u001b[0m\n",
      "\u001b[34m#metrics {\"StartTime\": 1682424568.392814, \"EndTime\": 1682424568.3928268, \"Dimensions\": {\"Algorithm\": \"Linear Learner\", \"Host\": \"algo-1\", \"Operation\": \"training\", \"epoch\": 6, \"model\": 8}, \"Metrics\": {\"train_absolute_loss_objective\": {\"sum\": 0.8145304584503174, \"count\": 1, \"min\": 0.8145304584503174, \"max\": 0.8145304584503174}}}\u001b[0m\n",
      "\u001b[34m#metrics {\"StartTime\": 1682424568.392873, \"EndTime\": 1682424568.3928835, \"Dimensions\": {\"Algorithm\": \"Linear Learner\", \"Host\": \"algo-1\", \"Operation\": \"training\", \"epoch\": 6, \"model\": 9}, \"Metrics\": {\"train_absolute_loss_objective\": {\"sum\": 0.746131649017334, \"count\": 1, \"min\": 0.746131649017334, \"max\": 0.746131649017334}}}\u001b[0m\n",
      "\u001b[34m#metrics {\"StartTime\": 1682424568.3929248, \"EndTime\": 1682424568.3929348, \"Dimensions\": {\"Algorithm\": \"Linear Learner\", \"Host\": \"algo-1\", \"Operation\": \"training\", \"epoch\": 6, \"model\": 10}, \"Metrics\": {\"train_absolute_loss_objective\": {\"sum\": 0.7542390727996826, \"count\": 1, \"min\": 0.7542390727996826, \"max\": 0.7542390727996826}}}\u001b[0m\n",
      "\u001b[34m#metrics {\"StartTime\": 1682424568.3929684, \"EndTime\": 1682424568.3929772, \"Dimensions\": {\"Algorithm\": \"Linear Learner\", \"Host\": \"algo-1\", \"Operation\": \"training\", \"epoch\": 6, \"model\": 11}, \"Metrics\": {\"train_absolute_loss_objective\": {\"sum\": 0.7381417560577392, \"count\": 1, \"min\": 0.7381417560577392, \"max\": 0.7381417560577392}}}\u001b[0m\n",
      "\u001b[34m#metrics {\"StartTime\": 1682424568.3930168, \"EndTime\": 1682424568.3930268, \"Dimensions\": {\"Algorithm\": \"Linear Learner\", \"Host\": \"algo-1\", \"Operation\": \"training\", \"epoch\": 6, \"model\": 12}, \"Metrics\": {\"train_absolute_loss_objective\": {\"sum\": 0.29605898857116697, \"count\": 1, \"min\": 0.29605898857116697, \"max\": 0.29605898857116697}}}\u001b[0m\n",
      "\u001b[34m#metrics {\"StartTime\": 1682424568.3930688, \"EndTime\": 1682424568.3930788, \"Dimensions\": {\"Algorithm\": \"Linear Learner\", \"Host\": \"algo-1\", \"Operation\": \"training\", \"epoch\": 6, \"model\": 13}, \"Metrics\": {\"train_absolute_loss_objective\": {\"sum\": 0.24473199367523193, \"count\": 1, \"min\": 0.24473199367523193, \"max\": 0.24473199367523193}}}\u001b[0m\n",
      "\u001b[34m#metrics {\"StartTime\": 1682424568.3931146, \"EndTime\": 1682424568.3931236, \"Dimensions\": {\"Algorithm\": \"Linear Learner\", \"Host\": \"algo-1\", \"Operation\": \"training\", \"epoch\": 6, \"model\": 14}, \"Metrics\": {\"train_absolute_loss_objective\": {\"sum\": 0.2956984901428223, \"count\": 1, \"min\": 0.2956984901428223, \"max\": 0.2956984901428223}}}\u001b[0m\n",
      "\u001b[34m#metrics {\"StartTime\": 1682424568.3931587, \"EndTime\": 1682424568.3931677, \"Dimensions\": {\"Algorithm\": \"Linear Learner\", \"Host\": \"algo-1\", \"Operation\": \"training\", \"epoch\": 6, \"model\": 15}, \"Metrics\": {\"train_absolute_loss_objective\": {\"sum\": 0.20782416582107544, \"count\": 1, \"min\": 0.20782416582107544, \"max\": 0.20782416582107544}}}\u001b[0m\n",
      "\u001b[34m#metrics {\"StartTime\": 1682424568.3931997, \"EndTime\": 1682424568.3932083, \"Dimensions\": {\"Algorithm\": \"Linear Learner\", \"Host\": \"algo-1\", \"Operation\": \"training\", \"epoch\": 6, \"model\": 16}, \"Metrics\": {\"train_absolute_loss_objective\": {\"sum\": 0.7268665885925293, \"count\": 1, \"min\": 0.7268665885925293, \"max\": 0.7268665885925293}}}\u001b[0m\n",
      "\u001b[34m#metrics {\"StartTime\": 1682424568.3932395, \"EndTime\": 1682424568.3932483, \"Dimensions\": {\"Algorithm\": \"Linear Learner\", \"Host\": \"algo-1\", \"Operation\": \"training\", \"epoch\": 6, \"model\": 17}, \"Metrics\": {\"train_absolute_loss_objective\": {\"sum\": 0.775377779006958, \"count\": 1, \"min\": 0.775377779006958, \"max\": 0.775377779006958}}}\u001b[0m\n",
      "\u001b[34m#metrics {\"StartTime\": 1682424568.3932793, \"EndTime\": 1682424568.3932877, \"Dimensions\": {\"Algorithm\": \"Linear Learner\", \"Host\": \"algo-1\", \"Operation\": \"training\", \"epoch\": 6, \"model\": 18}, \"Metrics\": {\"train_absolute_loss_objective\": {\"sum\": 0.7532341861724854, \"count\": 1, \"min\": 0.7532341861724854, \"max\": 0.7532341861724854}}}\u001b[0m\n",
      "\u001b[34m#metrics {\"StartTime\": 1682424568.3933187, \"EndTime\": 1682424568.3933275, \"Dimensions\": {\"Algorithm\": \"Linear Learner\", \"Host\": \"algo-1\", \"Operation\": \"training\", \"epoch\": 6, \"model\": 19}, \"Metrics\": {\"train_absolute_loss_objective\": {\"sum\": 0.7491597366333008, \"count\": 1, \"min\": 0.7491597366333008, \"max\": 0.7491597366333008}}}\u001b[0m\n",
      "\u001b[34m#metrics {\"StartTime\": 1682424568.3933582, \"EndTime\": 1682424568.393367, \"Dimensions\": {\"Algorithm\": \"Linear Learner\", \"Host\": \"algo-1\", \"Operation\": \"training\", \"epoch\": 6, \"model\": 20}, \"Metrics\": {\"train_absolute_loss_objective\": {\"sum\": 0.4813780927658081, \"count\": 1, \"min\": 0.4813780927658081, \"max\": 0.4813780927658081}}}\u001b[0m\n",
      "\u001b[34m#metrics {\"StartTime\": 1682424568.3933978, \"EndTime\": 1682424568.3934078, \"Dimensions\": {\"Algorithm\": \"Linear Learner\", \"Host\": \"algo-1\", \"Operation\": \"training\", \"epoch\": 6, \"model\": 21}, \"Metrics\": {\"train_absolute_loss_objective\": {\"sum\": 0.4831168556213379, \"count\": 1, \"min\": 0.4831168556213379, \"max\": 0.4831168556213379}}}\u001b[0m\n",
      "\u001b[34m#metrics {\"StartTime\": 1682424568.393444, \"EndTime\": 1682424568.3934572, \"Dimensions\": {\"Algorithm\": \"Linear Learner\", \"Host\": \"algo-1\", \"Operation\": \"training\", \"epoch\": 6, \"model\": 22}, \"Metrics\": {\"train_absolute_loss_objective\": {\"sum\": 0.41653884887695314, \"count\": 1, \"min\": 0.41653884887695314, \"max\": 0.41653884887695314}}}\u001b[0m\n",
      "\u001b[34m#metrics {\"StartTime\": 1682424568.3935022, \"EndTime\": 1682424568.393512, \"Dimensions\": {\"Algorithm\": \"Linear Learner\", \"Host\": \"algo-1\", \"Operation\": \"training\", \"epoch\": 6, \"model\": 23}, \"Metrics\": {\"train_absolute_loss_objective\": {\"sum\": 0.43459597587585447, \"count\": 1, \"min\": 0.43459597587585447, \"max\": 0.43459597587585447}}}\u001b[0m\n",
      "\u001b[34m#metrics {\"StartTime\": 1682424568.3935373, \"EndTime\": 1682424568.393544, \"Dimensions\": {\"Algorithm\": \"Linear Learner\", \"Host\": \"algo-1\", \"Operation\": \"training\", \"epoch\": 6, \"model\": 24}, \"Metrics\": {\"train_absolute_loss_objective\": {\"sum\": 0.893538293838501, \"count\": 1, \"min\": 0.893538293838501, \"max\": 0.893538293838501}}}\u001b[0m\n",
      "\u001b[34m#metrics {\"StartTime\": 1682424568.3935652, \"EndTime\": 1682424568.3935714, \"Dimensions\": {\"Algorithm\": \"Linear Learner\", \"Host\": \"algo-1\", \"Operation\": \"training\", \"epoch\": 6, \"model\": 25}, \"Metrics\": {\"train_absolute_loss_objective\": {\"sum\": 0.8948383140563965, \"count\": 1, \"min\": 0.8948383140563965, \"max\": 0.8948383140563965}}}\u001b[0m\n",
      "\u001b[34m#metrics {\"StartTime\": 1682424568.3935926, \"EndTime\": 1682424568.3935988, \"Dimensions\": {\"Algorithm\": \"Linear Learner\", \"Host\": \"algo-1\", \"Operation\": \"training\", \"epoch\": 6, \"model\": 26}, \"Metrics\": {\"train_absolute_loss_objective\": {\"sum\": 0.8902525901794434, \"count\": 1, \"min\": 0.8902525901794434, \"max\": 0.8902525901794434}}}\u001b[0m\n",
      "\u001b[34m#metrics {\"StartTime\": 1682424568.3936222, \"EndTime\": 1682424568.3936288, \"Dimensions\": {\"Algorithm\": \"Linear Learner\", \"Host\": \"algo-1\", \"Operation\": \"training\", \"epoch\": 6, \"model\": 27}, \"Metrics\": {\"train_absolute_loss_objective\": {\"sum\": 0.8919158554077149, \"count\": 1, \"min\": 0.8919158554077149, \"max\": 0.8919158554077149}}}\u001b[0m\n",
      "\u001b[34m#metrics {\"StartTime\": 1682424568.3936503, \"EndTime\": 1682424568.3936563, \"Dimensions\": {\"Algorithm\": \"Linear Learner\", \"Host\": \"algo-1\", \"Operation\": \"training\", \"epoch\": 6, \"model\": 28}, \"Metrics\": {\"train_absolute_loss_objective\": {\"sum\": 0.9247755432128906, \"count\": 1, \"min\": 0.9247755432128906, \"max\": 0.9247755432128906}}}\u001b[0m\n",
      "\u001b[34m#metrics {\"StartTime\": 1682424568.3936772, \"EndTime\": 1682424568.3936832, \"Dimensions\": {\"Algorithm\": \"Linear Learner\", \"Host\": \"algo-1\", \"Operation\": \"training\", \"epoch\": 6, \"model\": 29}, \"Metrics\": {\"train_absolute_loss_objective\": {\"sum\": 0.9260127067565918, \"count\": 1, \"min\": 0.9260127067565918, \"max\": 0.9260127067565918}}}\u001b[0m\n",
      "\u001b[34m#metrics {\"StartTime\": 1682424568.3937042, \"EndTime\": 1682424568.3937104, \"Dimensions\": {\"Algorithm\": \"Linear Learner\", \"Host\": \"algo-1\", \"Operation\": \"training\", \"epoch\": 6, \"model\": 30}, \"Metrics\": {\"train_absolute_loss_objective\": {\"sum\": 0.9213383483886719, \"count\": 1, \"min\": 0.9213383483886719, \"max\": 0.9213383483886719}}}\u001b[0m\n",
      "\u001b[34m#metrics {\"StartTime\": 1682424568.393778, \"EndTime\": 1682424568.3937907, \"Dimensions\": {\"Algorithm\": \"Linear Learner\", \"Host\": \"algo-1\", \"Operation\": \"training\", \"epoch\": 6, \"model\": 31}, \"Metrics\": {\"train_absolute_loss_objective\": {\"sum\": 0.9410616683959961, \"count\": 1, \"min\": 0.9410616683959961, \"max\": 0.9410616683959961}}}\u001b[0m\n",
      "\u001b[34m[04/25/2023 12:09:28 INFO 139915425793856] #quality_metric: host=algo-1, epoch=6, train absolute_loss_objective <loss>=0.7594650745391845\u001b[0m\n",
      "\u001b[34m[04/25/2023 12:09:28 INFO 139915425793856] #early_stopping_criteria_metric: host=algo-1, epoch=6, criteria=absolute_loss_objective, value=0.20641979455947876\u001b[0m\n",
      "\u001b[34m[04/25/2023 12:09:28 INFO 139915425793856] Saving model for epoch: 6\u001b[0m\n",
      "\u001b[34m[04/25/2023 12:09:28 INFO 139915425793856] Saved checkpoint to \"/tmp/tmpef937sqh/mx-mod-0000.params\"\u001b[0m\n",
      "\u001b[34m[04/25/2023 12:09:28 INFO 139915425793856] #progress_metric: host=algo-1, completed 14.0 % of epochs\u001b[0m\n",
      "\u001b[34m#metrics {\"StartTime\": 1682424568.2785668, \"EndTime\": 1682424568.4029667, \"Dimensions\": {\"Algorithm\": \"Linear Learner\", \"Host\": \"algo-1\", \"Operation\": \"training\", \"epoch\": 6, \"Meta\": \"training_data_iter\"}, \"Metrics\": {\"Total Records Seen\": {\"sum\": 213.0, \"count\": 1, \"min\": 213, \"max\": 213}, \"Total Batches Seen\": {\"sum\": 49.0, \"count\": 1, \"min\": 49, \"max\": 49}, \"Max Records Seen Between Resets\": {\"sum\": 26.0, \"count\": 1, \"min\": 26, \"max\": 26}, \"Max Batches Seen Between Resets\": {\"sum\": 6.0, \"count\": 1, \"min\": 6, \"max\": 6}, \"Reset Count\": {\"sum\": 9.0, \"count\": 1, \"min\": 9, \"max\": 9}, \"Number of Records Since Last Reset\": {\"sum\": 26.0, \"count\": 1, \"min\": 26, \"max\": 26}, \"Number of Batches Since Last Reset\": {\"sum\": 6.0, \"count\": 1, \"min\": 6, \"max\": 6}}}\u001b[0m\n",
      "\u001b[34m[04/25/2023 12:09:28 INFO 139915425793856] #throughput_metric: host=algo-1, train throughput=208.7869013156887 records/second\u001b[0m\n",
      "\u001b[34m[2023-04-25 12:09:28.502] [tensorio] [info] epoch_stats={\"data_pipeline\": \"/opt/ml/input/data/train\", \"epoch\": 18, \"duration\": 99, \"num_examples\": 6, \"num_bytes\": 1248}\u001b[0m\n",
      "\u001b[34m#metrics {\"StartTime\": 1682424568.5025876, \"EndTime\": 1682424568.5026557, \"Dimensions\": {\"Algorithm\": \"Linear Learner\", \"Host\": \"algo-1\", \"Operation\": \"training\", \"epoch\": 7, \"model\": 0}, \"Metrics\": {\"train_absolute_loss_objective\": {\"sum\": 0.7381754302978516, \"count\": 1, \"min\": 0.7381754302978516, \"max\": 0.7381754302978516}}}\u001b[0m\n",
      "\u001b[34m#metrics {\"StartTime\": 1682424568.5027266, \"EndTime\": 1682424568.5027454, \"Dimensions\": {\"Algorithm\": \"Linear Learner\", \"Host\": \"algo-1\", \"Operation\": \"training\", \"epoch\": 7, \"model\": 1}, \"Metrics\": {\"train_absolute_loss_objective\": {\"sum\": 0.7556165981292725, \"count\": 1, \"min\": 0.7556165981292725, \"max\": 0.7556165981292725}}}\u001b[0m\n",
      "\u001b[34m#metrics {\"StartTime\": 1682424568.502872, \"EndTime\": 1682424568.5028913, \"Dimensions\": {\"Algorithm\": \"Linear Learner\", \"Host\": \"algo-1\", \"Operation\": \"training\", \"epoch\": 7, \"model\": 2}, \"Metrics\": {\"train_absolute_loss_objective\": {\"sum\": 0.7405503082275391, \"count\": 1, \"min\": 0.7405503082275391, \"max\": 0.7405503082275391}}}\u001b[0m\n",
      "\u001b[34m#metrics {\"StartTime\": 1682424568.5029824, \"EndTime\": 1682424568.5030003, \"Dimensions\": {\"Algorithm\": \"Linear Learner\", \"Host\": \"algo-1\", \"Operation\": \"training\", \"epoch\": 7, \"model\": 3}, \"Metrics\": {\"train_absolute_loss_objective\": {\"sum\": 0.754614725112915, \"count\": 1, \"min\": 0.754614725112915, \"max\": 0.754614725112915}}}\u001b[0m\n",
      "\u001b[34m#metrics {\"StartTime\": 1682424568.5030842, \"EndTime\": 1682424568.5031013, \"Dimensions\": {\"Algorithm\": \"Linear Learner\", \"Host\": \"algo-1\", \"Operation\": \"training\", \"epoch\": 7, \"model\": 4}, \"Metrics\": {\"train_absolute_loss_objective\": {\"sum\": 0.1840016531944275, \"count\": 1, \"min\": 0.1840016531944275, \"max\": 0.1840016531944275}}}\u001b[0m\n",
      "\u001b[34m#metrics {\"StartTime\": 1682424568.5031466, \"EndTime\": 1682424568.5031586, \"Dimensions\": {\"Algorithm\": \"Linear Learner\", \"Host\": \"algo-1\", \"Operation\": \"training\", \"epoch\": 7, \"model\": 5}, \"Metrics\": {\"train_absolute_loss_objective\": {\"sum\": 0.27963870525360107, \"count\": 1, \"min\": 0.27963870525360107, \"max\": 0.27963870525360107}}}\u001b[0m\n",
      "\u001b[34m#metrics {\"StartTime\": 1682424568.5032444, \"EndTime\": 1682424568.503261, \"Dimensions\": {\"Algorithm\": \"Linear Learner\", \"Host\": \"algo-1\", \"Operation\": \"training\", \"epoch\": 7, \"model\": 6}, \"Metrics\": {\"train_absolute_loss_objective\": {\"sum\": 0.28122215032577513, \"count\": 1, \"min\": 0.28122215032577513, \"max\": 0.28122215032577513}}}\u001b[0m\n",
      "\u001b[34m#metrics {\"StartTime\": 1682424568.5033503, \"EndTime\": 1682424568.5033982, \"Dimensions\": {\"Algorithm\": \"Linear Learner\", \"Host\": \"algo-1\", \"Operation\": \"training\", \"epoch\": 7, \"model\": 7}, \"Metrics\": {\"train_absolute_loss_objective\": {\"sum\": 0.2395741319656372, \"count\": 1, \"min\": 0.2395741319656372, \"max\": 0.2395741319656372}}}\u001b[0m\n",
      "\u001b[34m#metrics {\"StartTime\": 1682424568.5034459, \"EndTime\": 1682424568.503457, \"Dimensions\": {\"Algorithm\": \"Linear Learner\", \"Host\": \"algo-1\", \"Operation\": \"training\", \"epoch\": 7, \"model\": 8}, \"Metrics\": {\"train_absolute_loss_objective\": {\"sum\": 0.793251142501831, \"count\": 1, \"min\": 0.793251142501831, \"max\": 0.793251142501831}}}\u001b[0m\n",
      "\u001b[34m#metrics {\"StartTime\": 1682424568.5035908, \"EndTime\": 1682424568.5036063, \"Dimensions\": {\"Algorithm\": \"Linear Learner\", \"Host\": \"algo-1\", \"Operation\": \"training\", \"epoch\": 7, \"model\": 9}, \"Metrics\": {\"train_absolute_loss_objective\": {\"sum\": 0.7242018032073975, \"count\": 1, \"min\": 0.7242018032073975, \"max\": 0.7242018032073975}}}\u001b[0m\n",
      "\u001b[34m#metrics {\"StartTime\": 1682424568.5037007, \"EndTime\": 1682424568.5038977, \"Dimensions\": {\"Algorithm\": \"Linear Learner\", \"Host\": \"algo-1\", \"Operation\": \"training\", \"epoch\": 7, \"model\": 10}, \"Metrics\": {\"train_absolute_loss_objective\": {\"sum\": 0.7329603576660156, \"count\": 1, \"min\": 0.7329603576660156, \"max\": 0.7329603576660156}}}\u001b[0m\n",
      "\u001b[34m#metrics {\"StartTime\": 1682424568.503947, \"EndTime\": 1682424568.503958, \"Dimensions\": {\"Algorithm\": \"Linear Learner\", \"Host\": \"algo-1\", \"Operation\": \"training\", \"epoch\": 7, \"model\": 11}, \"Metrics\": {\"train_absolute_loss_objective\": {\"sum\": 0.7162120151519775, \"count\": 1, \"min\": 0.7162120151519775, \"max\": 0.7162120151519775}}}\u001b[0m\n",
      "\u001b[34m#metrics {\"StartTime\": 1682424568.5040417, \"EndTime\": 1682424568.504062, \"Dimensions\": {\"Algorithm\": \"Linear Learner\", \"Host\": \"algo-1\", \"Operation\": \"training\", \"epoch\": 7, \"model\": 12}, \"Metrics\": {\"train_absolute_loss_objective\": {\"sum\": 0.2821493196487427, \"count\": 1, \"min\": 0.2821493196487427, \"max\": 0.2821493196487427}}}\u001b[0m\n",
      "\u001b[34m#metrics {\"StartTime\": 1682424568.5041184, \"EndTime\": 1682424568.5041358, \"Dimensions\": {\"Algorithm\": \"Linear Learner\", \"Host\": \"algo-1\", \"Operation\": \"training\", \"epoch\": 7, \"model\": 13}, \"Metrics\": {\"train_absolute_loss_objective\": {\"sum\": 0.2528540110588074, \"count\": 1, \"min\": 0.2528540110588074, \"max\": 0.2528540110588074}}}\u001b[0m\n",
      "\u001b[34m#metrics {\"StartTime\": 1682424568.5041864, \"EndTime\": 1682424568.504202, \"Dimensions\": {\"Algorithm\": \"Linear Learner\", \"Host\": \"algo-1\", \"Operation\": \"training\", \"epoch\": 7, \"model\": 14}, \"Metrics\": {\"train_absolute_loss_objective\": {\"sum\": 0.28122971534729, \"count\": 1, \"min\": 0.28122971534729, \"max\": 0.28122971534729}}}\u001b[0m\n",
      "\u001b[34m#metrics {\"StartTime\": 1682424568.5042658, \"EndTime\": 1682424568.504284, \"Dimensions\": {\"Algorithm\": \"Linear Learner\", \"Host\": \"algo-1\", \"Operation\": \"training\", \"epoch\": 7, \"model\": 15}, \"Metrics\": {\"train_absolute_loss_objective\": {\"sum\": 0.1956776809692383, \"count\": 1, \"min\": 0.1956776809692383, \"max\": 0.1956776809692383}}}\u001b[0m\n",
      "\u001b[34m#metrics {\"StartTime\": 1682424568.504349, \"EndTime\": 1682424568.5043664, \"Dimensions\": {\"Algorithm\": \"Linear Learner\", \"Host\": \"algo-1\", \"Operation\": \"training\", \"epoch\": 7, \"model\": 16}, \"Metrics\": {\"train_absolute_loss_objective\": {\"sum\": 0.7069196891784668, \"count\": 1, \"min\": 0.7069196891784668, \"max\": 0.7069196891784668}}}\u001b[0m\n",
      "\u001b[34m#metrics {\"StartTime\": 1682424568.5044167, \"EndTime\": 1682424568.5044332, \"Dimensions\": {\"Algorithm\": \"Linear Learner\", \"Host\": \"algo-1\", \"Operation\": \"training\", \"epoch\": 7, \"model\": 17}, \"Metrics\": {\"train_absolute_loss_objective\": {\"sum\": 0.7546784019470215, \"count\": 1, \"min\": 0.7546784019470215, \"max\": 0.7546784019470215}}}\u001b[0m\n",
      "\u001b[34m#metrics {\"StartTime\": 1682424568.5045538, \"EndTime\": 1682424568.504576, \"Dimensions\": {\"Algorithm\": \"Linear Learner\", \"Host\": \"algo-1\", \"Operation\": \"training\", \"epoch\": 7, \"model\": 18}, \"Metrics\": {\"train_absolute_loss_objective\": {\"sum\": 0.7332019901275635, \"count\": 1, \"min\": 0.7332019901275635, \"max\": 0.7332019901275635}}}\u001b[0m\n",
      "\u001b[34m#metrics {\"StartTime\": 1682424568.5046508, \"EndTime\": 1682424568.5046687, \"Dimensions\": {\"Algorithm\": \"Linear Learner\", \"Host\": \"algo-1\", \"Operation\": \"training\", \"epoch\": 7, \"model\": 19}, \"Metrics\": {\"train_absolute_loss_objective\": {\"sum\": 0.7285414505004882, \"count\": 1, \"min\": 0.7285414505004882, \"max\": 0.7285414505004882}}}\u001b[0m\n",
      "\u001b[34m#metrics {\"StartTime\": 1682424568.504733, \"EndTime\": 1682424568.50475, \"Dimensions\": {\"Algorithm\": \"Linear Learner\", \"Host\": \"algo-1\", \"Operation\": \"training\", \"epoch\": 7, \"model\": 20}, \"Metrics\": {\"train_absolute_loss_objective\": {\"sum\": 0.42023655891418454, \"count\": 1, \"min\": 0.42023655891418454, \"max\": 0.42023655891418454}}}\u001b[0m\n",
      "\u001b[34m#metrics {\"StartTime\": 1682424568.5048347, \"EndTime\": 1682424568.5048528, \"Dimensions\": {\"Algorithm\": \"Linear Learner\", \"Host\": \"algo-1\", \"Operation\": \"training\", \"epoch\": 7, \"model\": 21}, \"Metrics\": {\"train_absolute_loss_objective\": {\"sum\": 0.42062088012695314, \"count\": 1, \"min\": 0.42062088012695314, \"max\": 0.42062088012695314}}}\u001b[0m\n",
      "\u001b[34m#metrics {\"StartTime\": 1682424568.504911, \"EndTime\": 1682424568.504928, \"Dimensions\": {\"Algorithm\": \"Linear Learner\", \"Host\": \"algo-1\", \"Operation\": \"training\", \"epoch\": 7, \"model\": 22}, \"Metrics\": {\"train_absolute_loss_objective\": {\"sum\": 0.30225751876831053, \"count\": 1, \"min\": 0.30225751876831053, \"max\": 0.30225751876831053}}}\u001b[0m\n",
      "\u001b[34m#metrics {\"StartTime\": 1682424568.5049946, \"EndTime\": 1682424568.5050128, \"Dimensions\": {\"Algorithm\": \"Linear Learner\", \"Host\": \"algo-1\", \"Operation\": \"training\", \"epoch\": 7, \"model\": 23}, \"Metrics\": {\"train_absolute_loss_objective\": {\"sum\": 0.3546204233169556, \"count\": 1, \"min\": 0.3546204233169556, \"max\": 0.3546204233169556}}}\u001b[0m\n",
      "\u001b[34m#metrics {\"StartTime\": 1682424568.5050795, \"EndTime\": 1682424568.5050979, \"Dimensions\": {\"Algorithm\": \"Linear Learner\", \"Host\": \"algo-1\", \"Operation\": \"training\", \"epoch\": 7, \"model\": 24}, \"Metrics\": {\"train_absolute_loss_objective\": {\"sum\": 0.8878358173370361, \"count\": 1, \"min\": 0.8878358173370361, \"max\": 0.8878358173370361}}}\u001b[0m\n",
      "\u001b[34m#metrics {\"StartTime\": 1682424568.50516, \"EndTime\": 1682424568.5051756, \"Dimensions\": {\"Algorithm\": \"Linear Learner\", \"Host\": \"algo-1\", \"Operation\": \"training\", \"epoch\": 7, \"model\": 25}, \"Metrics\": {\"train_absolute_loss_objective\": {\"sum\": 0.8931569290161133, \"count\": 1, \"min\": 0.8931569290161133, \"max\": 0.8931569290161133}}}\u001b[0m\n",
      "\u001b[34m#metrics {\"StartTime\": 1682424568.5052304, \"EndTime\": 1682424568.505243, \"Dimensions\": {\"Algorithm\": \"Linear Learner\", \"Host\": \"algo-1\", \"Operation\": \"training\", \"epoch\": 7, \"model\": 26}, \"Metrics\": {\"train_absolute_loss_objective\": {\"sum\": 0.8875763702392578, \"count\": 1, \"min\": 0.8875763702392578, \"max\": 0.8875763702392578}}}\u001b[0m\n",
      "\u001b[34m#metrics {\"StartTime\": 1682424568.5052917, \"EndTime\": 1682424568.5053072, \"Dimensions\": {\"Algorithm\": \"Linear Learner\", \"Host\": \"algo-1\", \"Operation\": \"training\", \"epoch\": 7, \"model\": 27}, \"Metrics\": {\"train_absolute_loss_objective\": {\"sum\": 0.889630651473999, \"count\": 1, \"min\": 0.889630651473999, \"max\": 0.889630651473999}}}\u001b[0m\n",
      "\u001b[34m#metrics {\"StartTime\": 1682424568.5053513, \"EndTime\": 1682424568.5053651, \"Dimensions\": {\"Algorithm\": \"Linear Learner\", \"Host\": \"algo-1\", \"Operation\": \"training\", \"epoch\": 7, \"model\": 28}, \"Metrics\": {\"train_absolute_loss_objective\": {\"sum\": 0.9647582054138184, \"count\": 1, \"min\": 0.9647582054138184, \"max\": 0.9647582054138184}}}\u001b[0m\n",
      "\u001b[34m#metrics {\"StartTime\": 1682424568.5054162, \"EndTime\": 1682424568.5054326, \"Dimensions\": {\"Algorithm\": \"Linear Learner\", \"Host\": \"algo-1\", \"Operation\": \"training\", \"epoch\": 7, \"model\": 29}, \"Metrics\": {\"train_absolute_loss_objective\": {\"sum\": 0.9682867813110352, \"count\": 1, \"min\": 0.9682867813110352, \"max\": 0.9682867813110352}}}\u001b[0m\n",
      "\u001b[34m#metrics {\"StartTime\": 1682424568.5054946, \"EndTime\": 1682424568.5055118, \"Dimensions\": {\"Algorithm\": \"Linear Learner\", \"Host\": \"algo-1\", \"Operation\": \"training\", \"epoch\": 7, \"model\": 30}, \"Metrics\": {\"train_absolute_loss_objective\": {\"sum\": 0.9671508884429931, \"count\": 1, \"min\": 0.9671508884429931, \"max\": 0.9671508884429931}}}\u001b[0m\n",
      "\u001b[34m#metrics {\"StartTime\": 1682424568.5055618, \"EndTime\": 1682424568.5055773, \"Dimensions\": {\"Algorithm\": \"Linear Learner\", \"Host\": \"algo-1\", \"Operation\": \"training\", \"epoch\": 7, \"model\": 31}, \"Metrics\": {\"train_absolute_loss_objective\": {\"sum\": 0.9580900287628173, \"count\": 1, \"min\": 0.9580900287628173, \"max\": 0.9580900287628173}}}\u001b[0m\n",
      "\u001b[34m[04/25/2023 12:09:28 INFO 139915425793856] #quality_metric: host=algo-1, epoch=7, train absolute_loss_objective <loss>=0.7381754302978516\u001b[0m\n",
      "\u001b[34m[04/25/2023 12:09:28 INFO 139915425793856] #early_stopping_criteria_metric: host=algo-1, epoch=7, criteria=absolute_loss_objective, value=0.1840016531944275\u001b[0m\n",
      "\u001b[34m[04/25/2023 12:09:28 INFO 139915425793856] Saving model for epoch: 7\u001b[0m\n",
      "\u001b[34m[04/25/2023 12:09:28 INFO 139915425793856] Saved checkpoint to \"/tmp/tmpmg_2qqer/mx-mod-0000.params\"\u001b[0m\n",
      "\u001b[34m[04/25/2023 12:09:28 INFO 139915425793856] #progress_metric: host=algo-1, completed 16.0 % of epochs\u001b[0m\n",
      "\u001b[34m#metrics {\"StartTime\": 1682424568.4032607, \"EndTime\": 1682424568.5149424, \"Dimensions\": {\"Algorithm\": \"Linear Learner\", \"Host\": \"algo-1\", \"Operation\": \"training\", \"epoch\": 7, \"Meta\": \"training_data_iter\"}, \"Metrics\": {\"Total Records Seen\": {\"sum\": 239.0, \"count\": 1, \"min\": 239, \"max\": 239}, \"Total Batches Seen\": {\"sum\": 55.0, \"count\": 1, \"min\": 55, \"max\": 55}, \"Max Records Seen Between Resets\": {\"sum\": 26.0, \"count\": 1, \"min\": 26, \"max\": 26}, \"Max Batches Seen Between Resets\": {\"sum\": 6.0, \"count\": 1, \"min\": 6, \"max\": 6}, \"Reset Count\": {\"sum\": 10.0, \"count\": 1, \"min\": 10, \"max\": 10}, \"Number of Records Since Last Reset\": {\"sum\": 26.0, \"count\": 1, \"min\": 26, \"max\": 26}, \"Number of Batches Since Last Reset\": {\"sum\": 6.0, \"count\": 1, \"min\": 6, \"max\": 6}}}\u001b[0m\n",
      "\u001b[34m[04/25/2023 12:09:28 INFO 139915425793856] #throughput_metric: host=algo-1, train throughput=232.52153851730395 records/second\u001b[0m\n",
      "\u001b[34m[2023-04-25 12:09:28.607] [tensorio] [info] epoch_stats={\"data_pipeline\": \"/opt/ml/input/data/train\", \"epoch\": 20, \"duration\": 92, \"num_examples\": 6, \"num_bytes\": 1248}\u001b[0m\n",
      "\u001b[34m#metrics {\"StartTime\": 1682424568.607719, \"EndTime\": 1682424568.6078038, \"Dimensions\": {\"Algorithm\": \"Linear Learner\", \"Host\": \"algo-1\", \"Operation\": \"training\", \"epoch\": 8, \"model\": 0}, \"Metrics\": {\"train_absolute_loss_objective\": {\"sum\": 0.7169816398620605, \"count\": 1, \"min\": 0.7169816398620605, \"max\": 0.7169816398620605}}}\u001b[0m\n",
      "\u001b[34m#metrics {\"StartTime\": 1682424568.6078832, \"EndTime\": 1682424568.6079035, \"Dimensions\": {\"Algorithm\": \"Linear Learner\", \"Host\": \"algo-1\", \"Operation\": \"training\", \"epoch\": 8, \"model\": 1}, \"Metrics\": {\"train_absolute_loss_objective\": {\"sum\": 0.733709135055542, \"count\": 1, \"min\": 0.733709135055542, \"max\": 0.733709135055542}}}\u001b[0m\n",
      "\u001b[34m#metrics {\"StartTime\": 1682424568.607948, \"EndTime\": 1682424568.6079578, \"Dimensions\": {\"Algorithm\": \"Linear Learner\", \"Host\": \"algo-1\", \"Operation\": \"training\", \"epoch\": 8, \"model\": 2}, \"Metrics\": {\"train_absolute_loss_objective\": {\"sum\": 0.7193564987182617, \"count\": 1, \"min\": 0.7193564987182617, \"max\": 0.7193564987182617}}}\u001b[0m\n",
      "\u001b[34m#metrics {\"StartTime\": 1682424568.6079838, \"EndTime\": 1682424568.6079907, \"Dimensions\": {\"Algorithm\": \"Linear Learner\", \"Host\": \"algo-1\", \"Operation\": \"training\", \"epoch\": 8, \"model\": 3}, \"Metrics\": {\"train_absolute_loss_objective\": {\"sum\": 0.732707233428955, \"count\": 1, \"min\": 0.732707233428955, \"max\": 0.732707233428955}}}\u001b[0m\n",
      "\u001b[34m#metrics {\"StartTime\": 1682424568.6080253, \"EndTime\": 1682424568.608039, \"Dimensions\": {\"Algorithm\": \"Linear Learner\", \"Host\": \"algo-1\", \"Operation\": \"training\", \"epoch\": 8, \"model\": 4}, \"Metrics\": {\"train_absolute_loss_objective\": {\"sum\": 0.2137264919281006, \"count\": 1, \"min\": 0.2137264919281006, \"max\": 0.2137264919281006}}}\u001b[0m\n",
      "\u001b[34m#metrics {\"StartTime\": 1682424568.6080916, \"EndTime\": 1682424568.6081073, \"Dimensions\": {\"Algorithm\": \"Linear Learner\", \"Host\": \"algo-1\", \"Operation\": \"training\", \"epoch\": 8, \"model\": 5}, \"Metrics\": {\"train_absolute_loss_objective\": {\"sum\": 0.22716683864593507, \"count\": 1, \"min\": 0.22716683864593507, \"max\": 0.22716683864593507}}}\u001b[0m\n",
      "\u001b[34m#metrics {\"StartTime\": 1682424568.6081579, \"EndTime\": 1682424568.608174, \"Dimensions\": {\"Algorithm\": \"Linear Learner\", \"Host\": \"algo-1\", \"Operation\": \"training\", \"epoch\": 8, \"model\": 6}, \"Metrics\": {\"train_absolute_loss_objective\": {\"sum\": 0.22831756353378296, \"count\": 1, \"min\": 0.22831756353378296, \"max\": 0.22831756353378296}}}\u001b[0m\n",
      "\u001b[34m#metrics {\"StartTime\": 1682424568.6082218, \"EndTime\": 1682424568.6082375, \"Dimensions\": {\"Algorithm\": \"Linear Learner\", \"Host\": \"algo-1\", \"Operation\": \"training\", \"epoch\": 8, \"model\": 7}, \"Metrics\": {\"train_absolute_loss_objective\": {\"sum\": 0.17393304347991945, \"count\": 1, \"min\": 0.17393304347991945, \"max\": 0.17393304347991945}}}\u001b[0m\n",
      "\u001b[34m#metrics {\"StartTime\": 1682424568.608299, \"EndTime\": 1682424568.608316, \"Dimensions\": {\"Algorithm\": \"Linear Learner\", \"Host\": \"algo-1\", \"Operation\": \"training\", \"epoch\": 8, \"model\": 8}, \"Metrics\": {\"train_absolute_loss_objective\": {\"sum\": 0.7720701026916504, \"count\": 1, \"min\": 0.7720701026916504, \"max\": 0.7720701026916504}}}\u001b[0m\n",
      "\u001b[34m#metrics {\"StartTime\": 1682424568.6083682, \"EndTime\": 1682424568.6083844, \"Dimensions\": {\"Algorithm\": \"Linear Learner\", \"Host\": \"algo-1\", \"Operation\": \"training\", \"epoch\": 8, \"model\": 9}, \"Metrics\": {\"train_absolute_loss_objective\": {\"sum\": 0.7023084831237792, \"count\": 1, \"min\": 0.7023084831237792, \"max\": 0.7023084831237792}}}\u001b[0m\n",
      "\u001b[34m#metrics {\"StartTime\": 1682424568.608434, \"EndTime\": 1682424568.608449, \"Dimensions\": {\"Algorithm\": \"Linear Learner\", \"Host\": \"algo-1\", \"Operation\": \"training\", \"epoch\": 8, \"model\": 10}, \"Metrics\": {\"train_absolute_loss_objective\": {\"sum\": 0.7117799472808838, \"count\": 1, \"min\": 0.7117799472808838, \"max\": 0.7117799472808838}}}\u001b[0m\n",
      "\u001b[34m#metrics {\"StartTime\": 1682424568.6085107, \"EndTime\": 1682424568.608528, \"Dimensions\": {\"Algorithm\": \"Linear Learner\", \"Host\": \"algo-1\", \"Operation\": \"training\", \"epoch\": 8, \"model\": 11}, \"Metrics\": {\"train_absolute_loss_objective\": {\"sum\": 0.6943187808990479, \"count\": 1, \"min\": 0.6943187808990479, \"max\": 0.6943187808990479}}}\u001b[0m\n",
      "\u001b[34m#metrics {\"StartTime\": 1682424568.6085818, \"EndTime\": 1682424568.608598, \"Dimensions\": {\"Algorithm\": \"Linear Learner\", \"Host\": \"algo-1\", \"Operation\": \"training\", \"epoch\": 8, \"model\": 12}, \"Metrics\": {\"train_absolute_loss_objective\": {\"sum\": 0.2365425395965576, \"count\": 1, \"min\": 0.2365425395965576, \"max\": 0.2365425395965576}}}\u001b[0m\n",
      "\u001b[34m#metrics {\"StartTime\": 1682424568.60865, \"EndTime\": 1682424568.608665, \"Dimensions\": {\"Algorithm\": \"Linear Learner\", \"Host\": \"algo-1\", \"Operation\": \"training\", \"epoch\": 8, \"model\": 13}, \"Metrics\": {\"train_absolute_loss_objective\": {\"sum\": 0.1845588231086731, \"count\": 1, \"min\": 0.1845588231086731, \"max\": 0.1845588231086731}}}\u001b[0m\n",
      "\u001b[34m#metrics {\"StartTime\": 1682424568.6087253, \"EndTime\": 1682424568.6087425, \"Dimensions\": {\"Algorithm\": \"Linear Learner\", \"Host\": \"algo-1\", \"Operation\": \"training\", \"epoch\": 8, \"model\": 14}, \"Metrics\": {\"train_absolute_loss_objective\": {\"sum\": 0.236316556930542, \"count\": 1, \"min\": 0.236316556930542, \"max\": 0.236316556930542}}}\u001b[0m\n",
      "\u001b[34m#metrics {\"StartTime\": 1682424568.6087916, \"EndTime\": 1682424568.6088076, \"Dimensions\": {\"Algorithm\": \"Linear Learner\", \"Host\": \"algo-1\", \"Operation\": \"training\", \"epoch\": 8, \"model\": 15}, \"Metrics\": {\"train_absolute_loss_objective\": {\"sum\": 0.2384395694732666, \"count\": 1, \"min\": 0.2384395694732666, \"max\": 0.2384395694732666}}}\u001b[0m\n",
      "\u001b[34m#metrics {\"StartTime\": 1682424568.6088548, \"EndTime\": 1682424568.6088705, \"Dimensions\": {\"Algorithm\": \"Linear Learner\", \"Host\": \"algo-1\", \"Operation\": \"training\", \"epoch\": 8, \"model\": 16}, \"Metrics\": {\"train_absolute_loss_objective\": {\"sum\": 0.6873825073242188, \"count\": 1, \"min\": 0.6873825073242188, \"max\": 0.6873825073242188}}}\u001b[0m\n",
      "\u001b[34m#metrics {\"StartTime\": 1682424568.608934, \"EndTime\": 1682424568.608951, \"Dimensions\": {\"Algorithm\": \"Linear Learner\", \"Host\": \"algo-1\", \"Operation\": \"training\", \"epoch\": 8, \"model\": 17}, \"Metrics\": {\"train_absolute_loss_objective\": {\"sum\": 0.7343273544311524, \"count\": 1, \"min\": 0.7343273544311524, \"max\": 0.7343273544311524}}}\u001b[0m\n",
      "\u001b[34m#metrics {\"StartTime\": 1682424568.6090145, \"EndTime\": 1682424568.6090312, \"Dimensions\": {\"Algorithm\": \"Linear Learner\", \"Host\": \"algo-1\", \"Operation\": \"training\", \"epoch\": 8, \"model\": 18}, \"Metrics\": {\"train_absolute_loss_objective\": {\"sum\": 0.71356614112854, \"count\": 1, \"min\": 0.71356614112854, \"max\": 0.71356614112854}}}\u001b[0m\n",
      "\u001b[34m#metrics {\"StartTime\": 1682424568.6090858, \"EndTime\": 1682424568.6091015, \"Dimensions\": {\"Algorithm\": \"Linear Learner\", \"Host\": \"algo-1\", \"Operation\": \"training\", \"epoch\": 8, \"model\": 19}, \"Metrics\": {\"train_absolute_loss_objective\": {\"sum\": 0.7082850551605224, \"count\": 1, \"min\": 0.7082850551605224, \"max\": 0.7082850551605224}}}\u001b[0m\n",
      "\u001b[34m#metrics {\"StartTime\": 1682424568.6092024, \"EndTime\": 1682424568.6092224, \"Dimensions\": {\"Algorithm\": \"Linear Learner\", \"Host\": \"algo-1\", \"Operation\": \"training\", \"epoch\": 8, \"model\": 20}, \"Metrics\": {\"train_absolute_loss_objective\": {\"sum\": 0.3323718547821045, \"count\": 1, \"min\": 0.3323718547821045, \"max\": 0.3323718547821045}}}\u001b[0m\n",
      "\u001b[34m#metrics {\"StartTime\": 1682424568.6092927, \"EndTime\": 1682424568.60931, \"Dimensions\": {\"Algorithm\": \"Linear Learner\", \"Host\": \"algo-1\", \"Operation\": \"training\", \"epoch\": 8, \"model\": 21}, \"Metrics\": {\"train_absolute_loss_objective\": {\"sum\": 0.3322393703460693, \"count\": 1, \"min\": 0.3322393703460693, \"max\": 0.3322393703460693}}}\u001b[0m\n",
      "\u001b[34m#metrics {\"StartTime\": 1682424568.6093602, \"EndTime\": 1682424568.609375, \"Dimensions\": {\"Algorithm\": \"Linear Learner\", \"Host\": \"algo-1\", \"Operation\": \"training\", \"epoch\": 8, \"model\": 22}, \"Metrics\": {\"train_absolute_loss_objective\": {\"sum\": 0.23797908306121826, \"count\": 1, \"min\": 0.23797908306121826, \"max\": 0.23797908306121826}}}\u001b[0m\n",
      "\u001b[34m#metrics {\"StartTime\": 1682424568.6094282, \"EndTime\": 1682424568.609444, \"Dimensions\": {\"Algorithm\": \"Linear Learner\", \"Host\": \"algo-1\", \"Operation\": \"training\", \"epoch\": 8, \"model\": 23}, \"Metrics\": {\"train_absolute_loss_objective\": {\"sum\": 0.34266489028930663, \"count\": 1, \"min\": 0.34266489028930663, \"max\": 0.34266489028930663}}}\u001b[0m\n",
      "\u001b[34m#metrics {\"StartTime\": 1682424568.6094942, \"EndTime\": 1682424568.6095097, \"Dimensions\": {\"Algorithm\": \"Linear Learner\", \"Host\": \"algo-1\", \"Operation\": \"training\", \"epoch\": 8, \"model\": 24}, \"Metrics\": {\"train_absolute_loss_objective\": {\"sum\": 0.8848345565795899, \"count\": 1, \"min\": 0.8848345565795899, \"max\": 0.8848345565795899}}}\u001b[0m\n",
      "\u001b[34m#metrics {\"StartTime\": 1682424568.6095586, \"EndTime\": 1682424568.6095738, \"Dimensions\": {\"Algorithm\": \"Linear Learner\", \"Host\": \"algo-1\", \"Operation\": \"training\", \"epoch\": 8, \"model\": 25}, \"Metrics\": {\"train_absolute_loss_objective\": {\"sum\": 0.889232473373413, \"count\": 1, \"min\": 0.889232473373413, \"max\": 0.889232473373413}}}\u001b[0m\n",
      "\u001b[34m#metrics {\"StartTime\": 1682424568.6096177, \"EndTime\": 1682424568.6096323, \"Dimensions\": {\"Algorithm\": \"Linear Learner\", \"Host\": \"algo-1\", \"Operation\": \"training\", \"epoch\": 8, \"model\": 26}, \"Metrics\": {\"train_absolute_loss_objective\": {\"sum\": 0.8880061149597168, \"count\": 1, \"min\": 0.8880061149597168, \"max\": 0.8880061149597168}}}\u001b[0m\n",
      "\u001b[34m#metrics {\"StartTime\": 1682424568.6096888, \"EndTime\": 1682424568.6097052, \"Dimensions\": {\"Algorithm\": \"Linear Learner\", \"Host\": \"algo-1\", \"Operation\": \"training\", \"epoch\": 8, \"model\": 27}, \"Metrics\": {\"train_absolute_loss_objective\": {\"sum\": 0.887982702255249, \"count\": 1, \"min\": 0.887982702255249, \"max\": 0.887982702255249}}}\u001b[0m\n",
      "\u001b[34m#metrics {\"StartTime\": 1682424568.6097808, \"EndTime\": 1682424568.609799, \"Dimensions\": {\"Algorithm\": \"Linear Learner\", \"Host\": \"algo-1\", \"Operation\": \"training\", \"epoch\": 8, \"model\": 28}, \"Metrics\": {\"train_absolute_loss_objective\": {\"sum\": 0.8759413528442382, \"count\": 1, \"min\": 0.8759413528442382, \"max\": 0.8759413528442382}}}\u001b[0m\n",
      "\u001b[34m#metrics {\"StartTime\": 1682424568.609847, \"EndTime\": 1682424568.6098626, \"Dimensions\": {\"Algorithm\": \"Linear Learner\", \"Host\": \"algo-1\", \"Operation\": \"training\", \"epoch\": 8, \"model\": 29}, \"Metrics\": {\"train_absolute_loss_objective\": {\"sum\": 0.8774259090423584, \"count\": 1, \"min\": 0.8774259090423584, \"max\": 0.8774259090423584}}}\u001b[0m\n",
      "\u001b[34m#metrics {\"StartTime\": 1682424568.6099122, \"EndTime\": 1682424568.6099281, \"Dimensions\": {\"Algorithm\": \"Linear Learner\", \"Host\": \"algo-1\", \"Operation\": \"training\", \"epoch\": 8, \"model\": 30}, \"Metrics\": {\"train_absolute_loss_objective\": {\"sum\": 0.8731787204742432, \"count\": 1, \"min\": 0.8731787204742432, \"max\": 0.8731787204742432}}}\u001b[0m\n",
      "\u001b[34m#metrics {\"StartTime\": 1682424568.6099775, \"EndTime\": 1682424568.6099937, \"Dimensions\": {\"Algorithm\": \"Linear Learner\", \"Host\": \"algo-1\", \"Operation\": \"training\", \"epoch\": 8, \"model\": 31}, \"Metrics\": {\"train_absolute_loss_objective\": {\"sum\": 0.883844575881958, \"count\": 1, \"min\": 0.883844575881958, \"max\": 0.883844575881958}}}\u001b[0m\n",
      "\u001b[34m[04/25/2023 12:09:28 INFO 139915425793856] #quality_metric: host=algo-1, epoch=8, train absolute_loss_objective <loss>=0.7169816398620605\u001b[0m\n",
      "\u001b[34m[04/25/2023 12:09:28 INFO 139915425793856] #early_stopping_criteria_metric: host=algo-1, epoch=8, criteria=absolute_loss_objective, value=0.17393304347991945\u001b[0m\n",
      "\u001b[34m[04/25/2023 12:09:28 INFO 139915425793856] Saving model for epoch: 8\u001b[0m\n",
      "\u001b[34m[04/25/2023 12:09:28 INFO 139915425793856] Saved checkpoint to \"/tmp/tmpgmep0kih/mx-mod-0000.params\"\u001b[0m\n",
      "\u001b[34m[04/25/2023 12:09:28 INFO 139915425793856] #progress_metric: host=algo-1, completed 18.0 % of epochs\u001b[0m\n",
      "\u001b[34m#metrics {\"StartTime\": 1682424568.515234, \"EndTime\": 1682424568.617691, \"Dimensions\": {\"Algorithm\": \"Linear Learner\", \"Host\": \"algo-1\", \"Operation\": \"training\", \"epoch\": 8, \"Meta\": \"training_data_iter\"}, \"Metrics\": {\"Total Records Seen\": {\"sum\": 265.0, \"count\": 1, \"min\": 265, \"max\": 265}, \"Total Batches Seen\": {\"sum\": 61.0, \"count\": 1, \"min\": 61, \"max\": 61}, \"Max Records Seen Between Resets\": {\"sum\": 26.0, \"count\": 1, \"min\": 26, \"max\": 26}, \"Max Batches Seen Between Resets\": {\"sum\": 6.0, \"count\": 1, \"min\": 6, \"max\": 6}, \"Reset Count\": {\"sum\": 11.0, \"count\": 1, \"min\": 11, \"max\": 11}, \"Number of Records Since Last Reset\": {\"sum\": 26.0, \"count\": 1, \"min\": 26, \"max\": 26}, \"Number of Batches Since Last Reset\": {\"sum\": 6.0, \"count\": 1, \"min\": 6, \"max\": 6}}}\u001b[0m\n",
      "\u001b[34m[04/25/2023 12:09:28 INFO 139915425793856] #throughput_metric: host=algo-1, train throughput=253.3204116239634 records/second\u001b[0m\n",
      "\u001b[34m[2023-04-25 12:09:28.727] [tensorio] [info] epoch_stats={\"data_pipeline\": \"/opt/ml/input/data/train\", \"epoch\": 22, \"duration\": 108, \"num_examples\": 6, \"num_bytes\": 1248}\u001b[0m\n",
      "\u001b[34m#metrics {\"StartTime\": 1682424568.7272203, \"EndTime\": 1682424568.7273011, \"Dimensions\": {\"Algorithm\": \"Linear Learner\", \"Host\": \"algo-1\", \"Operation\": \"training\", \"epoch\": 9, \"model\": 0}, \"Metrics\": {\"train_absolute_loss_objective\": {\"sum\": 0.6966448307037354, \"count\": 1, \"min\": 0.6966448307037354, \"max\": 0.6966448307037354}}}\u001b[0m\n",
      "\u001b[34m#metrics {\"StartTime\": 1682424568.7273998, \"EndTime\": 1682424568.7274194, \"Dimensions\": {\"Algorithm\": \"Linear Learner\", \"Host\": \"algo-1\", \"Operation\": \"training\", \"epoch\": 9, \"model\": 1}, \"Metrics\": {\"train_absolute_loss_objective\": {\"sum\": 0.7123581409454346, \"count\": 1, \"min\": 0.7123581409454346, \"max\": 0.7123581409454346}}}\u001b[0m\n",
      "\u001b[34m#metrics {\"StartTime\": 1682424568.727478, \"EndTime\": 1682424568.7274952, \"Dimensions\": {\"Algorithm\": \"Linear Learner\", \"Host\": \"algo-1\", \"Operation\": \"training\", \"epoch\": 9, \"model\": 2}, \"Metrics\": {\"train_absolute_loss_objective\": {\"sum\": 0.6989357185363769, \"count\": 1, \"min\": 0.6989357185363769, \"max\": 0.6989357185363769}}}\u001b[0m\n",
      "\u001b[34m#metrics {\"StartTime\": 1682424568.7275512, \"EndTime\": 1682424568.727568, \"Dimensions\": {\"Algorithm\": \"Linear Learner\", \"Host\": \"algo-1\", \"Operation\": \"training\", \"epoch\": 9, \"model\": 3}, \"Metrics\": {\"train_absolute_loss_objective\": {\"sum\": 0.7113916683197021, \"count\": 1, \"min\": 0.7113916683197021, \"max\": 0.7113916683197021}}}\u001b[0m\n",
      "\u001b[34m#metrics {\"StartTime\": 1682424568.7276194, \"EndTime\": 1682424568.7276337, \"Dimensions\": {\"Algorithm\": \"Linear Learner\", \"Host\": \"algo-1\", \"Operation\": \"training\", \"epoch\": 9, \"model\": 4}, \"Metrics\": {\"train_absolute_loss_objective\": {\"sum\": 0.28363626956939697, \"count\": 1, \"min\": 0.28363626956939697, \"max\": 0.28363626956939697}}}\u001b[0m\n",
      "\u001b[34m#metrics {\"StartTime\": 1682424568.7276933, \"EndTime\": 1682424568.72771, \"Dimensions\": {\"Algorithm\": \"Linear Learner\", \"Host\": \"algo-1\", \"Operation\": \"training\", \"epoch\": 9, \"model\": 5}, \"Metrics\": {\"train_absolute_loss_objective\": {\"sum\": 0.25093369007110594, \"count\": 1, \"min\": 0.25093369007110594, \"max\": 0.25093369007110594}}}\u001b[0m\n",
      "\u001b[34m#metrics {\"StartTime\": 1682424568.7277644, \"EndTime\": 1682424568.7277808, \"Dimensions\": {\"Algorithm\": \"Linear Learner\", \"Host\": \"algo-1\", \"Operation\": \"training\", \"epoch\": 9, \"model\": 6}, \"Metrics\": {\"train_absolute_loss_objective\": {\"sum\": 0.1941029143333435, \"count\": 1, \"min\": 0.1941029143333435, \"max\": 0.1941029143333435}}}\u001b[0m\n",
      "\u001b[34m#metrics {\"StartTime\": 1682424568.7278905, \"EndTime\": 1682424568.7279105, \"Dimensions\": {\"Algorithm\": \"Linear Learner\", \"Host\": \"algo-1\", \"Operation\": \"training\", \"epoch\": 9, \"model\": 7}, \"Metrics\": {\"train_absolute_loss_objective\": {\"sum\": 0.17779133558273316, \"count\": 1, \"min\": 0.17779133558273316, \"max\": 0.17779133558273316}}}\u001b[0m\n",
      "\u001b[34m#metrics {\"StartTime\": 1682424568.7279632, \"EndTime\": 1682424568.7279797, \"Dimensions\": {\"Algorithm\": \"Linear Learner\", \"Host\": \"algo-1\", \"Operation\": \"training\", \"epoch\": 9, \"model\": 8}, \"Metrics\": {\"train_absolute_loss_objective\": {\"sum\": 0.7510587978363037, \"count\": 1, \"min\": 0.7510587978363037, \"max\": 0.7510587978363037}}}\u001b[0m\n",
      "\u001b[34m#metrics {\"StartTime\": 1682424568.7280295, \"EndTime\": 1682424568.7280464, \"Dimensions\": {\"Algorithm\": \"Linear Learner\", \"Host\": \"algo-1\", \"Operation\": \"training\", \"epoch\": 9, \"model\": 9}, \"Metrics\": {\"train_absolute_loss_objective\": {\"sum\": 0.682083854675293, \"count\": 1, \"min\": 0.682083854675293, \"max\": 0.682083854675293}}}\u001b[0m\n",
      "\u001b[34m#metrics {\"StartTime\": 1682424568.7281103, \"EndTime\": 1682424568.7281268, \"Dimensions\": {\"Algorithm\": \"Linear Learner\", \"Host\": \"algo-1\", \"Operation\": \"training\", \"epoch\": 9, \"model\": 10}, \"Metrics\": {\"train_absolute_loss_objective\": {\"sum\": 0.6916421413421631, \"count\": 1, \"min\": 0.6916421413421631, \"max\": 0.6916421413421631}}}\u001b[0m\n",
      "\u001b[34m#metrics {\"StartTime\": 1682424568.728183, \"EndTime\": 1682424568.7281992, \"Dimensions\": {\"Algorithm\": \"Linear Learner\", \"Host\": \"algo-1\", \"Operation\": \"training\", \"epoch\": 9, \"model\": 11}, \"Metrics\": {\"train_absolute_loss_objective\": {\"sum\": 0.6730655431747437, \"count\": 1, \"min\": 0.6730655431747437, \"max\": 0.6730655431747437}}}\u001b[0m\n",
      "\u001b[34m#metrics {\"StartTime\": 1682424568.7282522, \"EndTime\": 1682424568.7282674, \"Dimensions\": {\"Algorithm\": \"Linear Learner\", \"Host\": \"algo-1\", \"Operation\": \"training\", \"epoch\": 9, \"model\": 12}, \"Metrics\": {\"train_absolute_loss_objective\": {\"sum\": 0.27155566692352295, \"count\": 1, \"min\": 0.27155566692352295, \"max\": 0.27155566692352295}}}\u001b[0m\n",
      "\u001b[34m#metrics {\"StartTime\": 1682424568.728321, \"EndTime\": 1682424568.7283382, \"Dimensions\": {\"Algorithm\": \"Linear Learner\", \"Host\": \"algo-1\", \"Operation\": \"training\", \"epoch\": 9, \"model\": 13}, \"Metrics\": {\"train_absolute_loss_objective\": {\"sum\": 0.17774672031402589, \"count\": 1, \"min\": 0.17774672031402589, \"max\": 0.17774672031402589}}}\u001b[0m\n",
      "\u001b[34m#metrics {\"StartTime\": 1682424568.7283878, \"EndTime\": 1682424568.7284048, \"Dimensions\": {\"Algorithm\": \"Linear Learner\", \"Host\": \"algo-1\", \"Operation\": \"training\", \"epoch\": 9, \"model\": 14}, \"Metrics\": {\"train_absolute_loss_objective\": {\"sum\": 0.2721050453186035, \"count\": 1, \"min\": 0.2721050453186035, \"max\": 0.2721050453186035}}}\u001b[0m\n",
      "\u001b[34m#metrics {\"StartTime\": 1682424568.7284608, \"EndTime\": 1682424568.7284765, \"Dimensions\": {\"Algorithm\": \"Linear Learner\", \"Host\": \"algo-1\", \"Operation\": \"training\", \"epoch\": 9, \"model\": 15}, \"Metrics\": {\"train_absolute_loss_objective\": {\"sum\": 0.18623093843460084, \"count\": 1, \"min\": 0.18623093843460084, \"max\": 0.18623093843460084}}}\u001b[0m\n",
      "\u001b[34m#metrics {\"StartTime\": 1682424568.7285259, \"EndTime\": 1682424568.7285416, \"Dimensions\": {\"Algorithm\": \"Linear Learner\", \"Host\": \"algo-1\", \"Operation\": \"training\", \"epoch\": 9, \"model\": 16}, \"Metrics\": {\"train_absolute_loss_objective\": {\"sum\": 0.6688986730575561, \"count\": 1, \"min\": 0.6688986730575561, \"max\": 0.6688986730575561}}}\u001b[0m\n",
      "\u001b[34m#metrics {\"StartTime\": 1682424568.7285962, \"EndTime\": 1682424568.7286139, \"Dimensions\": {\"Algorithm\": \"Linear Learner\", \"Host\": \"algo-1\", \"Operation\": \"training\", \"epoch\": 9, \"model\": 17}, \"Metrics\": {\"train_absolute_loss_objective\": {\"sum\": 0.7147468090057373, \"count\": 1, \"min\": 0.7147468090057373, \"max\": 0.7147468090057373}}}\u001b[0m\n",
      "\u001b[34m#metrics {\"StartTime\": 1682424568.7286654, \"EndTime\": 1682424568.7286806, \"Dimensions\": {\"Algorithm\": \"Linear Learner\", \"Host\": \"algo-1\", \"Operation\": \"training\", \"epoch\": 9, \"model\": 18}, \"Metrics\": {\"train_absolute_loss_objective\": {\"sum\": 0.6951238250732422, \"count\": 1, \"min\": 0.6951238250732422, \"max\": 0.6951238250732422}}}\u001b[0m\n",
      "\u001b[34m#metrics {\"StartTime\": 1682424568.7287474, \"EndTime\": 1682424568.728764, \"Dimensions\": {\"Algorithm\": \"Linear Learner\", \"Host\": \"algo-1\", \"Operation\": \"training\", \"epoch\": 9, \"model\": 19}, \"Metrics\": {\"train_absolute_loss_objective\": {\"sum\": 0.6897287559509278, \"count\": 1, \"min\": 0.6897287559509278, \"max\": 0.6897287559509278}}}\u001b[0m\n",
      "\u001b[34m#metrics {\"StartTime\": 1682424568.7288287, \"EndTime\": 1682424568.728846, \"Dimensions\": {\"Algorithm\": \"Linear Learner\", \"Host\": \"algo-1\", \"Operation\": \"training\", \"epoch\": 9, \"model\": 20}, \"Metrics\": {\"train_absolute_loss_objective\": {\"sum\": 0.25800443649291993, \"count\": 1, \"min\": 0.25800443649291993, \"max\": 0.25800443649291993}}}\u001b[0m\n",
      "\u001b[34m#metrics {\"StartTime\": 1682424568.7289097, \"EndTime\": 1682424568.728927, \"Dimensions\": {\"Algorithm\": \"Linear Learner\", \"Host\": \"algo-1\", \"Operation\": \"training\", \"epoch\": 9, \"model\": 21}, \"Metrics\": {\"train_absolute_loss_objective\": {\"sum\": 0.2572634649276733, \"count\": 1, \"min\": 0.2572634649276733, \"max\": 0.2572634649276733}}}\u001b[0m\n",
      "\u001b[34m#metrics {\"StartTime\": 1682424568.728987, \"EndTime\": 1682424568.7290056, \"Dimensions\": {\"Algorithm\": \"Linear Learner\", \"Host\": \"algo-1\", \"Operation\": \"training\", \"epoch\": 9, \"model\": 22}, \"Metrics\": {\"train_absolute_loss_objective\": {\"sum\": 0.3162575626373291, \"count\": 1, \"min\": 0.3162575626373291, \"max\": 0.3162575626373291}}}\u001b[0m\n",
      "\u001b[34m#metrics {\"StartTime\": 1682424568.7290695, \"EndTime\": 1682424568.7290866, \"Dimensions\": {\"Algorithm\": \"Linear Learner\", \"Host\": \"algo-1\", \"Operation\": \"training\", \"epoch\": 9, \"model\": 23}, \"Metrics\": {\"train_absolute_loss_objective\": {\"sum\": 0.2909777402877808, \"count\": 1, \"min\": 0.2909777402877808, \"max\": 0.2909777402877808}}}\u001b[0m\n",
      "\u001b[34m#metrics {\"StartTime\": 1682424568.7291503, \"EndTime\": 1682424568.7291672, \"Dimensions\": {\"Algorithm\": \"Linear Learner\", \"Host\": \"algo-1\", \"Operation\": \"training\", \"epoch\": 9, \"model\": 24}, \"Metrics\": {\"train_absolute_loss_objective\": {\"sum\": 0.8845979690551757, \"count\": 1, \"min\": 0.8845979690551757, \"max\": 0.8845979690551757}}}\u001b[0m\n",
      "\u001b[34m#metrics {\"StartTime\": 1682424568.7292302, \"EndTime\": 1682424568.729247, \"Dimensions\": {\"Algorithm\": \"Linear Learner\", \"Host\": \"algo-1\", \"Operation\": \"training\", \"epoch\": 9, \"model\": 25}, \"Metrics\": {\"train_absolute_loss_objective\": {\"sum\": 0.8860326480865478, \"count\": 1, \"min\": 0.8860326480865478, \"max\": 0.8860326480865478}}}\u001b[0m\n",
      "\u001b[34m#metrics {\"StartTime\": 1682424568.7293005, \"EndTime\": 1682424568.7293167, \"Dimensions\": {\"Algorithm\": \"Linear Learner\", \"Host\": \"algo-1\", \"Operation\": \"training\", \"epoch\": 9, \"model\": 26}, \"Metrics\": {\"train_absolute_loss_objective\": {\"sum\": 0.8887732410430909, \"count\": 1, \"min\": 0.8887732410430909, \"max\": 0.8887732410430909}}}\u001b[0m\n",
      "\u001b[34m#metrics {\"StartTime\": 1682424568.7293723, \"EndTime\": 1682424568.729388, \"Dimensions\": {\"Algorithm\": \"Linear Learner\", \"Host\": \"algo-1\", \"Operation\": \"training\", \"epoch\": 9, \"model\": 27}, \"Metrics\": {\"train_absolute_loss_objective\": {\"sum\": 0.8880691337585449, \"count\": 1, \"min\": 0.8880691337585449, \"max\": 0.8880691337585449}}}\u001b[0m\n",
      "\u001b[34m#metrics {\"StartTime\": 1682424568.7294562, \"EndTime\": 1682424568.729473, \"Dimensions\": {\"Algorithm\": \"Linear Learner\", \"Host\": \"algo-1\", \"Operation\": \"training\", \"epoch\": 9, \"model\": 28}, \"Metrics\": {\"train_absolute_loss_objective\": {\"sum\": 0.9121711540222168, \"count\": 1, \"min\": 0.9121711540222168, \"max\": 0.9121711540222168}}}\u001b[0m\n",
      "\u001b[34m#metrics {\"StartTime\": 1682424568.7295284, \"EndTime\": 1682424568.7295444, \"Dimensions\": {\"Algorithm\": \"Linear Learner\", \"Host\": \"algo-1\", \"Operation\": \"training\", \"epoch\": 9, \"model\": 29}, \"Metrics\": {\"train_absolute_loss_objective\": {\"sum\": 0.9121352100372314, \"count\": 1, \"min\": 0.9121352100372314, \"max\": 0.9121352100372314}}}\u001b[0m\n",
      "\u001b[34m#metrics {\"StartTime\": 1682424568.7296307, \"EndTime\": 1682424568.7296507, \"Dimensions\": {\"Algorithm\": \"Linear Learner\", \"Host\": \"algo-1\", \"Operation\": \"training\", \"epoch\": 9, \"model\": 30}, \"Metrics\": {\"train_absolute_loss_objective\": {\"sum\": 0.9146060562133789, \"count\": 1, \"min\": 0.9146060562133789, \"max\": 0.9146060562133789}}}\u001b[0m\n",
      "\u001b[34m#metrics {\"StartTime\": 1682424568.729702, \"EndTime\": 1682424568.7297447, \"Dimensions\": {\"Algorithm\": \"Linear Learner\", \"Host\": \"algo-1\", \"Operation\": \"training\", \"epoch\": 9, \"model\": 31}, \"Metrics\": {\"train_absolute_loss_objective\": {\"sum\": 0.9079215049743652, \"count\": 1, \"min\": 0.9079215049743652, \"max\": 0.9079215049743652}}}\u001b[0m\n",
      "\u001b[34m[04/25/2023 12:09:28 INFO 139915425793856] #quality_metric: host=algo-1, epoch=9, train absolute_loss_objective <loss>=0.6966448307037354\u001b[0m\n",
      "\u001b[34m[04/25/2023 12:09:28 INFO 139915425793856] #early_stopping_criteria_metric: host=algo-1, epoch=9, criteria=absolute_loss_objective, value=0.17774672031402589\u001b[0m\n",
      "\u001b[34m[04/25/2023 12:09:28 INFO 139915425793856] Saving model for epoch: 9\u001b[0m\n",
      "\u001b[34m[04/25/2023 12:09:28 INFO 139915425793856] Saved checkpoint to \"/tmp/tmpah0wr9pe/mx-mod-0000.params\"\u001b[0m\n",
      "\u001b[34m[04/25/2023 12:09:28 INFO 139915425793856] Early stop condition met. Stopping training.\u001b[0m\n",
      "\u001b[34m[04/25/2023 12:09:28 INFO 139915425793856] #progress_metric: host=algo-1, completed 100 % epochs\u001b[0m\n",
      "\u001b[34m#metrics {\"StartTime\": 1682424568.618024, \"EndTime\": 1682424568.737399, \"Dimensions\": {\"Algorithm\": \"Linear Learner\", \"Host\": \"algo-1\", \"Operation\": \"training\", \"epoch\": 9, \"Meta\": \"training_data_iter\"}, \"Metrics\": {\"Total Records Seen\": {\"sum\": 291.0, \"count\": 1, \"min\": 291, \"max\": 291}, \"Total Batches Seen\": {\"sum\": 67.0, \"count\": 1, \"min\": 67, \"max\": 67}, \"Max Records Seen Between Resets\": {\"sum\": 26.0, \"count\": 1, \"min\": 26, \"max\": 26}, \"Max Batches Seen Between Resets\": {\"sum\": 6.0, \"count\": 1, \"min\": 6, \"max\": 6}, \"Reset Count\": {\"sum\": 12.0, \"count\": 1, \"min\": 12, \"max\": 12}, \"Number of Records Since Last Reset\": {\"sum\": 26.0, \"count\": 1, \"min\": 26, \"max\": 26}, \"Number of Batches Since Last Reset\": {\"sum\": 6.0, \"count\": 1, \"min\": 6, \"max\": 6}}}\u001b[0m\n",
      "\u001b[34m[04/25/2023 12:09:28 INFO 139915425793856] #throughput_metric: host=algo-1, train throughput=217.59159737976802 records/second\u001b[0m\n",
      "\u001b[34m[04/25/2023 12:09:28 WARNING 139915425793856] wait_for_all_workers will not sync workers since the kv store is not running distributed\u001b[0m\n",
      "\u001b[34m[04/25/2023 12:09:28 WARNING 139915425793856] wait_for_all_workers will not sync workers since the kv store is not running distributed\u001b[0m\n",
      "\u001b[34m[2023-04-25 12:09:28.738] [tensorio] [info] epoch_stats={\"data_pipeline\": \"/opt/ml/input/data/train\", \"epoch\": 24, \"duration\": 0, \"num_examples\": 1, \"num_bytes\": 240}\u001b[0m\n",
      "\u001b[34m[2023-04-25 12:09:28.749] [tensorio] [info] epoch_stats={\"data_pipeline\": \"/opt/ml/input/data/train\", \"epoch\": 26, \"duration\": 8, \"num_examples\": 6, \"num_bytes\": 1248}\u001b[0m\n",
      "\u001b[34m[04/25/2023 12:09:28 INFO 139915425793856] #train_score (algo-1) : ('absolute_loss_objective', 5973.192307692308)\u001b[0m\n",
      "\u001b[34m[04/25/2023 12:09:28 INFO 139915425793856] #train_score (algo-1) : ('mse', 53569728.0)\u001b[0m\n",
      "\u001b[34m[04/25/2023 12:09:28 INFO 139915425793856] #train_score (algo-1) : ('absolute_loss', 5973.192307692308)\u001b[0m\n",
      "\u001b[34m[04/25/2023 12:09:28 INFO 139915425793856] #train_score (algo-1) : ('rmse', 7319.134375047366)\u001b[0m\n",
      "\u001b[34m[04/25/2023 12:09:28 INFO 139915425793856] #train_score (algo-1) : ('r2', 0.9502185926850423)\u001b[0m\n",
      "\u001b[34m[04/25/2023 12:09:28 INFO 139915425793856] #train_score (algo-1) : ('mae', 5973.192307692308)\u001b[0m\n",
      "\u001b[34m[04/25/2023 12:09:28 INFO 139915425793856] #quality_metric: host=algo-1, train absolute_loss_objective <loss>=5973.192307692308\u001b[0m\n",
      "\u001b[34m[04/25/2023 12:09:28 INFO 139915425793856] #quality_metric: host=algo-1, train mse <loss>=53569728.0\u001b[0m\n",
      "\u001b[34m[04/25/2023 12:09:28 INFO 139915425793856] #quality_metric: host=algo-1, train absolute_loss <loss>=5973.192307692308\u001b[0m\n",
      "\u001b[34m[04/25/2023 12:09:28 INFO 139915425793856] #quality_metric: host=algo-1, train rmse <loss>=7319.134375047366\u001b[0m\n",
      "\u001b[34m[04/25/2023 12:09:28 INFO 139915425793856] #quality_metric: host=algo-1, train r2 <loss>=0.9502185926850423\u001b[0m\n",
      "\u001b[34m[04/25/2023 12:09:28 INFO 139915425793856] #quality_metric: host=algo-1, train mae <loss>=5973.192307692308\u001b[0m\n",
      "\u001b[34m[04/25/2023 12:09:28 INFO 139915425793856] Best model found for hyperparameters: {\"optimizer\": \"adam\", \"learning_rate\": 0.1, \"wd\": 0.01, \"l1\": 0.0, \"lr_scheduler_step\": 100, \"lr_scheduler_factor\": 0.99, \"lr_scheduler_minimum_lr\": 0.0001}\u001b[0m\n",
      "\u001b[34m[04/25/2023 12:09:28 INFO 139915425793856] Saved checkpoint to \"/tmp/tmpuzgf4jz4/mx-mod-0000.params\"\u001b[0m\n",
      "\u001b[34m[04/25/2023 12:09:28 INFO 139915425793856] Test data is not provided.\u001b[0m\n",
      "\u001b[34m#metrics {\"StartTime\": 1682424567.4291832, \"EndTime\": 1682424568.7564132, \"Dimensions\": {\"Algorithm\": \"Linear Learner\", \"Host\": \"algo-1\", \"Operation\": \"training\"}, \"Metrics\": {\"initialize.time\": {\"sum\": 165.88807106018066, \"count\": 1, \"min\": 165.88807106018066, \"max\": 165.88807106018066}, \"epochs\": {\"sum\": 50.0, \"count\": 1, \"min\": 50, \"max\": 50}, \"check_early_stopping.time\": {\"sum\": 7.033824920654297, \"count\": 10, \"min\": 0.15807151794433594, \"max\": 1.3072490692138672}, \"update.time\": {\"sum\": 1104.5112609863281, \"count\": 10, \"min\": 94.85983848571777, \"max\": 119.93741989135742}, \"finalize.time\": {\"sum\": 13.753175735473633, \"count\": 1, \"min\": 13.753175735473633, \"max\": 13.753175735473633}, \"setuptime\": {\"sum\": 2.210855484008789, \"count\": 1, \"min\": 2.210855484008789, \"max\": 2.210855484008789}, \"totaltime\": {\"sum\": 1463.3352756500244, \"count\": 1, \"min\": 1463.3352756500244, \"max\": 1463.3352756500244}}}\u001b[0m\n",
      "\n",
      "2023-04-25 12:09:46 Uploading - Uploading generated training model\n",
      "2023-04-25 12:09:46 Completed - Training job completed\n",
      "Training seconds: 133\n",
      "Billable seconds: 133\n"
     ]
    }
   ],
   "source": [
    "linear = sagemaker.estimator.Estimator(container, role,\n",
    "                                       instance_count= 1,\n",
    "                                       instance_type='ml.c4.xlarge',\n",
    "                                       output_path = output_location,\n",
    "                                       sagemaker_session= sagemaker_sess)\n",
    "linear.set_hyperparameters(feature_dim = 1, \n",
    "                           predictor_type= 'regressor',\n",
    "                           mini_batch_size = 5, \n",
    "                           epochs = 50,\n",
    "                           num_models = 32,\n",
    "                           loss = 'absolute_loss' ) \n",
    "\n",
    "#pass training data from S3 \n",
    "linear.fit({'train': s3_train_data})"
   ]
  },
  {
   "cell_type": "markdown",
   "id": "d902aa0c-ff18-4dcc-b482-4de4a0afa6d1",
   "metadata": {},
   "source": [
    "#### for optimized price, use spot instances instead! "
   ]
  },
  {
   "cell_type": "markdown",
   "id": "c2b49091-cb83-4b06-b1c8-e4d22eff4143",
   "metadata": {},
   "source": [
    "#### 7. Deploy model "
   ]
  },
  {
   "cell_type": "code",
   "execution_count": 47,
   "id": "dbf7c9c9-93b2-453a-8a87-59842aab7a0a",
   "metadata": {
    "tags": []
   },
   "outputs": [
    {
     "name": "stderr",
     "output_type": "stream",
     "text": [
      "INFO:sagemaker:Creating model with name: linear-learner-2023-04-25-12-21-39-780\n",
      "INFO:sagemaker:Creating endpoint-config with name linear-learner-2023-04-25-12-21-39-780\n",
      "INFO:sagemaker:Creating endpoint with name linear-learner-2023-04-25-12-21-39-780\n"
     ]
    },
    {
     "name": "stdout",
     "output_type": "stream",
     "text": [
      "------!"
     ]
    }
   ],
   "source": [
    "linear_regressor= linear.deploy(initial_instance_count = 1, instance_type = 'ml.c4.4xlarge')"
   ]
  },
  {
   "cell_type": "markdown",
   "id": "788d7296-ff76-492f-87d7-4b8ed59dd409",
   "metadata": {},
   "source": [
    "#### 8. Pass data in text/csv format"
   ]
  },
  {
   "cell_type": "code",
   "execution_count": 55,
   "id": "80685f79-0944-446f-9519-aea5b6804daa",
   "metadata": {
    "tags": []
   },
   "outputs": [],
   "source": [
    "linear_regressor.serializer = sagemaker.serializers.CSVSerializer() \n",
    "linear_regressor.deserializer = sagemaker.deserializers.JSONDeserializer()"
   ]
  },
  {
   "cell_type": "markdown",
   "id": "ad66fd29-671d-4f75-81d1-65027a45cf5f",
   "metadata": {},
   "source": [
    "#### 9. Predicting on test data "
   ]
  },
  {
   "cell_type": "code",
   "execution_count": 56,
   "id": "0ef6aba3-8375-462f-be62-45e4a2212e63",
   "metadata": {
    "tags": []
   },
   "outputs": [],
   "source": [
    "result = linear_regressor.predict(X_test)"
   ]
  },
  {
   "cell_type": "code",
   "execution_count": 57,
   "id": "ca6dbac0-d63b-4441-bf94-c12cd001822b",
   "metadata": {
    "tags": []
   },
   "outputs": [
    {
     "data": {
      "text/plain": [
       "{'predictions': [{'score': 102751.8203125},\n",
       "  {'score': 40346.71875},\n",
       "  {'score': 54491.875},\n",
       "  {'score': 71965.3046875},\n",
       "  {'score': 93599.0703125},\n",
       "  {'score': 60316.3515625},\n",
       "  {'score': 130210.0703125},\n",
       "  {'score': 86942.53125},\n",
       "  {'score': 51995.671875}]}"
      ]
     },
     "execution_count": 57,
     "metadata": {},
     "output_type": "execute_result"
    }
   ],
   "source": [
    "result #in JSON format"
   ]
  },
  {
   "cell_type": "code",
   "execution_count": 59,
   "id": "41110af9-25a4-4d0e-b2db-945fc87cff48",
   "metadata": {
    "tags": []
   },
   "outputs": [
    {
     "data": {
      "text/plain": [
       "array([102751.8203125,  40346.71875  ,  54491.875    ,  71965.3046875,\n",
       "        93599.0703125,  60316.3515625, 130210.0703125,  86942.53125  ,\n",
       "        51995.671875 ])"
      ]
     },
     "execution_count": 59,
     "metadata": {},
     "output_type": "execute_result"
    }
   ],
   "source": [
    "# transform JSON --> numpy array\n",
    "predictions = np.array([r['score'] for r in result['predictions']])\n",
    "predictions"
   ]
  },
  {
   "cell_type": "markdown",
   "id": "9034dbde-cf08-40de-97cb-69649800b498",
   "metadata": {},
   "source": [
    "#### 10. Visualize test results"
   ]
  },
  {
   "cell_type": "code",
   "execution_count": 60,
   "id": "f4e5f58b-b053-408a-855e-52a743168511",
   "metadata": {
    "tags": []
   },
   "outputs": [
    {
     "data": {
      "image/png": "[encoded data removed]",
      "text/plain": [
       "<Figure size 640x480 with 1 Axes>"
      ]
     },
     "metadata": {},
     "output_type": "display_data"
    }
   ],
   "source": [
    "plt.scatter(X_test,y_test, color='blue')\n",
    "plt.plot(X_test, predictions, color='red')\n",
    "plt.ylabel('Salary')\n",
    "plt.xlabel('Years of Experience')\n",
    "plt.show()"
   ]
  },
  {
   "cell_type": "markdown",
   "id": "77cc98f6-02c8-4a47-aa18-e1cae3606ba7",
   "metadata": {},
   "source": [
    "#### 11. Delete the endpoint "
   ]
  },
  {
   "cell_type": "code",
   "execution_count": 62,
   "id": "f9dd42a3-67d5-4bb6-83c4-9420715ca538",
   "metadata": {
    "tags": []
   },
   "outputs": [
    {
     "name": "stderr",
     "output_type": "stream",
     "text": [
      "INFO:sagemaker:Deleting endpoint configuration with name: linear-learner-2023-04-25-12-21-39-780\n",
      "INFO:sagemaker:Deleting endpoint with name: linear-learner-2023-04-25-12-21-39-780\n"
     ]
    }
   ],
   "source": [
    "linear_regressor.delete_endpoint()"
   ]
  },
  {
   "cell_type": "code",
   "execution_count": null,
   "id": "5aaca95c-309f-49a7-88ef-ae82c16e7cb9",
   "metadata": {},
   "outputs": [],
   "source": []
  }
 ],
 "metadata": {
  "availableInstances": [
   {
    "_defaultOrder": 0,
    "_isFastLaunch": true,
    "category": "General purpose",
    "gpuNum": 0,
    "hideHardwareSpecs": false,
    "memoryGiB": 4,
    "name": "ml.t3.medium",
    "vcpuNum": 2
   },
   {
    "_defaultOrder": 1,
    "_isFastLaunch": false,
    "category": "General purpose",
    "gpuNum": 0,
    "hideHardwareSpecs": false,
    "memoryGiB": 8,
    "name": "ml.t3.large",
    "vcpuNum": 2
   },
   {
    "_defaultOrder": 2,
    "_isFastLaunch": false,
    "category": "General purpose",
    "gpuNum": 0,
    "hideHardwareSpecs": false,
    "memoryGiB": 16,
    "name": "ml.t3.xlarge",
    "vcpuNum": 4
   },
   {
    "_defaultOrder": 3,
    "_isFastLaunch": false,
    "category": "General purpose",
    "gpuNum": 0,
    "hideHardwareSpecs": false,
    "memoryGiB": 32,
    "name": "ml.t3.2xlarge",
    "vcpuNum": 8
   },
   {
    "_defaultOrder": 4,
    "_isFastLaunch": true,
    "category": "General purpose",
    "gpuNum": 0,
    "hideHardwareSpecs": false,
    "memoryGiB": 8,
    "name": "ml.m5.large",
    "vcpuNum": 2
   },
   {
    "_defaultOrder": 5,
    "_isFastLaunch": false,
    "category": "General purpose",
    "gpuNum": 0,
    "hideHardwareSpecs": false,
    "memoryGiB": 16,
    "name": "ml.m5.xlarge",
    "vcpuNum": 4
   },
   {
    "_defaultOrder": 6,
    "_isFastLaunch": false,
    "category": "General purpose",
    "gpuNum": 0,
    "hideHardwareSpecs": false,
    "memoryGiB": 32,
    "name": "ml.m5.2xlarge",
    "vcpuNum": 8
   },
   {
    "_defaultOrder": 7,
    "_isFastLaunch": false,
    "category": "General purpose",
    "gpuNum": 0,
    "hideHardwareSpecs": false,
    "memoryGiB": 64,
    "name": "ml.m5.4xlarge",
    "vcpuNum": 16
   },
   {
    "_defaultOrder": 8,
    "_isFastLaunch": false,
    "category": "General purpose",
    "gpuNum": 0,
    "hideHardwareSpecs": false,
    "memoryGiB": 128,
    "name": "ml.m5.8xlarge",
    "vcpuNum": 32
   },
   {
    "_defaultOrder": 9,
    "_isFastLaunch": false,
    "category": "General purpose",
    "gpuNum": 0,
    "hideHardwareSpecs": false,
    "memoryGiB": 192,
    "name": "ml.m5.12xlarge",
    "vcpuNum": 48
   },
   {
    "_defaultOrder": 10,
    "_isFastLaunch": false,
    "category": "General purpose",
    "gpuNum": 0,
    "hideHardwareSpecs": false,
    "memoryGiB": 256,
    "name": "ml.m5.16xlarge",
    "vcpuNum": 64
   },
   {
    "_defaultOrder": 11,
    "_isFastLaunch": false,
    "category": "General purpose",
    "gpuNum": 0,
    "hideHardwareSpecs": false,
    "memoryGiB": 384,
    "name": "ml.m5.24xlarge",
    "vcpuNum": 96
   },
   {
    "_defaultOrder": 12,
    "_isFastLaunch": false,
    "category": "General purpose",
    "gpuNum": 0,
    "hideHardwareSpecs": false,
    "memoryGiB": 8,
    "name": "ml.m5d.large",
    "vcpuNum": 2
   },
   {
    "_defaultOrder": 13,
    "_isFastLaunch": false,
    "category": "General purpose",
    "gpuNum": 0,
    "hideHardwareSpecs": false,
    "memoryGiB": 16,
    "name": "ml.m5d.xlarge",
    "vcpuNum": 4
   },
   {
    "_defaultOrder": 14,
    "_isFastLaunch": false,
    "category": "General purpose",
    "gpuNum": 0,
    "hideHardwareSpecs": false,
    "memoryGiB": 32,
    "name": "ml.m5d.2xlarge",
    "vcpuNum": 8
   },
   {
    "_defaultOrder": 15,
    "_isFastLaunch": false,
    "category": "General purpose",
    "gpuNum": 0,
    "hideHardwareSpecs": false,
    "memoryGiB": 64,
    "name": "ml.m5d.4xlarge",
    "vcpuNum": 16
   },
   {
    "_defaultOrder": 16,
    "_isFastLaunch": false,
    "category": "General purpose",
    "gpuNum": 0,
    "hideHardwareSpecs": false,
    "memoryGiB": 128,
    "name": "ml.m5d.8xlarge",
    "vcpuNum": 32
   },
   {
    "_defaultOrder": 17,
    "_isFastLaunch": false,
    "category": "General purpose",
    "gpuNum": 0,
    "hideHardwareSpecs": false,
    "memoryGiB": 192,
    "name": "ml.m5d.12xlarge",
    "vcpuNum": 48
   },
   {
    "_defaultOrder": 18,
    "_isFastLaunch": false,
    "category": "General purpose",
    "gpuNum": 0,
    "hideHardwareSpecs": false,
    "memoryGiB": 256,
    "name": "ml.m5d.16xlarge",
    "vcpuNum": 64
   },
   {
    "_defaultOrder": 19,
    "_isFastLaunch": false,
    "category": "General purpose",
    "gpuNum": 0,
    "hideHardwareSpecs": false,
    "memoryGiB": 384,
    "name": "ml.m5d.24xlarge",
    "vcpuNum": 96
   },
   {
    "_defaultOrder": 20,
    "_isFastLaunch": false,
    "category": "General purpose",
    "gpuNum": 0,
    "hideHardwareSpecs": true,
    "memoryGiB": 0,
    "name": "ml.geospatial.interactive",
    "supportedImageNames": [
     "sagemaker-geospatial-v1-0"
    ],
    "vcpuNum": 0
   },
   {
    "_defaultOrder": 21,
    "_isFastLaunch": true,
    "category": "Compute optimized",
    "gpuNum": 0,
    "hideHardwareSpecs": false,
    "memoryGiB": 4,
    "name": "ml.c5.large",
    "vcpuNum": 2
   },
   {
    "_defaultOrder": 22,
    "_isFastLaunch": false,
    "category": "Compute optimized",
    "gpuNum": 0,
    "hideHardwareSpecs": false,
    "memoryGiB": 8,
    "name": "ml.c5.xlarge",
    "vcpuNum": 4
   },
   {
    "_defaultOrder": 23,
    "_isFastLaunch": false,
    "category": "Compute optimized",
    "gpuNum": 0,
    "hideHardwareSpecs": false,
    "memoryGiB": 16,
    "name": "ml.c5.2xlarge",
    "vcpuNum": 8
   },
   {
    "_defaultOrder": 24,
    "_isFastLaunch": false,
    "category": "Compute optimized",
    "gpuNum": 0,
    "hideHardwareSpecs": false,
    "memoryGiB": 32,
    "name": "ml.c5.4xlarge",
    "vcpuNum": 16
   },
   {
    "_defaultOrder": 25,
    "_isFastLaunch": false,
    "category": "Compute optimized",
    "gpuNum": 0,
    "hideHardwareSpecs": false,
    "memoryGiB": 72,
    "name": "ml.c5.9xlarge",
    "vcpuNum": 36
   },
   {
    "_defaultOrder": 26,
    "_isFastLaunch": false,
    "category": "Compute optimized",
    "gpuNum": 0,
    "hideHardwareSpecs": false,
    "memoryGiB": 96,
    "name": "ml.c5.12xlarge",
    "vcpuNum": 48
   },
   {
    "_defaultOrder": 27,
    "_isFastLaunch": false,
    "category": "Compute optimized",
    "gpuNum": 0,
    "hideHardwareSpecs": false,
    "memoryGiB": 144,
    "name": "ml.c5.18xlarge",
    "vcpuNum": 72
   },
   {
    "_defaultOrder": 28,
    "_isFastLaunch": false,
    "category": "Compute optimized",
    "gpuNum": 0,
    "hideHardwareSpecs": false,
    "memoryGiB": 192,
    "name": "ml.c5.24xlarge",
    "vcpuNum": 96
   },
   {
    "_defaultOrder": 29,
    "_isFastLaunch": true,
    "category": "Accelerated computing",
    "gpuNum": 1,
    "hideHardwareSpecs": false,
    "memoryGiB": 16,
    "name": "ml.g4dn.xlarge",
    "vcpuNum": 4
   },
   {
    "_defaultOrder": 30,
    "_isFastLaunch": false,
    "category": "Accelerated computing",
    "gpuNum": 1,
    "hideHardwareSpecs": false,
    "memoryGiB": 32,
    "name": "ml.g4dn.2xlarge",
    "vcpuNum": 8
   },
   {
    "_defaultOrder": 31,
    "_isFastLaunch": false,
    "category": "Accelerated computing",
    "gpuNum": 1,
    "hideHardwareSpecs": false,
    "memoryGiB": 64,
    "name": "ml.g4dn.4xlarge",
    "vcpuNum": 16
   },
   {
    "_defaultOrder": 32,
    "_isFastLaunch": false,
    "category": "Accelerated computing",
    "gpuNum": 1,
    "hideHardwareSpecs": false,
    "memoryGiB": 128,
    "name": "ml.g4dn.8xlarge",
    "vcpuNum": 32
   },
   {
    "_defaultOrder": 33,
    "_isFastLaunch": false,
    "category": "Accelerated computing",
    "gpuNum": 4,
    "hideHardwareSpecs": false,
    "memoryGiB": 192,
    "name": "ml.g4dn.12xlarge",
    "vcpuNum": 48
   },
   {
    "_defaultOrder": 34,
    "_isFastLaunch": false,
    "category": "Accelerated computing",
    "gpuNum": 1,
    "hideHardwareSpecs": false,
    "memoryGiB": 256,
    "name": "ml.g4dn.16xlarge",
    "vcpuNum": 64
   },
   {
    "_defaultOrder": 35,
    "_isFastLaunch": false,
    "category": "Accelerated computing",
    "gpuNum": 1,
    "hideHardwareSpecs": false,
    "memoryGiB": 61,
    "name": "ml.p3.2xlarge",
    "vcpuNum": 8
   },
   {
    "_defaultOrder": 36,
    "_isFastLaunch": false,
    "category": "Accelerated computing",
    "gpuNum": 4,
    "hideHardwareSpecs": false,
    "memoryGiB": 244,
    "name": "ml.p3.8xlarge",
    "vcpuNum": 32
   },
   {
    "_defaultOrder": 37,
    "_isFastLaunch": false,
    "category": "Accelerated computing",
    "gpuNum": 8,
    "hideHardwareSpecs": false,
    "memoryGiB": 488,
    "name": "ml.p3.16xlarge",
    "vcpuNum": 64
   },
   {
    "_defaultOrder": 38,
    "_isFastLaunch": false,
    "category": "Accelerated computing",
    "gpuNum": 8,
    "hideHardwareSpecs": false,
    "memoryGiB": 768,
    "name": "ml.p3dn.24xlarge",
    "vcpuNum": 96
   },
   {
    "_defaultOrder": 39,
    "_isFastLaunch": false,
    "category": "Memory Optimized",
    "gpuNum": 0,
    "hideHardwareSpecs": false,
    "memoryGiB": 16,
    "name": "ml.r5.large",
    "vcpuNum": 2
   },
   {
    "_defaultOrder": 40,
    "_isFastLaunch": false,
    "category": "Memory Optimized",
    "gpuNum": 0,
    "hideHardwareSpecs": false,
    "memoryGiB": 32,
    "name": "ml.r5.xlarge",
    "vcpuNum": 4
   },
   {
    "_defaultOrder": 41,
    "_isFastLaunch": false,
    "category": "Memory Optimized",
    "gpuNum": 0,
    "hideHardwareSpecs": false,
    "memoryGiB": 64,
    "name": "ml.r5.2xlarge",
    "vcpuNum": 8
   },
   {
    "_defaultOrder": 42,
    "_isFastLaunch": false,
    "category": "Memory Optimized",
    "gpuNum": 0,
    "hideHardwareSpecs": false,
    "memoryGiB": 128,
    "name": "ml.r5.4xlarge",
    "vcpuNum": 16
   },
   {
    "_defaultOrder": 43,
    "_isFastLaunch": false,
    "category": "Memory Optimized",
    "gpuNum": 0,
    "hideHardwareSpecs": false,
    "memoryGiB": 256,
    "name": "ml.r5.8xlarge",
    "vcpuNum": 32
   },
   {
    "_defaultOrder": 44,
    "_isFastLaunch": false,
    "category": "Memory Optimized",
    "gpuNum": 0,
    "hideHardwareSpecs": false,
    "memoryGiB": 384,
    "name": "ml.r5.12xlarge",
    "vcpuNum": 48
   },
   {
    "_defaultOrder": 45,
    "_isFastLaunch": false,
    "category": "Memory Optimized",
    "gpuNum": 0,
    "hideHardwareSpecs": false,
    "memoryGiB": 512,
    "name": "ml.r5.16xlarge",
    "vcpuNum": 64
   },
   {
    "_defaultOrder": 46,
    "_isFastLaunch": false,
    "category": "Memory Optimized",
    "gpuNum": 0,
    "hideHardwareSpecs": false,
    "memoryGiB": 768,
    "name": "ml.r5.24xlarge",
    "vcpuNum": 96
   },
   {
    "_defaultOrder": 47,
    "_isFastLaunch": false,
    "category": "Accelerated computing",
    "gpuNum": 1,
    "hideHardwareSpecs": false,
    "memoryGiB": 16,
    "name": "ml.g5.xlarge",
    "vcpuNum": 4
   },
   {
    "_defaultOrder": 48,
    "_isFastLaunch": false,
    "category": "Accelerated computing",
    "gpuNum": 1,
    "hideHardwareSpecs": false,
    "memoryGiB": 32,
    "name": "ml.g5.2xlarge",
    "vcpuNum": 8
   },
   {
    "_defaultOrder": 49,
    "_isFastLaunch": false,
    "category": "Accelerated computing",
    "gpuNum": 1,
    "hideHardwareSpecs": false,
    "memoryGiB": 64,
    "name": "ml.g5.4xlarge",
    "vcpuNum": 16
   },
   {
    "_defaultOrder": 50,
    "_isFastLaunch": false,
    "category": "Accelerated computing",
    "gpuNum": 1,
    "hideHardwareSpecs": false,
    "memoryGiB": 128,
    "name": "ml.g5.8xlarge",
    "vcpuNum": 32
   },
   {
    "_defaultOrder": 51,
    "_isFastLaunch": false,
    "category": "Accelerated computing",
    "gpuNum": 1,
    "hideHardwareSpecs": false,
    "memoryGiB": 256,
    "name": "ml.g5.16xlarge",
    "vcpuNum": 64
   },
   {
    "_defaultOrder": 52,
    "_isFastLaunch": false,
    "category": "Accelerated computing",
    "gpuNum": 4,
    "hideHardwareSpecs": false,
    "memoryGiB": 192,
    "name": "ml.g5.12xlarge",
    "vcpuNum": 48
   },
   {
    "_defaultOrder": 53,
    "_isFastLaunch": false,
    "category": "Accelerated computing",
    "gpuNum": 4,
    "hideHardwareSpecs": false,
    "memoryGiB": 384,
    "name": "ml.g5.24xlarge",
    "vcpuNum": 96
   },
   {
    "_defaultOrder": 54,
    "_isFastLaunch": false,
    "category": "Accelerated computing",
    "gpuNum": 8,
    "hideHardwareSpecs": false,
    "memoryGiB": 768,
    "name": "ml.g5.48xlarge",
    "vcpuNum": 192
   }
  ],
  "instance_type": "ml.t3.medium",
  "kernelspec": {
   "display_name": "Python 3 (Data Science)",
   "language": "python",
   "name": "python3__SAGEMAKER_INTERNAL__arn:aws:sagemaker:us-east-1:081325390199:image/datascience-1.0"
  },
  "language_info": {
   "codemirror_mode": {
    "name": "ipython",
    "version": 3
   },
   "file_extension": ".py",
   "mimetype": "text/x-python",
   "name": "python",
   "nbconvert_exporter": "python",
   "pygments_lexer": "ipython3",
   "version": "3.7.10"
  }
 },
 "nbformat": 4,
 "nbformat_minor": 5
}
